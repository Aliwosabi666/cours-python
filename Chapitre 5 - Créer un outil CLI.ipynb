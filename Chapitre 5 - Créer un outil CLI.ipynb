{
 "cells": [
  {
   "cell_type": "markdown",
   "metadata": {},
   "source": [
    "Chapitre 5 - Créer un outil CLI\n",
    "===\n",
    "\n",
    "# CLI ?\n",
    "\n",
    "<img src=\"images/cli.png\" align=\"right\" width=\"200px\" alt=\"Image de terminal\" />\n",
    "\n",
    "CLI (ou **C**ommand **L**ine **I**nterface) s'oppose à GUI (**G**raphical **U**ser **I**nterface) : c'est un outil dont l'utilisation se fera dans un terminal. Ce genre d'interface, quoiqu'abrupte pour les débutant-e-s est bien souvent nécessaire quand l'on travaille sur des serveurs distants : ces serveurs possèdent rarement une interface graphique et seul le terminal est accessible.\n",
    "\n",
    "Par ailleurs, le développement d'interface graphique peut être très lourd dans les langages natifs, à tel point que bien souvent, aujourd'hui, on a recours à des outils comme [Electron](https://electronjs.org/) qui est en fait une installation simpliste de Chromium et a donc recours à JavaScript et HTML pour créer leur design.\n",
    "\n",
    "Alors, dans la vie de tous les jours, pourquoi avoir un script accessible en ligne de commande ? Et bien tout simplement pour accélérer quelques tâches ingrates du quotidien, ou pour éviter à avoir à écrire un fichier python avec des paramètres changeant. Car, qui dit interface, dit bien souvent paramétrisation : l'interface développée permettra de personnaliser certains paramètres (où enregistrer le résultat d'un téléchargement par exemple).\n",
    "\n",
    "\n",
    "# Développer un CLI\n",
    "\n",
    "## Avant-propos\n",
    "\n",
    "Dans ce cours, nous allons voir l'utilisation de [`Click`](http://click.palletsprojects.com/), une librairie à installer (dans votre environnement, faites `pip install click`). Qui dit librairie à installer dit généralement compétition et choix. Il existe donc d'autres librairies et je vous renvoie à cet article [*Building Beautiful Command Line Interfaces with Python*](https://codeburst.io/building-beautiful-command-line-interfaces-with-python-26c7e1bb54df) de Oyetoke Tobi Emmanuel dont une archive PDF est disponible dans le repository.\n",
    "\n",
    "Le plus important de ces concurrents est *argparser* qui a l'avantage d'être, comme `json` et `csv`, une librairie de base de python et qui ne nécessite donc aucune installation. Une traduction du tutoriel officiel de python est disponible : https://docs.python.org/fr/3.5/howto/argparse.html\n",
    "\n",
    "Le choix de Click s'est fait pour deux raisons : c'est la librairie utilisée par Flask, la librairie de création de sites web que nous utiliserons plus tard; elle gère les groupes de commande et possède une syntaxe très agréable.\n",
    "\n",
    "## De Jupyter à l'IDE\n",
    "\n",
    "À partir de maintenant, nous utiliserons un IDE (**I**nterface de **D**éveloppement **I**ntégrée). En tant qu'étudiant-e-s, vous avez accès à [PyCharm](https://www.jetbrains.com/pycharm/?fromMenu) pour lequel il existe une version *Community* (gratuite, limitée, suffisante) et une version Pro (accès via un compte éducation sinon paiement de licence).\n",
    "\n",
    "Nous lancerons nos outils depuis le terminal et nous construirons peu à peu un outil permettant de faire une recherche rapide dans un fichier CSV représentant un texte lemmatisé.\n",
    "\n",
    "## Commençons !\n",
    "\n",
    "Pour créer un script, nous allons déjà créer le fichier : nous l'appelerons \"recherche.py\"\n",
    "\n",
    "## Paramètre\n",
    "\n",
    "## Option\n",
    "\n",
    "## Typage de fichier\n",
    "\n",
    "## Ajouter de la couleur !\n",
    "\n",
    "## Raccourci Bash"
   ]
  }
 ],
 "metadata": {
  "kernelspec": {
   "display_name": "Python 3",
   "language": "python",
   "name": "python3"
  },
  "language_info": {
   "codemirror_mode": {
    "name": "ipython",
    "version": 3
   },
   "file_extension": ".py",
   "mimetype": "text/x-python",
   "name": "python",
   "nbconvert_exporter": "python",
   "pygments_lexer": "ipython3",
   "version": "3.6.7"
  }
 },
 "nbformat": 4,
 "nbformat_minor": 2
}
