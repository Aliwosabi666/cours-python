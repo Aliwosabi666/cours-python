{
 "metadata": {
  "name": "Getting started"
 },
 "nbformat": 3,
 "nbformat_minor": 0,
 "worksheets": [
  {
   "cells": [
    {
     "cell_type": "heading",
     "level": 1,
     "metadata": {},
     "source": [
      "Chapter 1: Getting started"
     ]
    },
    {
     "cell_type": "markdown",
     "metadata": {},
     "source": [
      "Everyone can learn how to program and the best way to learn is by doing. In this tutorial you will be asked to write a lot of code. So let's begin and write our first little program!  "
     ]
    },
    {
     "cell_type": "markdown",
     "metadata": {},
     "source": [
      "----------"
     ]
    },
    {
     "cell_type": "heading",
     "level": 4,
     "metadata": {},
     "source": [
      "Quiz!"
     ]
    },
    {
     "cell_type": "markdown",
     "metadata": {},
     "source": [
      "We will ask you to write a simple program that prints how many minutes there are in seven weeks."
     ]
    },
    {
     "cell_type": "code",
     "collapsed": false,
     "input": [
      "# insert your code here"
     ],
     "language": "python",
     "metadata": {},
     "outputs": [
      {
       "output_type": "pyout",
       "prompt_number": 14,
       "text": [
        "70560"
       ]
      }
     ],
     "prompt_number": 14
    },
    {
     "cell_type": "markdown",
     "metadata": {},
     "source": [
      "-----------"
     ]
    },
    {
     "cell_type": "markdown",
     "metadata": {},
     "source": [
      "Great! You have written your first little program and you've done it without any help! So, can we now go beyond using our programming language as a simple calculator? Before we will ask to to write yet another program, we will first have to explain something about `assignment'.\n",
      "\n",
      "We can assign values to variables using the `=` operator. A variable is just a name we give to a particular value, you can imagine it as a box you put a certain value into, and on which you write a name with a black marker. So, we can assign the value 2 to the name *x*. After that *x* will hold the value 2:"
     ]
    },
    {
     "cell_type": "code",
     "collapsed": false,
     "input": [
      "x = 2\n",
      "print(x)"
     ],
     "language": "python",
     "metadata": {},
     "outputs": [
      {
       "output_type": "stream",
       "stream": "stdout",
       "text": [
        "2\n"
       ]
      }
     ],
     "prompt_number": 9
    },
    {
     "cell_type": "markdown",
     "metadata": {},
     "source": [
      "This allows us to use *x* to do things like the following:"
     ]
    },
    {
     "cell_type": "code",
     "collapsed": false,
     "input": [
      "print(x * x)\n",
      "print(x == x)\n",
      "print(x > 6)"
     ],
     "language": "python",
     "metadata": {},
     "outputs": [
      {
       "output_type": "stream",
       "stream": "stdout",
       "text": [
        "4\n",
        "True\n",
        "False\n"
       ]
      }
     ],
     "prompt_number": 7
    },
    {
     "cell_type": "markdown",
     "metadata": {},
     "source": [
      "Variables are not just numbers. But they can be text just as well. These are called strings. For example:"
     ]
    },
    {
     "cell_type": "code",
     "collapsed": false,
     "input": [
      "book = \"The Lord of the Flies\"\n",
      "print(book)"
     ],
     "language": "python",
     "metadata": {},
     "outputs": [
      {
       "output_type": "stream",
       "stream": "stdout",
       "text": [
        "The Lord of the Flies\n"
       ]
      }
     ],
     "prompt_number": 12
    },
    {
     "cell_type": "markdown",
     "metadata": {},
     "source": [
      "Make sure you understand that the variable name can be chosen arbitrarily. *We* give a certain value a name, and we are free to pick one to our liking. It is, however, recommended to use senseful names as we will use the variable names in our code directly and not the values they hold."
     ]
    },
    {
     "cell_type": "code",
     "collapsed": false,
     "input": [
      "# not recommended...\n",
      "banana = \"The Lord of the Flies\"\n",
      "print(banana)"
     ],
     "language": "python",
     "metadata": {},
     "outputs": [
      {
       "output_type": "stream",
       "stream": "stdout",
       "text": [
        "The Lord of the Flies\n"
       ]
      }
     ],
     "prompt_number": 10
    },
    {
     "cell_type": "markdown",
     "metadata": {},
     "source": [
      "Unlike in other languages variables can vary and we can update our variables. Say we have counted how many books we have in our office:"
     ]
    },
    {
     "cell_type": "code",
     "collapsed": false,
     "input": [
      "number_of_books = 100"
     ],
     "language": "python",
     "metadata": {},
     "outputs": [],
     "prompt_number": 12
    },
    {
     "cell_type": "markdown",
     "metadata": {},
     "source": [
      "Then when we obtain a new book, we can update the number of books accordingly:"
     ]
    },
    {
     "cell_type": "code",
     "collapsed": false,
     "input": [
      "number_of_books = number_of_books + 1\n",
      "print(number_of_books)"
     ],
     "language": "python",
     "metadata": {},
     "outputs": [
      {
       "output_type": "stream",
       "stream": "stdout",
       "text": [
        "101\n"
       ]
      }
     ],
     "prompt_number": 14
    },
    {
     "cell_type": "markdown",
     "metadata": {},
     "source": [
      "Updates like these happen a lot. Python therefore provides a shortcut and you can write the same thing using the `+=` expression:"
     ]
    },
    {
     "cell_type": "code",
     "collapsed": false,
     "input": [
      "number_of_books += 5\n",
      "print(number_of_books)"
     ],
     "language": "python",
     "metadata": {},
     "outputs": [
      {
       "output_type": "stream",
       "stream": "stdout",
       "text": [
        "106\n"
       ]
      }
     ],
     "prompt_number": 16
    },
    {
     "cell_type": "markdown",
     "metadata": {},
     "source": [
      "For now the final interesting thing we would like to mention about variables is that we can assign the value of one variable to another variable. We will explain more about what this is later on, but here you just need to understand the basic mechanism."
     ]
    },
    {
     "cell_type": "code",
     "collapsed": false,
     "input": [
      "book = \"The Lord of the Flies\"\n",
      "reading = book\n",
      "print(reading)"
     ],
     "language": "python",
     "metadata": {},
     "outputs": [
      {
       "output_type": "stream",
       "stream": "stdout",
       "text": [
        "The Lord of the Flies\n"
       ]
      }
     ],
     "prompt_number": 13
    },
    {
     "cell_type": "markdown",
     "metadata": {},
     "source": [
      "----------"
     ]
    },
    {
     "cell_type": "heading",
     "level": 4,
     "metadata": {},
     "source": [
      "Quiz!"
     ]
    },
    {
     "cell_type": "markdown",
     "metadata": {},
     "source": [
      "Now that you understand all about assigning values to variables, it is time for our second programming quiz. We want you to write some code that defines a variable, *name*, and assign to it a string that is your name. "
     ]
    },
    {
     "cell_type": "code",
     "collapsed": false,
     "input": [
      "# insert your code here\n",
      "print(name)"
     ],
     "language": "python",
     "metadata": {},
     "outputs": [
      {
       "output_type": "stream",
       "stream": "stdout",
       "text": [
        "Folgert\n"
       ]
      }
     ],
     "prompt_number": 23
    },
    {
     "cell_type": "markdown",
     "metadata": {},
     "source": [
      "--------------"
     ]
    },
    {
     "cell_type": "markdown",
     "metadata": {},
     "source": [
      "Until now we have seen two basic types: `strings` and `integers`. We can ask Python what type our variable is using the following:"
     ]
    },
    {
     "cell_type": "code",
     "collapsed": false,
     "input": [
      "print(type(name))\n",
      "print(type(number_of_books))"
     ],
     "language": "python",
     "metadata": {},
     "outputs": [
      {
       "output_type": "stream",
       "stream": "stdout",
       "text": [
        "<class 'str'>\n",
        "<class 'int'>\n"
       ]
      }
     ],
     "prompt_number": 26
    },
    {
     "cell_type": "markdown",
     "metadata": {},
     "source": [
      "---"
     ]
    },
    {
     "cell_type": "heading",
     "level": 2,
     "metadata": {},
     "source": [
      "String manipulation"
     ]
    },
    {
     "cell_type": "markdown",
     "metadata": {},
     "source": [
      "Many disciplines within the humanties work on texts. Quite naturally programming for the humanities will focus a lot on manipulating texts. In the last quiz you were asked to define a variable that points to a string that represents your name. We have already seen basic some arithmetic in our very first calculation. Not just numbers can be added together, but strings can be added together as well:"
     ]
    },
    {
     "cell_type": "code",
     "collapsed": false,
     "input": [
      "name = \"Folgert\"\n",
      "book = \"The Lord of the Flies\"\n",
      "print(name + \" likes \" + book)"
     ],
     "language": "python",
     "metadata": {},
     "outputs": [
      {
       "output_type": "stream",
       "stream": "stdout",
       "text": [
        "Folgert likes The Lord of the Flies\n"
       ]
      }
     ],
     "prompt_number": 8
    },
    {
     "cell_type": "markdown",
     "metadata": {},
     "source": [
      "This string consists of a number of characters. We can access the individual characters with the help of indexing. For example, to find only the first character of your name, you can type in:"
     ]
    },
    {
     "cell_type": "code",
     "collapsed": false,
     "input": [
      "first_letter = name[0]\n",
      "print(first_letter)"
     ],
     "language": "python",
     "metadata": {},
     "outputs": [
      {
       "output_type": "stream",
       "stream": "stdout",
       "text": [
        "F\n"
       ]
      }
     ],
     "prompt_number": 16
    },
    {
     "cell_type": "markdown",
     "metadata": {},
     "source": [
      "Notice that to access the first letter, we use the index `0`. This might seem odd, but just remember that indexes in Python start at zero. Now, if you know the length of your name you can ask for the last letter of your name:"
     ]
    },
    {
     "cell_type": "code",
     "collapsed": false,
     "input": [
      "last_letter = name[# fill in the last index of your name (tip indexes start at 0)]\n",
      "print(last_letter)"
     ],
     "language": "python",
     "metadata": {},
     "outputs": [
      {
       "output_type": "stream",
       "stream": "stdout",
       "text": [
        "t\n"
       ]
      }
     ],
     "prompt_number": 17
    },
    {
     "cell_type": "markdown",
     "metadata": {},
     "source": [
      "It is rather inconvenient having to know how long our strings are if we want to find out what its last letter is. Python provides a simple way of accessing a string from the rear:"
     ]
    },
    {
     "cell_type": "code",
     "collapsed": false,
     "input": [
      "last_letter = name[-1]\n",
      "print(last_letter)"
     ],
     "language": "python",
     "metadata": {},
     "outputs": []
    },
    {
     "cell_type": "markdown",
     "metadata": {},
     "source": [
      "---------"
     ]
    },
    {
     "cell_type": "markdown",
     "metadata": {},
     "source": [
      "Quiz! \n",
      "\n",
      "Now can you write some code that defines a variable `but_last_letter` and assign to it the one but last letter of your name?"
     ]
    },
    {
     "cell_type": "code",
     "collapsed": false,
     "input": [
      "but_last_letter = # insert your code here\n",
      "print(but_last_letter)"
     ],
     "language": "python",
     "metadata": {},
     "outputs": [
      {
       "output_type": "stream",
       "stream": "stdout",
       "text": [
        "r\n"
       ]
      }
     ],
     "prompt_number": 18
    },
    {
     "cell_type": "markdown",
     "metadata": {},
     "source": [
      "------"
     ]
    },
    {
     "cell_type": "markdown",
     "metadata": {},
     "source": [
      "You're starting to become a real expert in indexing strings. Now what if we would like to find out what the last two or three letters of our name are? In Python we can use so-called slice-indexes or slices for short. To find the first to letters of our name we type in:"
     ]
    },
    {
     "cell_type": "code",
     "collapsed": false,
     "input": [
      "first_two_letters = name[0:2]\n",
      "print(first_two_letters)"
     ],
     "language": "python",
     "metadata": {},
     "outputs": [
      {
       "output_type": "stream",
       "stream": "stdout",
       "text": [
        "Fo\n"
       ]
      }
     ],
     "prompt_number": 19
    },
    {
     "cell_type": "markdown",
     "metadata": {},
     "source": [
      "(The `0` index is optional, so we could just as well type in `name[:2]`). Similarly if we would like to find out what the last two letters of our name are, we can type in:"
     ]
    },
    {
     "cell_type": "code",
     "collapsed": false,
     "input": [
      "last_two_letters = name[-2:]\n",
      "print(last_two_letters)"
     ],
     "language": "python",
     "metadata": {},
     "outputs": [
      {
       "output_type": "stream",
       "stream": "stdout",
       "text": [
        "rt\n"
       ]
      }
     ],
     "prompt_number": 20
    },
    {
     "cell_type": "markdown",
     "metadata": {},
     "source": [
      "-------"
     ]
    },
    {
     "cell_type": "heading",
     "level": 4,
     "metadata": {},
     "source": [
      "Quiz!"
     ]
    },
    {
     "cell_type": "markdown",
     "metadata": {},
     "source": [
      "Can you define a variable `middle_letters` and assign to it all letters of your name except for the first two and the last two?"
     ]
    },
    {
     "cell_type": "code",
     "collapsed": false,
     "input": [
      "middle_letters = # insert your code here\n",
      "print(middle_letters)"
     ],
     "language": "python",
     "metadata": {},
     "outputs": [
      {
       "output_type": "stream",
       "stream": "stdout",
       "text": [
        "lge\n"
       ]
      }
     ],
     "prompt_number": 22
    },
    {
     "cell_type": "markdown",
     "metadata": {},
     "source": [
      "----------"
     ]
    },
    {
     "cell_type": "markdown",
     "metadata": {},
     "source": [
      "The texts we're dealing with in the humanities most of the time need a lot of cleaning before we can work with them. For example, if we're working with HTML, the text will contain all kinds of tags. But even simpler things like line-breaks, capitals of extra spaces can pollute our data. Python provides many ways to clean our data to make it more consistent and ready for further processing. \n",
      "\n",
      "The following sections will contain a lot of stuff we need in the rest of this class, so be sure to understand it well! If we have a certain piece of text on our computer it would be rather inconvenient to copy-paste the text to assign it to a variable. And of course, with Python you don't have to. Let's see how we can read a text from our computer using Python."
     ]
    },
    {
     "cell_type": "code",
     "collapsed": false,
     "input": [
      "f = open('data/austen-emma-excerpt.txt','rt', encoding='utf-8')\n",
      "text = f.read()\n",
      "text"
     ],
     "language": "python",
     "metadata": {},
     "outputs": [
      {
       "ename": "FileNotFoundError",
       "evalue": "[Errno 2] No such file or directory: 'data/austen-emma-excerpt.txt'",
       "output_type": "pyerr",
       "traceback": [
        "\u001b[0;31m---------------------------------------------------------------------------\u001b[0m\n\u001b[0;31mFileNotFoundError\u001b[0m                         Traceback (most recent call last)",
        "\u001b[0;32m<ipython-input-1-00dfc4166aae>\u001b[0m in \u001b[0;36m<module>\u001b[0;34m()\u001b[0m\n\u001b[0;32m----> 1\u001b[0;31m \u001b[0mf\u001b[0m \u001b[0;34m=\u001b[0m \u001b[0mopen\u001b[0m\u001b[0;34m(\u001b[0m\u001b[0;34m'data/austen-emma-excerpt.txt'\u001b[0m\u001b[0;34m,\u001b[0m\u001b[0;34m'rt'\u001b[0m\u001b[0;34m,\u001b[0m\u001b[0mencoding\u001b[0m\u001b[0;34m=\u001b[0m\u001b[0;34m'utf-8'\u001b[0m\u001b[0;34m)\u001b[0m\u001b[0;34m\u001b[0m\u001b[0m\n\u001b[0m\u001b[1;32m      2\u001b[0m \u001b[0mtext\u001b[0m \u001b[0;34m=\u001b[0m \u001b[0mf\u001b[0m\u001b[0;34m.\u001b[0m\u001b[0mread\u001b[0m\u001b[0;34m(\u001b[0m\u001b[0;34m)\u001b[0m\u001b[0;34m\u001b[0m\u001b[0m\n\u001b[1;32m      3\u001b[0m \u001b[0mtext\u001b[0m\u001b[0;34m\u001b[0m\u001b[0m\n",
        "\u001b[0;31mFileNotFoundError\u001b[0m: [Errno 2] No such file or directory: 'data/austen-emma-excerpt.txt'"
       ]
      }
     ],
     "prompt_number": 1
    },
    {
     "cell_type": "markdown",
     "metadata": {},
     "source": [
      "----------"
     ]
    },
    {
     "cell_type": "heading",
     "level": 4,
     "metadata": {},
     "source": [
      "Quiz!"
     ]
    },
    {
     "cell_type": "markdown",
     "metadata": {},
     "source": [
      "Can you figure out what is going on here? You could even try some of your new text manipulations skills... Type in `text` in your interpreter. What kind of possible pollutions do you notice?"
     ]
    },
    {
     "cell_type": "markdown",
     "metadata": {},
     "source": [
      "---------"
     ]
    },
    {
     "cell_type": "heading",
     "level": 2,
     "metadata": {},
     "source": [
      "Lists"
     ]
    },
    {
     "cell_type": "markdown",
     "metadata": {},
     "source": [
      "Say we would like to find out what words are used in this small text. We can use the following *function* to split the text into words:"
     ]
    },
    {
     "cell_type": "code",
     "collapsed": false,
     "input": [
      "words = text.split()\n",
      "words"
     ],
     "language": "python",
     "metadata": {},
     "outputs": [
      {
       "output_type": "pyout",
       "prompt_number": 42,
       "text": [
        "['Emma',\n",
        " 'by',\n",
        " 'Jane',\n",
        " 'Austen',\n",
        " '1816',\n",
        " 'VOLUME',\n",
        " 'I',\n",
        " 'CHAPTER',\n",
        " 'I',\n",
        " 'Emma',\n",
        " 'Woodhouse,',\n",
        " 'handsome,',\n",
        " 'clever,',\n",
        " 'and',\n",
        " 'rich,',\n",
        " 'with',\n",
        " 'a',\n",
        " 'comfortable',\n",
        " 'home',\n",
        " 'and',\n",
        " 'happy',\n",
        " 'disposition,',\n",
        " 'seemed',\n",
        " 'to',\n",
        " 'unite',\n",
        " 'some',\n",
        " 'of',\n",
        " 'the',\n",
        " 'best',\n",
        " 'blessings',\n",
        " 'of',\n",
        " 'existence;',\n",
        " 'and',\n",
        " 'had',\n",
        " 'lived',\n",
        " 'nearly',\n",
        " 'twenty-one',\n",
        " 'years',\n",
        " 'in',\n",
        " 'the',\n",
        " 'world',\n",
        " 'with',\n",
        " 'very',\n",
        " 'little',\n",
        " 'to',\n",
        " 'distress',\n",
        " 'or',\n",
        " 'vex',\n",
        " 'her.',\n",
        " 'She',\n",
        " 'was',\n",
        " 'the',\n",
        " 'youngest',\n",
        " 'of',\n",
        " 'the',\n",
        " 'two',\n",
        " 'daughters',\n",
        " 'of',\n",
        " 'a',\n",
        " 'most',\n",
        " 'affectionate,',\n",
        " 'indulgent',\n",
        " 'father;',\n",
        " 'and',\n",
        " 'had,',\n",
        " 'in',\n",
        " 'consequence',\n",
        " 'of',\n",
        " 'her',\n",
        " \"sister's\",\n",
        " 'marriage,',\n",
        " 'been',\n",
        " 'mistress',\n",
        " 'of',\n",
        " 'his',\n",
        " 'house',\n",
        " 'from',\n",
        " 'a',\n",
        " 'very',\n",
        " 'early',\n",
        " 'period.',\n",
        " 'Her',\n",
        " 'mother',\n",
        " 'had',\n",
        " 'died',\n",
        " 'too',\n",
        " 'long',\n",
        " 'ago',\n",
        " 'for',\n",
        " 'her',\n",
        " 'to',\n",
        " 'have',\n",
        " 'more',\n",
        " 'than',\n",
        " 'an',\n",
        " 'indistinct',\n",
        " 'remembrance',\n",
        " 'of',\n",
        " 'her',\n",
        " 'caresses;',\n",
        " 'and',\n",
        " 'her',\n",
        " 'place',\n",
        " 'had',\n",
        " 'been',\n",
        " 'supplied',\n",
        " 'by',\n",
        " 'an',\n",
        " 'excellent',\n",
        " 'woman',\n",
        " 'as',\n",
        " 'governess,',\n",
        " 'who',\n",
        " 'had',\n",
        " 'fallen',\n",
        " 'little',\n",
        " 'short',\n",
        " 'of',\n",
        " 'a',\n",
        " 'mother',\n",
        " 'in',\n",
        " 'affection.',\n",
        " 'Sixteen',\n",
        " 'years',\n",
        " 'had',\n",
        " 'Miss',\n",
        " 'Taylor',\n",
        " 'been',\n",
        " 'in',\n",
        " 'Mr.',\n",
        " \"Woodhouse's\",\n",
        " 'family,',\n",
        " 'less',\n",
        " 'as',\n",
        " 'a',\n",
        " 'governess',\n",
        " 'than',\n",
        " 'a',\n",
        " 'friend,',\n",
        " 'very',\n",
        " 'fond',\n",
        " 'of',\n",
        " 'both',\n",
        " 'daughters,',\n",
        " 'but',\n",
        " 'particularly',\n",
        " 'of',\n",
        " 'Emma.',\n",
        " 'Between',\n",
        " '_them_',\n",
        " 'it',\n",
        " 'was',\n",
        " 'more',\n",
        " 'the',\n",
        " 'intimacy',\n",
        " 'of',\n",
        " 'sisters.',\n",
        " 'Even',\n",
        " 'before',\n",
        " 'Miss',\n",
        " 'Taylor',\n",
        " 'had',\n",
        " 'ceased',\n",
        " 'to',\n",
        " 'hold',\n",
        " 'the',\n",
        " 'nominal',\n",
        " 'office',\n",
        " 'of',\n",
        " 'governess,',\n",
        " 'the',\n",
        " 'mildness',\n",
        " 'of',\n",
        " 'her',\n",
        " 'temper',\n",
        " 'had',\n",
        " 'hardly',\n",
        " 'allowed',\n",
        " 'her',\n",
        " 'to',\n",
        " 'impose',\n",
        " 'any',\n",
        " 'restraint;',\n",
        " 'and',\n",
        " 'the',\n",
        " 'shadow',\n",
        " 'of',\n",
        " 'authority',\n",
        " 'being',\n",
        " 'now',\n",
        " 'long',\n",
        " 'passed',\n",
        " 'away,',\n",
        " 'they',\n",
        " 'had',\n",
        " 'been',\n",
        " 'living',\n",
        " 'together',\n",
        " 'as',\n",
        " 'friend',\n",
        " 'and',\n",
        " 'friend',\n",
        " 'very',\n",
        " 'mutually',\n",
        " 'attached,',\n",
        " 'and',\n",
        " 'Emma',\n",
        " 'doing',\n",
        " 'just',\n",
        " 'what',\n",
        " 'she',\n",
        " 'liked;',\n",
        " 'highly',\n",
        " 'esteeming',\n",
        " 'Miss',\n",
        " \"Taylor's\",\n",
        " 'judgment,',\n",
        " 'but',\n",
        " 'directed',\n",
        " 'chiefly',\n",
        " 'by',\n",
        " 'her',\n",
        " 'own.']"
       ]
      }
     ],
     "prompt_number": 42
    },
    {
     "cell_type": "markdown",
     "metadata": {},
     "source": [
      "By issuing the function split on our text, Python splits the text on spaces and returns a `list` of words. A list functions similar to a string. We can access all of its components using indexes and we can use slice indexes to access parts of the list. Let's try it!"
     ]
    },
    {
     "cell_type": "markdown",
     "metadata": {},
     "source": [
      "--------"
     ]
    },
    {
     "cell_type": "heading",
     "level": 4,
     "metadata": {},
     "source": [
      "Quiz!"
     ]
    },
    {
     "cell_type": "markdown",
     "metadata": {},
     "source": [
      "Write a small program that defines a variable `first_word` and assign to it the first word of our text. Play around a little with the indexes to see if you really understand how it works."
     ]
    },
    {
     "cell_type": "code",
     "collapsed": false,
     "input": [
      "first_word = # insert your code here\n",
      "print first_word"
     ],
     "language": "python",
     "metadata": {},
     "outputs": [
      {
       "output_type": "stream",
       "stream": "stdout",
       "text": [
        "Emma\n"
       ]
      }
     ],
     "prompt_number": 43
    },
    {
     "cell_type": "markdown",
     "metadata": {},
     "source": [
      "---------------"
     ]
    },
    {
     "cell_type": "markdown",
     "metadata": {},
     "source": [
      "A `list` acts like some kind of container where we can store all kinds of information. We can access a list using indices and slices. We can also add new items to a list. For that you use the method `append`. Let's see how it works. Say we want to keep a list of all our good reads. We start with an empty list and we will add some good books to it:"
     ]
    },
    {
     "cell_type": "code",
     "collapsed": false,
     "input": [
      "# start with an empty list\n",
      "good_reads = []\n",
      "good_reads.append(\"The Hunger games\")\n",
      "good_reads.append(\"A Clockwork Orange\")\n",
      "print(good_reads)"
     ],
     "language": "python",
     "metadata": {},
     "outputs": [
      {
       "output_type": "stream",
       "stream": "stdout",
       "text": [
        "['The Hunger games', 'A Clockwork Orange']\n"
       ]
      }
     ],
     "prompt_number": 31
    },
    {
     "cell_type": "markdown",
     "metadata": {},
     "source": [
      "Now, if for some reason we don't like a particular book anymore, we can change it as follows:"
     ]
    },
    {
     "cell_type": "code",
     "collapsed": false,
     "input": [
      "good_reads[0] = \"Pride and Prejudice\"\n",
      "print(good_reads)"
     ],
     "language": "python",
     "metadata": {},
     "outputs": [
      {
       "output_type": "stream",
       "stream": "stdout",
       "text": [
        "['Pride and Prejudice', 'A Clockwork Orange']\n"
       ]
      }
     ],
     "prompt_number": 34
    },
    {
     "cell_type": "markdown",
     "metadata": {},
     "source": [
      "We just changed one element in a list. Note that if you do the same thing for a string, you will get an error:"
     ]
    },
    {
     "cell_type": "code",
     "collapsed": false,
     "input": [
      "name = \"Foltert\"\n",
      "name[3] = \"g\""
     ],
     "language": "python",
     "metadata": {},
     "outputs": [
      {
       "ename": "TypeError",
       "evalue": "'str' object does not support item assignment",
       "output_type": "pyerr",
       "traceback": [
        "\u001b[0;31m---------------------------------------------------------------------------\u001b[0m\n\u001b[0;31mTypeError\u001b[0m                                 Traceback (most recent call last)",
        "\u001b[0;32m<ipython-input-35-af8692e95211>\u001b[0m in \u001b[0;36m<module>\u001b[0;34m()\u001b[0m\n\u001b[1;32m      1\u001b[0m \u001b[0mname\u001b[0m \u001b[0;34m=\u001b[0m \u001b[0;34m\"Foltert\"\u001b[0m\u001b[0;34m\u001b[0m\u001b[0m\n\u001b[0;32m----> 2\u001b[0;31m \u001b[0mname\u001b[0m\u001b[0;34m[\u001b[0m\u001b[0;36m3\u001b[0m\u001b[0;34m]\u001b[0m \u001b[0;34m=\u001b[0m \u001b[0;34m\"g\"\u001b[0m\u001b[0;34m\u001b[0m\u001b[0m\n\u001b[0m",
        "\u001b[0;31mTypeError\u001b[0m: 'str' object does not support item assignment"
       ]
      }
     ],
     "prompt_number": 35
    },
    {
     "cell_type": "markdown",
     "metadata": {},
     "source": [
      "This is because `strings` (and some other types) are *immutable*. That is, they cannot be changed, as opposed to `list`s which *are* mutable. Let's explore some other ways in which we can manipulate lists. Let's assume our good read collection has grown a lot and we would like to remove some of the books from the list. Python provides the method `remove` that acts upon a list and takes as argument the items we would like to remove. "
     ]
    },
    {
     "cell_type": "code",
     "collapsed": false,
     "input": [
      "good_reads = [\"The Hunger games\", \"A Clockwork Orange\", \n",
      "             \"Pride and Prejudice\", \"Water for Elephants\",\n",
      "             \"The Shadow of the Wind\", \"Bel Canto\"]\n",
      "good_reads.remove(\"Water for Elephants\")\n",
      "print(good_reads)"
     ],
     "language": "python",
     "metadata": {},
     "outputs": [
      {
       "output_type": "stream",
       "stream": "stdout",
       "text": [
        "['The Hunger games', 'A Clockwork Orange', 'Pride and Prejudice', 'The Shadow of the Wind', 'Bel Canto']\n"
       ]
      }
     ],
     "prompt_number": 36
    },
    {
     "cell_type": "markdown",
     "metadata": {},
     "source": [
      "If a book we try to remove is not in our collection, Python raises an error (don't be afraid, your computer won't break ;-))"
     ]
    },
    {
     "cell_type": "code",
     "collapsed": false,
     "input": [
      "good_reads.remove(\"White Oleander\")"
     ],
     "language": "python",
     "metadata": {},
     "outputs": [
      {
       "ename": "ValueError",
       "evalue": "list.remove(x): x not in list",
       "output_type": "pyerr",
       "traceback": [
        "\u001b[0;31m---------------------------------------------------------------------------\u001b[0m\n\u001b[0;31mValueError\u001b[0m                                Traceback (most recent call last)",
        "\u001b[0;32m<ipython-input-37-f865fe533407>\u001b[0m in \u001b[0;36m<module>\u001b[0;34m()\u001b[0m\n\u001b[0;32m----> 1\u001b[0;31m \u001b[0mgood_reads\u001b[0m\u001b[0;34m.\u001b[0m\u001b[0mremove\u001b[0m\u001b[0;34m(\u001b[0m\u001b[0;34m\"White Oleander\"\u001b[0m\u001b[0;34m)\u001b[0m\u001b[0;34m\u001b[0m\u001b[0m\n\u001b[0m",
        "\u001b[0;31mValueError\u001b[0m: list.remove(x): x not in list"
       ]
      }
     ],
     "prompt_number": 37
    },
    {
     "cell_type": "markdown",
     "metadata": {},
     "source": [
      "It is always nice to organize your bookshelf. We can sort our collection with the following expression:"
     ]
    },
    {
     "cell_type": "code",
     "collapsed": false,
     "input": [
      "good_reads.sort()\n",
      "print(good_reads)"
     ],
     "language": "python",
     "metadata": {},
     "outputs": [
      {
       "output_type": "stream",
       "stream": "stdout",
       "text": [
        "['A Clockwork Orange', 'Bel Canto', 'Pride and Prejudice', 'The Hunger games', 'The Shadow of the Wind']\n"
       ]
      }
     ],
     "prompt_number": 38
    },
    {
     "cell_type": "markdown",
     "metadata": {},
     "source": [
      "Finally, "
     ]
    },
    {
     "cell_type": "heading",
     "level": 2,
     "metadata": {},
     "source": [
      "Dictionaries"
     ]
    },
    {
     "cell_type": "heading",
     "level": 2,
     "metadata": {},
     "source": [
      "Loops"
     ]
    },
    {
     "cell_type": "code",
     "collapsed": false,
     "input": [
      "from IPython.core.display import HTML\n",
      "def css_styling():\n",
      "    styles = open(\"styles/custom.css\", \"r\").read()\n",
      "    return HTML(styles)\n",
      "css_styling()"
     ],
     "language": "python",
     "metadata": {},
     "outputs": [
      {
       "html": [
        "<style>\n",
        "    @font-face {\n",
        "        font-family: \"Computer Modern\";\n",
        "        src: url('http://mirrors.ctan.org/fonts/cm-unicode/fonts/otf/cmunss.otf');\n",
        "    }\n",
        "    div.cell{\n",
        "        width:800px;\n",
        "        margin-left:auto;\n",
        "        margin-right:auto;\n",
        "    }\n",
        "    h1 {\n",
        "        font-family: \"Charis SIL\", Palatino, serif;\n",
        "    }\n",
        "    h4{\n",
        "        margin-top:12px;\n",
        "        margin-bottom: 3px;\n",
        "       }\n",
        "    div.text_cell_render{\n",
        "        font-family: Computer Modern, \"Helvetica Neue\", Arial, Helvetica, Geneva, sans-serif;\n",
        "        line-height: 145%;\n",
        "        font-size: 120%;\n",
        "        width:800px;\n",
        "        margin-left:auto;\n",
        "        margin-right:auto;\n",
        "    }\n",
        "    .CodeMirror{\n",
        "            font-family: \"Source Code Pro\", source-code-pro,Consolas, monospace;\n",
        "    }\n",
        "    .prompt{\n",
        "        display: None;\n",
        "    }\n",
        "    .text_cell_render h5 {\n",
        "        font-weight: 300;\n",
        "        font-size: 16pt;\n",
        "        color: #4057A1;\n",
        "        font-style: italic;\n",
        "        margin-bottom: .5em;\n",
        "        margin-top: 0.5em;\n",
        "        display: block;\n",
        "    }\n",
        "    \n",
        "    .warning{\n",
        "        color: rgb( 240, 20, 20 )\n",
        "        }\n",
        "</style>\n",
        "<script>\n",
        "    MathJax.Hub.Config({\n",
        "                        TeX: {\n",
        "                           extensions: [\"AMSmath.js\"]\n",
        "                           },\n",
        "                tex2jax: {\n",
        "                    inlineMath: [ ['$','$'], [\"\\\\(\",\"\\\\)\"] ],\n",
        "                    displayMath: [ ['$$','$$'], [\"\\\\[\",\"\\\\]\"] ]\n",
        "                },\n",
        "                displayAlign: 'center', // Change this to 'center' to center equations.\n",
        "                \"HTML-CSS\": {\n",
        "                    styles: {'.MathJax_Display': {\"margin\": 4}}\n",
        "                }\n",
        "        });\n",
        "</script>"
       ],
       "output_type": "pyout",
       "prompt_number": 6,
       "text": [
        "<IPython.core.display.HTML at 0x10602f210>"
       ]
      }
     ],
     "prompt_number": 6
    },
    {
     "cell_type": "code",
     "collapsed": false,
     "input": [],
     "language": "python",
     "metadata": {},
     "outputs": [],
     "prompt_number": 27
    }
   ],
   "metadata": {}
  }
 ]
}