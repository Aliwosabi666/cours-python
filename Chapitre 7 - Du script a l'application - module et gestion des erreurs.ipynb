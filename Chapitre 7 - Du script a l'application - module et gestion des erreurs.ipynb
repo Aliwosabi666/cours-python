{
 "cells": [
  {
   "cell_type": "markdown",
   "metadata": {},
   "source": [
    "Chapitre 7 - Du script à l'application - module, gestion des erreurs et recherche SQL\n",
    "==="
   ]
  },
  {
   "cell_type": "markdown",
   "metadata": {},
   "source": [
    "Notre application et nos compétences ont sérieusement grossies : nous dommes désormais capables de traiter du JSON, du CSV, de récupérer des informations depuis le web mais aussi de créer notre propre application web, bien qu'elle reste simple pour le moment.\n",
    "\n",
    "Cette dite application web contient désormais 39 lignes de Python pour 2 pages et un type de ressource SQL. Vous vous rendrez vite compte que la manipulation de fichiers comme celui-ci rend les choses complexes. De fait, on préfère en général divisé les fichiers pythons comme nous divisons les templates : en les incluant ou en faisant appel à eux quand nous en avons besoin.\n",
    "\n",
    "## Les modules et packages\n",
    "\n",
    "Ce découpage en python s'appelle la modularisation : il s'agit de créer des modules qui à terme forme des packages (groupe de modules) et ainsi pouvoir se retrouver dans des applications un peu plus large que 39 lignes.\n",
    "\n",
    "Nous avons déjà utilisés des modules. Ainsi quand on tapez\n",
    "\n",
    "```python\n",
    "from flask import Flask\n",
    "```\n",
    "\n",
    "Nous importions depuis le module principal du package `flask` la classe `Flask` qui nous permettait de créer notre application. Un module est en fait un fichier python. Ainsi, si je crée un fichier `modeles.py` pour y ranger l'ensemble de mes modèles de données SQL (et pouvoir m'y retrouver facilement), je pourrai à terme faire `from modeles import Place` !\n",
    "\n",
    "Les modules peuvent comprendre tout ce que python peut faire, à savoir : \n",
    "\n",
    "- des variables\n",
    "- des fonctions\n",
    "- des classes\n",
    "\n",
    "### Créer un package, c'est simple !\n",
    "\n",
    "La création de package est en fait extrêment simple : \n",
    "\n",
    "0. On crée un fichier `run.py` qui nous permettra d'utiliser ce qui est dans gazetteer\n",
    "1. On crée un dossier : `gazetteer/` par exemple.\n",
    "2. On ajoute dans ce dossier un fichier `__init__.py`\n",
    "3. On écrit dans ce fichier `__init__.py`.\n",
    "4. On écrit dans ce fichier `ma_variable = 0`\n",
    "\n",
    "Les fichiers `__init__.py` sont nécessaire pour que ce dossier soit compris comme package. Le résultat serait donc\n",
    "\n",
    "```\n",
    "gazetteer/\n",
    "   |- __init__.py\n",
    "run.py\n",
    "```\n",
    "\n",
    "Avec `__init__.py` qui comprend le code suivant :"
   ]
  },
  {
   "cell_type": "code",
   "execution_count": 1,
   "metadata": {},
   "outputs": [],
   "source": [
    "# Raccourci pour afficher le contenu de l'exemple\n",
    "%pycat cours-packages/exemple-01/gazetteer/__init__.py"
   ]
  },
  {
   "cell_type": "markdown",
   "metadata": {},
   "source": [
    "Cela permettra à `run.py` d'utiliser la variable en faisant :"
   ]
  },
  {
   "cell_type": "code",
   "execution_count": 3,
   "metadata": {},
   "outputs": [],
   "source": [
    "# Raccourci pour afficher le contenu de l'exemple\n",
    "%pycat cours-packages/exemple-01/run.py"
   ]
  },
  {
   "cell_type": "markdown",
   "metadata": {},
   "source": [
    "Et le résultat de son appel sera :"
   ]
  },
  {
   "cell_type": "code",
   "execution_count": 15,
   "metadata": {},
   "outputs": [
    {
     "name": "stdout",
     "output_type": "stream",
     "text": [
      "0\n"
     ]
    }
   ],
   "source": [
    "%run cours-packages/exemple-01/run.py"
   ]
  },
  {
   "cell_type": "markdown",
   "metadata": {},
   "source": [
    "#### Pour lancer l'exemple\n",
    "\n",
    "On ouvrira un terminal, s'assurera d'être dans un environnement virtuel et on tapera depuis le dossier source\n",
    "\n",
    "```sh\n",
    "cd cours-pages/exemple-01\n",
    "python run.py\n",
    "```\n",
    "\n",
    "#### Résumé d'un module simple avec dossier\n",
    "\n",
    "- Un module simple avec dossier comprenant un `__init__.py` est appelé ou importé en utilisant le nom du dossier. \n",
    "- On peut y stocker des variables, classes et fonctions."
   ]
  },
  {
   "cell_type": "markdown",
   "metadata": {},
   "source": [
    "### Un package, des modules"
   ]
  },
  {
   "cell_type": "markdown",
   "metadata": {},
   "source": [
    "Il est possible pour un package de comporter plusieurs modules, ainsi pour notre Gazetteer il est possible de diviser par exemple les modeles des routes. Pour le moment, créons cet ensemble :\n",
    "\n",
    "0. On crée un fichier `run.py` qui nous permettra d'utiliser ce qui est dans gazetteer\n",
    "1. On crée un dossier : `gazetteer/` par exemple.\n",
    "2. On ajoute dans ce dossier un fichier `__init__.py`\n",
    "3. On crée un fichier `application.py`\n",
    "4. On écrit dans ce fichier `mon_module = \"application\"`\n",
    "5. On crée un fichier `modeles.py`\n",
    "6. On écrit dans ce fichier `mon_module = \"modeles\"`\n",
    "\n",
    "```\n",
    "gazetteer/\n",
    "   |- __init__.py\n",
    "   |- application.py\n",
    "   |- modeles.py\n",
    "run.py\n",
    "```"
   ]
  },
  {
   "cell_type": "code",
   "execution_count": 10,
   "metadata": {},
   "outputs": [],
   "source": [
    "# Raccourci pour afficher le contenu de l'exemple\n",
    "%pycat cours-packages/exemple-02/gazetteer/application.py"
   ]
  },
  {
   "cell_type": "code",
   "execution_count": 11,
   "metadata": {},
   "outputs": [],
   "source": [
    "# Raccourci pour afficher le contenu de l'exemple\n",
    "%pycat cours-packages/exemple-02/gazetteer/modeles.py"
   ]
  },
  {
   "cell_type": "markdown",
   "metadata": {},
   "source": [
    "Cela permettra à `run.py` d'utiliser la variable en important les modules du packages. On importe des modules et sous-modules en rétablissant le chemin via des `.` :\n",
    "\n",
    "```python\n",
    "from gazetteer.application import mon_module\n",
    "```\n",
    "\n",
    "Ainsi, on écrira dans notre `run` :"
   ]
  },
  {
   "cell_type": "code",
   "execution_count": 27,
   "metadata": {},
   "outputs": [],
   "source": [
    "# Raccourci pour afficher le contenu de l'exemple\n",
    "%pycat cours-packages/exemple-02/run.py"
   ]
  },
  {
   "cell_type": "markdown",
   "metadata": {},
   "source": [
    "Et le résultat de son appel sera :"
   ]
  },
  {
   "cell_type": "code",
   "execution_count": 28,
   "metadata": {},
   "outputs": [
    {
     "name": "stdout",
     "output_type": "stream",
     "text": [
      "modeles\r\n"
     ]
    }
   ],
   "source": [
    "# Cette commande permet de lancer le script directement depuis ce module\n",
    "! cd cours-packages/exemple-02 && python run.py"
   ]
  },
  {
   "cell_type": "markdown",
   "metadata": {},
   "source": [
    "#### Pour lancer l'exemple en terminal\n",
    "\n",
    "On ouvrira un terminal, s'assurera d'être dans un environnement virtuel et on tapera depuis le dossier source\n",
    "\n",
    "```sh\n",
    "cd cours-pages/exemple-02\n",
    "python run.py\n",
    "```\n",
    "\n",
    "#### Problème ?\n",
    "\n",
    "Nous rencontrons un premier problème : `mon_module` étant importé depuis deux modules (`gazetter.application` et `gazetteer.modeles`), les deux rentrent en conflit et la dernière prend le dessus. Nous avons plusieurs solutions à ce problème \n",
    "\n",
    "1. `from gazetteer import application` et `print(application.mon_module)` qui permet de garder le nom du sous-module\n",
    "2. `import gazetteer.application` et `print(gazetteer.application.mon_module)` : long à écrire mais impossible d'avoir des conflits et compréhensible\n",
    "3. `from gazetteer.application import mon_module as autre_nom` : on renomme, on perd l'information d'origine mais on reste sur un nom court.\n",
    "\n",
    "Pour continuer l'exemple, on écrit un fichier `run2.py` qui reprend cette syntaxe :"
   ]
  },
  {
   "cell_type": "code",
   "execution_count": 29,
   "metadata": {},
   "outputs": [],
   "source": [
    "# Raccourci pour afficher le contenu de l'exemple\n",
    "%pycat cours-packages/exemple-02/run2.py"
   ]
  },
  {
   "cell_type": "markdown",
   "metadata": {},
   "source": [
    "Et le résultat de son appel sera :"
   ]
  },
  {
   "cell_type": "code",
   "execution_count": 30,
   "metadata": {},
   "outputs": [
    {
     "name": "stdout",
     "output_type": "stream",
     "text": [
      "application\r\n",
      "modeles\r\n"
     ]
    }
   ],
   "source": [
    "# Cette commande permet de lancer le script directement depuis ce module\n",
    "! cd cours-packages/exemple-02 && python run2.py"
   ]
  },
  {
   "cell_type": "markdown",
   "metadata": {},
   "source": [
    "#### Pour lancer l'exemple en terminal\n",
    "\n",
    "On ouvrira un terminal, s'assurera d'être dans un environnement virtuel et on tapera depuis le dossier source\n",
    "\n",
    "```sh\n",
    "cd cours-pages/exemple-02\n",
    "python run2.py\n",
    "```\n",
    "\n",
    "#### Résumé d'un packages avec plusieurs modules\n",
    "\n",
    "- Un package se construit avec un dossier comprenant un `__init__.py`\n",
    "- Les fichiers qui le constituent sont importables comme modules (`from package import module`)\n",
    "- Les imports de ressources dans des modules peuvent être construits de trois manière :\n",
    "    - `import package.module`\n",
    "        - Appelée via `package.module.ressource`\n",
    "    - `from package import module`\n",
    "        - Appelée via `module.ressource`\n",
    "    - `from package.module import resource`\n",
    "        - Appelée via `ressource`\n",
    "- En cas de conflit, on peut:\n",
    "    - changer de méthode d'import\n",
    "    - renommer la ressource importée via `import ___ as ___` ou `from ___ import ___ as ____`"
   ]
  },
  {
   "cell_type": "markdown",
   "metadata": {},
   "source": [
    "### De module à module : l'import relatif\n",
    "\n",
    "### Notre application en packages\n",
    "\n",
    "## Les erreurs\n",
    "\n",
    "### Que faire quand on a une erreur\n",
    "\n",
    "### Que faire quand on rencontre CETTE erreur\n",
    "\n",
    "### Gestion des erreurs : afficher une page d'erreur quand un lieu n'existe pas"
   ]
  }
 ],
 "metadata": {
  "kernelspec": {
   "display_name": "Python 3",
   "language": "python",
   "name": "python3"
  },
  "language_info": {
   "codemirror_mode": {
    "name": "ipython",
    "version": 3
   },
   "file_extension": ".py",
   "mimetype": "text/x-python",
   "name": "python",
   "nbconvert_exporter": "python",
   "pygments_lexer": "ipython3",
   "version": "3.5.2"
  }
 },
 "nbformat": 4,
 "nbformat_minor": 2
}
