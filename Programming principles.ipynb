{
 "metadata": {
  "name": "Programming principles"
 },
 "nbformat": 3,
 "nbformat_minor": 0,
 "worksheets": [
  {
   "cells": [
    {
     "cell_type": "heading",
     "level": 1,
     "metadata": {},
     "source": [
      "Chapter 3: Programming Principles"
     ]
    },
    {
     "cell_type": "heading",
     "level": 2,
     "metadata": {},
     "source": [
      "#1 Think modular"
     ]
    },
    {
     "cell_type": "markdown",
     "metadata": {},
     "source": [
      "If you have a particular problem, divide it into subproblems and solve them separately. Always make use of functions\n"
     ]
    },
    {
     "cell_type": "heading",
     "level": 2,
     "metadata": {},
     "source": [
      "#2 Do not repeat yourself & try to think of generic solutions"
     ]
    },
    {
     "cell_type": "markdown",
     "metadata": {},
     "source": [
      "Very much connected to the previous tip; if you find yourself copy pasting a large block of code and making only very minor adjustments, then you can probably turn that code into a more generic function.\n",
      "\n",
      "Look at these four code snippets with the exact same results; from very bad to best:\n"
     ]
    },
    {
     "cell_type": "code",
     "collapsed": false,
     "input": [
      "print(\"I shall not repeat myself!\")\n",
      "print(\"I shall not repeat myself!\")\n",
      "print(\"I shall not repeat myself!\")\n",
      "print(\"I shall not repeat myself!\")\n",
      "print(\"I shall not repeat myself!\")\n",
      "print(\"I shall not repeat myself!\")\n",
      "print(\"I shall not repeat myself!\")\n",
      "print(\"I shall not repeat myself!\")\n",
      "print(\"I shall not repeat myself!\")\n",
      "print(\"I shall not repeat myself!\")\n",
      "\n",
      "print(\"I will think of generic solutions!\")\n",
      "print(\"I will think of generic solutions!\")\n",
      "print(\"I will think of generic solutions!\")\n",
      "print(\"I will think of generic solutions!\")\n",
      "print(\"I will think of generic solutions!\")\n",
      "print(\"I will think of generic solutions!\")\n",
      "print(\"I will think of generic solutions!\")\n",
      "print(\"I will think of generic solutions!\")\n",
      "print(\"I will think of generic solutions!\")\n",
      "print(\"I will think of generic solutions!\")\n",
      "\n",
      "print(\"I will be a great programmer!\")\n",
      "print(\"I will be a great programmer!\")\n",
      "print(\"I will be a great programmer!\")\n",
      "print(\"I will be a great programmer!\")\n",
      "print(\"I will be a great programmer!\")\n",
      "print(\"I will be a great programmer!\")\n",
      "print(\"I will be a great programmer!\")\n",
      "print(\"I will be a great programmer!\")\n",
      "print(\"I will be a great programmer!\")\n",
      "print(\"I will be a great programmer!\")\n"
     ],
     "language": "python",
     "metadata": {},
     "outputs": []
    },
    {
     "cell_type": "markdown",
     "metadata": {},
     "source": [
      "Better:"
     ]
    },
    {
     "cell_type": "code",
     "collapsed": false,
     "input": [
      "for i in range(0,10):\n",
      "    print(\"I shall not repeat myself!\")\n",
      "    \n",
      "for i in range(0,10):\n",
      "    print(\"I will think of generic solutions!\")\n",
      "\n",
      "for i in range(0,10):\n",
      "    print(\"I will be a great programmer!\")\n"
     ],
     "language": "python",
     "metadata": {},
     "outputs": [
      {
       "output_type": "stream",
       "stream": "stdout",
       "text": [
        "I shall not repeat myself!\n",
        "I shall not repeat myself!\n",
        "I shall not repeat myself!\n",
        "I shall not repeat myself!\n",
        "I shall not repeat myself!\n",
        "I shall not repeat myself!\n",
        "I shall not repeat myself!\n",
        "I shall not repeat myself!\n",
        "I shall not repeat myself!\n",
        "I shall not repeat myself!\n"
       ]
      }
     ],
     "prompt_number": 9
    },
    {
     "cell_type": "markdown",
     "metadata": {},
     "source": [
      "Better:"
     ]
    },
    {
     "cell_type": "code",
     "collapsed": false,
     "input": [
      "\n",
      "\n",
      "def say10times(message):\n",
      "    for i in range(0,10):\n",
      "        print(message)\n",
      "    \n",
      "say10times(\"I shall not repeat myself!\")\n",
      "say10times(\"I will think of generic solutions!\")\n",
      "say10times(\"I will be a great programmer!\")"
     ],
     "language": "python",
     "metadata": {},
     "outputs": []
    },
    {
     "cell_type": "markdown",
     "metadata": {},
     "source": [
      "Best:\n",
      "    "
     ]
    },
    {
     "cell_type": "code",
     "collapsed": false,
     "input": [
      "def sayxtimes(message, x):\n",
      "    for i in range(0,x):\n",
      "        print(message)\n",
      "    \n",
      "sayxtimes(\"I shall not repeat myself!\",10)\n",
      "sayxtimes(\"I will think of generic solutions!\",10)\n",
      "sayxtimes(\"I will be a great programmer!\",10)"
     ],
     "language": "python",
     "metadata": {},
     "outputs": []
    },
    {
     "cell_type": "heading",
     "level": 2,
     "metadata": {},
     "source": [
      "#3 Think like procedurally -- Step by step"
     ]
    },
    {
     "cell_type": "markdown",
     "metadata": {},
     "source": [
      "Try to think like the interpreter processing your code; everything step by step, one line at a time. The interpreter will never magically know what you mean with a piece of code, you have to explicitly consider what you want to do in each step along the way\n"
     ]
    },
    {
     "cell_type": "heading",
     "level": 2,
     "metadata": {},
     "source": [
      "#4 Choose sane variable and function names"
     ]
    },
    {
     "cell_type": "markdown",
     "metadata": {},
     "source": [
      "Naming your variables and function with meaningful names is important. Otherwise you will find you can't read your code anymore. From the interpreter's point of view, the names are irrelevant, but from a human point of view, they are very important!! Compare the following code two snippets, which are equivalent in functionality but not in naming. It's hard to figure out what the program does by looking only at the first one right?\n"
     ]
    },
    {
     "cell_type": "code",
     "collapsed": false,
     "input": [
      "a = \"To be or not to be , that is the question\"\n",
      "b = a.split(' ')\n",
      "c = []\n",
      "for x in b:\n",
      "    c.append(len(x))\n",
      "r = sum(c) / len(c)\n",
      "print(r)    "
     ],
     "language": "python",
     "metadata": {},
     "outputs": [
      {
       "output_type": "stream",
       "stream": "stdout",
       "text": [
        "2.8181818181818183\n"
       ]
      }
     ],
     "prompt_number": 8
    },
    {
     "cell_type": "code",
     "collapsed": false,
     "input": [
      "sentence = \"To be or not to be , that is the question\"\n",
      "words = sentence.split(' ')\n",
      "wordlengths = []\n",
      "for word in words:\n",
      "    wordlengths.append(len(word))\n",
      "averagewordlength = sum(wordlengths) / len(wordlengths)\n",
      "print(averagewordlength)    \n",
      "        \n",
      "        \n",
      "        \n"
     ],
     "language": "python",
     "metadata": {},
     "outputs": [
      {
       "output_type": "stream",
       "stream": "stdout",
       "text": [
        "2.8181818181818183\n"
       ]
      }
     ],
     "prompt_number": 7
    },
    {
     "cell_type": "heading",
     "level": 2,
     "metadata": {},
     "source": [
      "#5 Comment your code"
     ]
    },
    {
     "cell_type": "markdown",
     "metadata": {},
     "source": [
      "Always add comments to your code to facilitate readability and understanding! "
     ]
    },
    {
     "cell_type": "heading",
     "level": 2,
     "metadata": {},
     "source": [
      "#6 Anticipate errors"
     ]
    },
    {
     "cell_type": "markdown",
     "metadata": {},
     "source": [
      "Anticipate what can go wrong. Especially where user input is concerned. Python, as most other languages, has facilities to catch errors in your code, and divert execution based on it. This is called exception handling. Errors that are uncaught will cause your program to exit with an error. Consider the following:"
     ]
    },
    {
     "cell_type": "code",
     "collapsed": false,
     "input": [
      "y = \"5\"\n",
      "try:\n",
      "    y = int(x)\n",
      "except ValueError:\n",
      "    print \"x was not a number!\"\n",
      "    \n"
     ],
     "language": "python",
     "metadata": {},
     "outputs": []
    },
    {
     "cell_type": "markdown",
     "metadata": {},
     "source": [
      "Try set x to a textual value and run again."
     ]
    },
    {
     "cell_type": "heading",
     "level": 2,
     "metadata": {},
     "source": [
      "#7 Don't be afraid to throw away code and start over"
     ]
    },
    {
     "cell_type": "markdown",
     "metadata": {},
     "source": [
      "Coding is often an evolutionary process, you may come to new insights as you progress and demands on your code may change as your program grows. Do not be afraid to throw parts of it away and redesign them"
     ]
    },
    {
     "cell_type": "heading",
     "level": 2,
     "metadata": {},
     "source": [
      "#8 Be elegant!"
     ]
    },
    {
     "cell_type": "markdown",
     "metadata": {},
     "source": [
      "Try to write elegant code. Coding can be art! :) Elegant code makes your code more readable and less prone to bugs."
     ]
    },
    {
     "cell_type": "heading",
     "level": 2,
     "metadata": {},
     "source": [
      "#9 Test"
     ]
    },
    {
     "cell_type": "markdown",
     "metadata": {},
     "source": [
      "Always test your code, things never go right the first time, not even for experienced programmers. Errors are part of the progress and no sign of failure! Always seek to clearly understand the message behind an error and then find a solution to it.\n",
      "It is also recommended to write little tests for functions, to assure they give the desired output given certain input.\n",
      "\n",
      "To debug your code, it often helps to insert some temporary explicity print statements along the way, outputting the value of certain variables. This can help you spot if things are really progressing the way they should."
     ]
    },
    {
     "cell_type": "heading",
     "level": 2,
     "metadata": {},
     "source": [
      "#10 Use library references, 3rd party modules, and google errors if you're stuck"
     ]
    },
    {
     "cell_type": "markdown",
     "metadata": {},
     "source": [
      "Programmers never know all functions in their language by heart. Part of the art of programming is knowing where to look and how to read library references. Library references describe what functions etc. exist in what modules, what parameters they take, and what values they return. Use these references! For Python, just start at http://www.python.org !\n",
      "\n",
      "Chances are also high that someone has already done what you want, or at least solved one of your subproblems, and made a module for it which you can use!"
     ]
    },
    {
     "cell_type": "markdown",
     "metadata": {},
     "source": [
      "Moreover, we would like to encourage you to always open your source code and share it with others. This principle is called *open source* and allows others to use and learn from your code. Especially in the sciences, such a transparency is vital for reproducability and for building upon eachother's work. The Python language itself is fully open-source, as it the Linux operating system, and tens of thousands of other software packages!"
     ]
    },
    {
     "cell_type": "markdown",
     "metadata": {},
     "source": [
      "---"
     ]
    },
    {
     "cell_type": "markdown",
     "metadata": {},
     "source": [
      "Ignore the following, it's just here to make the page pretty:"
     ]
    },
    {
     "cell_type": "code",
     "collapsed": false,
     "input": [
      "from IPython.core.display import HTML\n",
      "def css_styling():\n",
      "    styles = open(\"styles/custom.css\", \"r\").read()\n",
      "    return HTML(styles)\n",
      "css_styling()"
     ],
     "language": "python",
     "metadata": {},
     "outputs": [
      {
       "html": [
        "<style>\n",
        "    @font-face {\n",
        "        font-family: \"Computer Modern\";\n",
        "        src: url('http://mirrors.ctan.org/fonts/cm-unicode/fonts/otf/cmunss.otf');\n",
        "    }\n",
        "    div.cell{\n",
        "        width:800px;\n",
        "        margin-left:auto;\n",
        "        margin-right:auto;\n",
        "    }\n",
        "    h1 {\n",
        "        font-family: \"Charis SIL\", Palatino, serif;\n",
        "    }\n",
        "    h4{\n",
        "        margin-top:12px;\n",
        "        margin-bottom: 3px;\n",
        "       }\n",
        "    div.text_cell_render{\n",
        "        font-family: Computer Modern, \"Helvetica Neue\", Arial, Helvetica, Geneva, sans-serif;\n",
        "        line-height: 145%;\n",
        "        font-size: 120%;\n",
        "        width:800px;\n",
        "        margin-left:auto;\n",
        "        margin-right:auto;\n",
        "    }\n",
        "    .CodeMirror{\n",
        "            font-family: \"Source Code Pro\", source-code-pro,Consolas, monospace;\n",
        "    }\n",
        "    .prompt{\n",
        "        display: None;\n",
        "    }\n",
        "    .text_cell_render h5 {\n",
        "        font-weight: 300;\n",
        "        font-size: 16pt;\n",
        "        color: #4057A1;\n",
        "        font-style: italic;\n",
        "        margin-bottom: .5em;\n",
        "        margin-top: 0.5em;\n",
        "        display: block;\n",
        "    }\n",
        "    \n",
        "    .warning{\n",
        "        color: rgb( 240, 20, 20 )\n",
        "        }\n",
        "</style>\n",
        "<script>\n",
        "    MathJax.Hub.Config({\n",
        "                        TeX: {\n",
        "                           extensions: [\"AMSmath.js\"]\n",
        "                           },\n",
        "                tex2jax: {\n",
        "                    inlineMath: [ ['$','$'], [\"\\\\(\",\"\\\\)\"] ],\n",
        "                    displayMath: [ ['$$','$$'], [\"\\\\[\",\"\\\\]\"] ]\n",
        "                },\n",
        "                displayAlign: 'center', // Change this to 'center' to center equations.\n",
        "                \"HTML-CSS\": {\n",
        "                    styles: {'.MathJax_Display': {\"margin\": 4}}\n",
        "                }\n",
        "        });\n",
        "</script>"
       ],
       "output_type": "pyout",
       "prompt_number": 1,
       "text": [
        "<IPython.core.display.HTML at 0x10d3c1110>"
       ]
      }
     ],
     "prompt_number": 1
    }
   ],
   "metadata": {}
  }
 ]
}