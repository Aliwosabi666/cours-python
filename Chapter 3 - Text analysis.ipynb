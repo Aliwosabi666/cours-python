{
 "metadata": {
  "name": ""
 },
 "nbformat": 3,
 "nbformat_minor": 0,
 "worksheets": [
  {
   "cells": [
    {
     "cell_type": "heading",
     "level": 1,
     "metadata": {},
     "source": [
      "Chapter 3: Text Analysis"
     ]
    },
    {
     "cell_type": "markdown",
     "metadata": {},
     "source": [
      "-- *A Python Course for the Humanities by Folgert Karsdorp and Maarten van Gompel*"
     ]
    },
    {
     "cell_type": "markdown",
     "metadata": {},
     "source": [
      "---"
     ]
    },
    {
     "cell_type": "markdown",
     "metadata": {},
     "source": [
      "In this chapter we will introduce you to the task of text analysis in Python. You will learn how to read an entire corpus into Python, clean it and how to perform certain data analyses on those texts. We will also briefly introduce you to using Python's plotting library matplotlib, with which you can visualize your data.\n",
      "\n",
      "Before we delve into the main subject of this chapter, text analysis, we will first write a couple of utility functions that build upon the things you learnt in the previous chapter. Often we don't work with a single text file stored at our computer, but with multiple text files or entire corpora. We would like to have a way to load a corpus into Python.\n",
      "\n",
      "Remember how to read files? We write a small utility function `read_file(filename)` that reads the specified file and simply returns all contents as a single string."
     ]
    },
    {
     "cell_type": "code",
     "collapsed": false,
     "input": [
      "def read_file(filename):\n",
      "    \"Read the contents of FILENAME and return as a string.\"\n",
      "    infile = open(filename) \n",
      "    contents = infile.read()\n",
      "    infile.close()\n",
      "    return contents"
     ],
     "language": "python",
     "metadata": {},
     "outputs": [],
     "prompt_number": 1
    },
    {
     "cell_type": "markdown",
     "metadata": {},
     "source": [
      "Now, in the directory `data/arabian_nights/` we have a corpus consisting of multiple \\*.txt. This corpus is Burton's English translation of the *Arabian Nights* which we downloaded for you from the [Gutenberg](http://www.gutenberg.org) project. We want to iterate over all these files. You can do this with the `listdir` function from the `os` module. We can import this function using the following:"
     ]
    },
    {
     "cell_type": "code",
     "collapsed": false,
     "input": [
      "from os import listdir"
     ],
     "language": "python",
     "metadata": {},
     "outputs": [],
     "prompt_number": 2
    },
    {
     "cell_type": "markdown",
     "metadata": {},
     "source": [
      "After that, the `listdir` function is available to use. We will see many other import statements later on in this chapter. Now, consider the following function:"
     ]
    },
    {
     "cell_type": "code",
     "collapsed": false,
     "input": [
      "def list_textfiles(directory):\n",
      "    \"Return a list of filenames ending in '.txt' in DIRECTORY.\"\n",
      "    textfiles = []\n",
      "    for filename in listdir(directory):\n",
      "        if filename.endswith(\".txt\"):\n",
      "            textfiles.append(directory + \"/\" + filename)\n",
      "    return textfiles"
     ],
     "language": "python",
     "metadata": {},
     "outputs": [],
     "prompt_number": 3
    },
    {
     "cell_type": "markdown",
     "metadata": {},
     "source": [
      "The function `listdir` takes as argument the name of a directory and lists all filenames in that directory. We iterate over this list and append each filename that ends with the extension, \".txt\" to a new list of `textfiles`. Using the `list_textfiles` function, the following code will read all text files in the directory `data/arabian_nights` and outputs the length (in characters) of each:"
     ]
    },
    {
     "cell_type": "code",
     "collapsed": false,
     "input": [
      "for filepath in list_textfiles(\"data/arabian_nights\"):\n",
      "    text = read_file(filepath)\n",
      "    print(filepath, \"has\", len(text), \"characters\")"
     ],
     "language": "python",
     "metadata": {},
     "outputs": [
      {
       "output_type": "stream",
       "stream": "stdout",
       "text": [
        "data/arabian_nights/1.txt has 30727 characters\n",
        "data/arabian_nights/10.txt has 3972 characters\n",
        "data/arabian_nights/100.txt has 3640 characters\n",
        "data/arabian_nights/101.txt has 792 characters\n",
        "data/arabian_nights/102.txt has 3603 characters\n",
        "data/arabian_nights/103.txt has 2501 characters\n",
        "data/arabian_nights/104.txt has 1390 characters\n",
        "data/arabian_nights/105.txt has 2701 characters\n",
        "data/arabian_nights/106.txt has 2275 characters\n",
        "data/arabian_nights/107.txt has 7551 characters\n",
        "data/arabian_nights/108.txt has 3271 characters\n",
        "data/arabian_nights/109.txt has 2925 characters\n",
        "data/arabian_nights/11.txt has 3520 characters\n",
        "data/arabian_nights/110.txt has 7016 characters\n",
        "data/arabian_nights/111.txt has 2167 characters\n",
        "data/arabian_nights/112.txt has 2610 characters\n",
        "data/arabian_nights/113.txt has 3451 characters\n",
        "data/arabian_nights/114.txt has 8758 characters\n",
        "data/arabian_nights/115.txt has 4957 characters\n",
        "data/arabian_nights/116.txt has 68992 characters\n",
        "data/arabian_nights/117.txt has 62629 characters\n",
        "data/arabian_nights/118.txt has 8740 characters\n",
        "data/arabian_nights/119.txt has 1972 characters\n",
        "data/arabian_nights/12.txt has 2771 characters\n",
        "data/arabian_nights/120.txt has 2541 characters\n",
        "data/arabian_nights/121.txt has 2791 characters\n",
        "data/arabian_nights/122.txt has 2107 characters\n",
        "data/arabian_nights/123.txt has 1859 characters\n",
        "data/arabian_nights/124.txt has 2384 characters\n",
        "data/arabian_nights/125.txt has 2825 characters\n",
        "data/arabian_nights/126.txt has 2604 characters\n",
        "data/arabian_nights/127.txt has 468 characters\n",
        "data/arabian_nights/128.txt has 846 characters\n",
        "data/arabian_nights/129.txt has 833 characters\n",
        "data/arabian_nights/13.txt has 9260 characters\n",
        "data/arabian_nights/130.txt has 2750 characters\n",
        "data/arabian_nights/131.txt has 2502 characters\n",
        "data/arabian_nights/132.txt has 2370 characters\n",
        "data/arabian_nights/133.txt has 2164 characters\n",
        "data/arabian_nights/134.txt has 2795 characters\n",
        "data/arabian_nights/135.txt has 3465 characters\n",
        "data/arabian_nights/136.txt has 2990 characters\n",
        "data/arabian_nights/137.txt has 1594 characters\n",
        "data/arabian_nights/138.txt has 2055 characters\n",
        "data/arabian_nights/139.txt has 3083 characters\n",
        "data/arabian_nights/14.txt has 19945 characters\n",
        "data/arabian_nights/140.txt has 1420 characters\n",
        "data/arabian_nights/141.txt has 2422 characters\n",
        "data/arabian_nights/142.txt has 2621 characters\n",
        "data/arabian_nights/143.txt has 2621 characters\n",
        "data/arabian_nights/144.txt has 3551 characters\n",
        "data/arabian_nights/145.txt has 3569 characters\n",
        "data/arabian_nights/146.txt has 3898 characters\n",
        "data/arabian_nights/147.txt has 11192 characters\n",
        "data/arabian_nights/148.txt has 3224 characters\n",
        "data/arabian_nights/149.txt has 2025 characters\n",
        "data/arabian_nights/15.txt has 22876 characters\n",
        "data/arabian_nights/150.txt has 3370 characters\n",
        "data/arabian_nights/151.txt has 2194 characters\n",
        "data/arabian_nights/152.txt has 3036 characters\n",
        "data/arabian_nights/153.txt has 6163 characters\n",
        "data/arabian_nights/154.txt has 3973 characters\n",
        "data/arabian_nights/155.txt has 8427 characters\n",
        "data/arabian_nights/156.txt has 2357 characters\n",
        "data/arabian_nights/157.txt has 3815 characters\n",
        "data/arabian_nights/158.txt has 2528 characters\n",
        "data/arabian_nights/159.txt has 3557 characters\n",
        "data/arabian_nights/16.txt has 44706 characters\n",
        "data/arabian_nights/160.txt has 8954 characters\n",
        "data/arabian_nights/161.txt has 13353 characters\n",
        "data/arabian_nights/162.txt has 1837 characters\n",
        "data/arabian_nights/163.txt has 1106 characters\n",
        "data/arabian_nights/164.txt has 16333 characters\n",
        "data/arabian_nights/165.txt has 1230 characters\n",
        "data/arabian_nights/166.txt has 836 characters\n",
        "data/arabian_nights/167.txt has 1507 characters\n",
        "data/arabian_nights/168.txt has 44710 characters\n",
        "data/arabian_nights/169.txt has 4931 characters\n",
        "data/arabian_nights/17.txt has 16408 characters\n",
        "data/arabian_nights/170.txt has 105826 characters\n",
        "data/arabian_nights/171.txt has 3511 characters\n",
        "data/arabian_nights/172.txt has 4293 characters\n",
        "data/arabian_nights/173.txt has 2695 characters\n",
        "data/arabian_nights/174.txt has 3156 characters\n",
        "data/arabian_nights/175.txt has 2690 characters\n",
        "data/arabian_nights/176.txt has 6996 characters\n",
        "data/arabian_nights/177.txt has 4992 characters\n",
        "data/arabian_nights/178.txt has 6023 characters\n",
        "data/arabian_nights/179.txt has 8444 characters\n",
        "data/arabian_nights/18.txt has 20609 characters\n",
        "data/arabian_nights/180.txt has 2759 characters\n",
        "data/arabian_nights/181.txt has 6566 characters\n",
        "data/arabian_nights/182.txt has 7646 characters\n",
        "data/arabian_nights/183.txt has 10772 characters\n",
        "data/arabian_nights/184.txt has 6039 characters\n",
        "data/arabian_nights/185.txt has 3079 characters\n",
        "data/arabian_nights/186.txt has 3722 characters\n",
        "data/arabian_nights/187.txt has 9787 characters\n",
        "data/arabian_nights/188.txt has 6483 characters\n",
        "data/arabian_nights/189.txt has 12523 characters\n",
        "data/arabian_nights/19.txt has 6436 characters\n",
        "data/arabian_nights/190.txt has 55466 characters\n",
        "data/arabian_nights/191.txt has 153934 characters\n",
        "data/arabian_nights/192.txt has 7427 characters\n",
        "data/arabian_nights/193.txt has 18955 characters\n",
        "data/arabian_nights/194.txt has 17447 characters\n",
        "data/arabian_nights/195.txt has 24668 characters\n",
        "data/arabian_nights/196.txt has 28861 characters\n",
        "data/arabian_nights/197.txt has 20456 characters\n",
        "data/arabian_nights/198.txt has 21461 characters\n",
        "data/arabian_nights/199.txt has 21330 characters\n",
        "data/arabian_nights/2.txt has 15461 characters\n",
        "data/arabian_nights/20.txt has 25730 characters\n",
        "data/arabian_nights/200.txt has 10504 characters\n",
        "data/arabian_nights/201.txt has 82577 characters\n",
        "data/arabian_nights/202.txt has 15050 characters\n",
        "data/arabian_nights/203.txt has 5318 characters\n",
        "data/arabian_nights/204.txt has 4411 characters\n",
        "data/arabian_nights/205.txt has 1042 characters\n",
        "data/arabian_nights/206.txt has 4212 characters\n",
        "data/arabian_nights/207.txt has 2375 characters\n",
        "data/arabian_nights/208.txt has 3387 characters\n",
        "data/arabian_nights/209.txt has 6236 characters\n",
        "data/arabian_nights/21.txt has 44776 characters\n",
        "data/arabian_nights/210.txt has 1303 characters\n",
        "data/arabian_nights/211.txt has 3166 characters\n",
        "data/arabian_nights/212.txt has 11706 characters\n",
        "data/arabian_nights/213.txt has 3669 characters\n",
        "data/arabian_nights/214.txt has 9478 characters\n",
        "data/arabian_nights/215.txt has 8773 characters\n",
        "data/arabian_nights/216.txt has 16462 characters\n",
        "data/arabian_nights/217.txt has 4705 characters\n",
        "data/arabian_nights/218.txt has 5060 characters\n",
        "data/arabian_nights/219.txt has 16472 characters\n",
        "data/arabian_nights/22.txt has 2701 characters\n",
        "data/arabian_nights/220.txt has 3263 characters\n",
        "data/arabian_nights/221.txt has 2864 characters\n",
        "data/arabian_nights/222.txt has 914 characters\n",
        "data/arabian_nights/223.txt has 10731 characters\n",
        "data/arabian_nights/224.txt has 21819 characters\n",
        "data/arabian_nights/225.txt has 6359 characters\n",
        "data/arabian_nights/226.txt has 10522 characters\n",
        "data/arabian_nights/227.txt has 2237 characters\n",
        "data/arabian_nights/228.txt has 4536 characters\n",
        "data/arabian_nights/229.txt has 2328 characters\n",
        "data/arabian_nights/23.txt has 23284 characters\n",
        "data/arabian_nights/230.txt has 96076 characters\n",
        "data/arabian_nights/231.txt has 283989 characters\n",
        "data/arabian_nights/232.txt has 9659 characters\n",
        "data/arabian_nights/233.txt has 4595 characters\n",
        "data/arabian_nights/234.txt has 10078 characters\n",
        "data/arabian_nights/235.txt has 8234 characters\n",
        "data/arabian_nights/236.txt has 4397 characters\n",
        "data/arabian_nights/237.txt has 6195 characters\n",
        "data/arabian_nights/238.txt has 6008 characters\n",
        "data/arabian_nights/239.txt has 14528 characters\n",
        "data/arabian_nights/24.txt has 21332 characters\n",
        "data/arabian_nights/240.txt has 10870 characters\n",
        "data/arabian_nights/241.txt has 10734 characters\n",
        "data/arabian_nights/242.txt has 7071 characters\n",
        "data/arabian_nights/243.txt has 6324 characters\n",
        "data/arabian_nights/244.txt has 3630 characters\n",
        "data/arabian_nights/245.txt has 60894 characters\n",
        "data/arabian_nights/246.txt has 81693 characters\n",
        "data/arabian_nights/247.txt has 126456 characters\n",
        "data/arabian_nights/248.txt has 98616 characters\n",
        "data/arabian_nights/249.txt has 12161 characters\n",
        "data/arabian_nights/25.txt has 5331 characters\n",
        "data/arabian_nights/250.txt has 137917 characters\n",
        "data/arabian_nights/251.txt has 295745 characters\n",
        "data/arabian_nights/252.txt has 81084 characters\n",
        "data/arabian_nights/253.txt has 45391 characters\n",
        "data/arabian_nights/254.txt has 122329 characters\n",
        "data/arabian_nights/255.txt has 201355 characters\n",
        "data/arabian_nights/256.txt has 10607 characters\n",
        "data/arabian_nights/257.txt has 16848 characters\n",
        "data/arabian_nights/258.txt has 6002 characters\n",
        "data/arabian_nights/259.txt has 9427 characters\n",
        "data/arabian_nights/26.txt has 18739 characters\n",
        "data/arabian_nights/260.txt has 7410 characters\n",
        "data/arabian_nights/261.txt has 5185 characters\n",
        "data/arabian_nights/262.txt has 3804 characters\n",
        "data/arabian_nights/263.txt has 4882 characters\n",
        "data/arabian_nights/264.txt has 6543 characters\n",
        "data/arabian_nights/265.txt has 6566 characters\n",
        "data/arabian_nights/266.txt has 5513 characters\n",
        "data/arabian_nights/267.txt has 1772 characters\n",
        "data/arabian_nights/268.txt has 11831 characters\n",
        "data/arabian_nights/269.txt has 5299 characters\n",
        "data/arabian_nights/27.txt has 120159 characters\n",
        "data/arabian_nights/270.txt has 3355 characters\n",
        "data/arabian_nights/271.txt has 51973 characters\n",
        "data/arabian_nights/272.txt has 3837 characters\n",
        "data/arabian_nights/273.txt has 5846 characters\n",
        "data/arabian_nights/274.txt has 4343 characters\n",
        "data/arabian_nights/275.txt has 6455 characters\n",
        "data/arabian_nights/276.txt has 5862 characters\n",
        "data/arabian_nights/277.txt has 2150 characters\n",
        "data/arabian_nights/278.txt has 13060 characters\n",
        "data/arabian_nights/279.txt has 5980 characters\n",
        "data/arabian_nights/28.txt has 14840 characters\n",
        "data/arabian_nights/280.txt has 44555 characters\n",
        "data/arabian_nights/281.txt has 66237 characters\n",
        "data/arabian_nights/282.txt has 47947 characters\n",
        "data/arabian_nights/283.txt has 41445 characters\n",
        "data/arabian_nights/284.txt has 46029 characters\n",
        "data/arabian_nights/285.txt has 36783 characters\n",
        "data/arabian_nights/286.txt has 117702 characters\n",
        "data/arabian_nights/287.txt has 96533 characters\n",
        "data/arabian_nights/288.txt has 111830 characters\n",
        "data/arabian_nights/289.txt has 18358 characters\n",
        "data/arabian_nights/29.txt has 32050 characters\n",
        "data/arabian_nights/3.txt has 3795 characters\n",
        "data/arabian_nights/30.txt has 21459 characters\n",
        "data/arabian_nights/31.txt has 22122 characters\n",
        "data/arabian_nights/32.txt has 34597 characters\n",
        "data/arabian_nights/33.txt has 4672 characters\n",
        "data/arabian_nights/34.txt has 10637 characters\n",
        "data/arabian_nights/35.txt has 9992 characters\n",
        "data/arabian_nights/36.txt has 6111 characters\n",
        "data/arabian_nights/37.txt has 7220 characters\n",
        "data/arabian_nights/38.txt has 18143 characters\n",
        "data/arabian_nights/39.txt has 10635 characters\n",
        "data/arabian_nights/4.txt has 6151 characters\n",
        "data/arabian_nights/40.txt has 1606 characters\n",
        "data/arabian_nights/41.txt has 5223 characters\n",
        "data/arabian_nights/42.txt has 91972 characters\n",
        "data/arabian_nights/43.txt has 8326 characters\n",
        "data/arabian_nights/44.txt has 2729 characters\n",
        "data/arabian_nights/45.txt has 11708 characters\n",
        "data/arabian_nights/46.txt has 45425 characters\n",
        "data/arabian_nights/47.txt has 445878 characters\n",
        "data/arabian_nights/48.txt has 31302 characters\n",
        "data/arabian_nights/49.txt has 88073 characters\n",
        "data/arabian_nights/5.txt has 8855 characters\n",
        "data/arabian_nights/50.txt has 87168 characters\n",
        "data/arabian_nights/51.txt has 95442 characters\n",
        "data/arabian_nights/52.txt has 28933 characters\n",
        "data/arabian_nights/53.txt has 16580 characters\n",
        "data/arabian_nights/54.txt has 6190 characters\n",
        "data/arabian_nights/55.txt has 23588 characters\n",
        "data/arabian_nights/56.txt has 7565 characters\n",
        "data/arabian_nights/57.txt has 6322 characters\n",
        "data/arabian_nights/58.txt has 13185 characters\n",
        "data/arabian_nights/59.txt has 1366 characters\n",
        "data/arabian_nights/6.txt has 8605 characters\n",
        "data/arabian_nights/60.txt has 15870 characters\n",
        "data/arabian_nights/61.txt has 3360 characters\n",
        "data/arabian_nights/62.txt has 1801 characters\n",
        "data/arabian_nights/63.txt has 2627 characters\n",
        "data/arabian_nights/64.txt has 6282 characters\n",
        "data/arabian_nights/65.txt has 1637 characters\n",
        "data/arabian_nights/66.txt has 1983 characters\n",
        "data/arabian_nights/67.txt has 4645 characters\n",
        "data/arabian_nights/68.txt has 1404 characters\n",
        "data/arabian_nights/69.txt has 1595 characters\n",
        "data/arabian_nights/7.txt has 3874 characters\n",
        "data/arabian_nights/70.txt has 1814 characters\n",
        "data/arabian_nights/71.txt has 3601 characters\n",
        "data/arabian_nights/72.txt has 110083 characters\n",
        "data/arabian_nights/73.txt has 274908 characters\n",
        "data/arabian_nights/74.txt has 47433 characters\n",
        "data/arabian_nights/75.txt has 11984 characters\n",
        "data/arabian_nights/76.txt has 137794 characters\n",
        "data/arabian_nights/77.txt has 2777 characters\n",
        "data/arabian_nights/78.txt has 1469 characters\n",
        "data/arabian_nights/79.txt has 3338 characters\n",
        "data/arabian_nights/8.txt has 14015 characters\n",
        "data/arabian_nights/80.txt has 3816 characters\n",
        "data/arabian_nights/81.txt has 4425 characters\n",
        "data/arabian_nights/82.txt has 17661 characters\n",
        "data/arabian_nights/83.txt has 11742 characters\n",
        "data/arabian_nights/84.txt has 12828 characters\n",
        "data/arabian_nights/85.txt has 10409 characters\n",
        "data/arabian_nights/86.txt has 38024 characters\n",
        "data/arabian_nights/87.txt has 8322 characters\n",
        "data/arabian_nights/88.txt has 5079 characters\n",
        "data/arabian_nights/89.txt has 8217 characters\n",
        "data/arabian_nights/9.txt has 11696 characters\n",
        "data/arabian_nights/90.txt has 4142 characters\n",
        "data/arabian_nights/91.txt has 36453 characters\n",
        "data/arabian_nights/92.txt has 5601 characters\n",
        "data/arabian_nights/93.txt has 7956 characters\n",
        "data/arabian_nights/94.txt has 3786 characters\n",
        "data/arabian_nights/95.txt has 82799 characters\n",
        "data/arabian_nights/96.txt has 34784 characters\n",
        "data/arabian_nights/97.txt has 27786 characters\n",
        "data/arabian_nights/98.txt has 8770 characters\n",
        "data/arabian_nights/99.txt has 6543 characters\n"
       ]
      }
     ],
     "prompt_number": 4
    },
    {
     "cell_type": "markdown",
     "metadata": {},
     "source": [
      "---"
     ]
    },
    {
     "cell_type": "heading",
     "level": 2,
     "metadata": {},
     "source": [
      "Sentence tokenization"
     ]
    },
    {
     "cell_type": "markdown",
     "metadata": {},
     "source": [
      "In the previous chapter we wrote a function to tokenize or split a text string into a list of tokens. However, using this function we lose information about where sentences end and start in the text. We will develop a function `split_sentences` that performs a very simple sentence splitting when passed text string. Each sentence will be represented as a new string, so the function as a whole returns a list of sentence strings. We assume that any occurrence of either `.` or `!` or `?` marks the end of a sentence. In reality, this is more ambiguous of course, consider for example the use of periods as end-of-sentence marker as well as in abbreviations and initials!\n",
      "\n",
      "How should we tackle this problem? Have a look at the following picture:"
     ]
    },
    {
     "cell_type": "markdown",
     "metadata": {},
     "source": [
      "![caption](files/indexing.png)"
     ]
    },
    {
     "cell_type": "markdown",
     "metadata": {},
     "source": [
      "The first sentence *Hello there!* spans from 0 to 11. The second sentence from 13 to 26. If we kind come up with a way to extract those indexes, we could slice the text using those indexes into separate sentences. First we define a utility function `end_of_sentence` that takes as argument a character and returns True if it is an end-of-sentence marker, otherwise it returns False. "
     ]
    },
    {
     "cell_type": "markdown",
     "metadata": {},
     "source": [
      "---"
     ]
    },
    {
     "cell_type": "heading",
     "level": 4,
     "metadata": {},
     "source": [
      "Quiz!"
     ]
    },
    {
     "cell_type": "markdown",
     "metadata": {},
     "source": [
      "Write the function `end_of_sentence_marker` below:"
     ]
    },
    {
     "cell_type": "code",
     "collapsed": false,
     "input": [
      "def end_of_sentence_marker(character):\n",
      "    # insert your code here\n",
      "\n",
      "# these tests should return True if your code is correct\n",
      "print(end_of_sentence_marker(\"?\") == True)\n",
      "print(end_of_sentence_marker(\"a\") == False)"
     ],
     "language": "python",
     "metadata": {},
     "outputs": [
      {
       "ename": "IndentationError",
       "evalue": "expected an indented block (<ipython-input-15-1d084bae50a6>, line 5)",
       "output_type": "pyerr",
       "traceback": [
        "\u001b[0;36m  File \u001b[0;32m\"<ipython-input-15-1d084bae50a6>\"\u001b[0;36m, line \u001b[0;32m5\u001b[0m\n\u001b[0;31m    print(end_of_sentence_marker(\"?\") == True)\u001b[0m\n\u001b[0m        ^\u001b[0m\n\u001b[0;31mIndentationError\u001b[0m\u001b[0;31m:\u001b[0m expected an indented block\n"
       ]
      }
     ],
     "prompt_number": 15
    },
    {
     "cell_type": "markdown",
     "metadata": {},
     "source": [
      "---"
     ]
    },
    {
     "cell_type": "markdown",
     "metadata": {},
     "source": [
      "An important function we will use is the built in `enumerate`. `enumerate` takes as argument any iterable (a string a list etc.). Let's see it in action:"
     ]
    },
    {
     "cell_type": "code",
     "collapsed": false,
     "input": [
      "for element in enumerate(\"Python\"):\n",
      "    print(element)"
     ],
     "language": "python",
     "metadata": {},
     "outputs": [
      {
       "output_type": "stream",
       "stream": "stdout",
       "text": [
        "(0, 'P')\n",
        "(1, 'y')\n",
        "(2, 't')\n",
        "(3, 'h')\n",
        "(4, 'o')\n",
        "(5, 'n')\n"
       ]
      }
     ],
     "prompt_number": 6
    },
    {
     "cell_type": "markdown",
     "metadata": {},
     "source": [
      "As you can see, enumerate allows you to iterate over an iterable and for each element in that iterable, it gives you its corresponding index. A slightly more convenient way of iterating over `enumerate` is the following:"
     ]
    },
    {
     "cell_type": "code",
     "collapsed": false,
     "input": [
      "for i, character in enumerate(\"Python\"):\n",
      "    print(i)"
     ],
     "language": "python",
     "metadata": {},
     "outputs": [
      {
       "output_type": "stream",
       "stream": "stdout",
       "text": [
        "0\n",
        "1\n",
        "2\n",
        "3\n",
        "4\n",
        "5\n"
       ]
      }
     ],
     "prompt_number": 7
    },
    {
     "cell_type": "markdown",
     "metadata": {},
     "source": [
      "This way, we have easy access to both the index and the original item in the iterable. Now we know enough to write our `split_sentences` function. We walk you through it, step by step, but first try to read the function and think about what is possible does at each step:"
     ]
    },
    {
     "cell_type": "code",
     "collapsed": false,
     "input": [
      "def split_sentences(text):\n",
      "    \"Split a text string into a list of sentences.\"\n",
      "    sentences = []\n",
      "    start = 0\n",
      "    for end, character in enumerate(text):\n",
      "        if end_of_sentence_marker(character):\n",
      "            sentence = text[start: end + 1]\n",
      "            sentences.append(sentence)\n",
      "            start = end + 1\n",
      "    return sentences"
     ],
     "language": "python",
     "metadata": {},
     "outputs": [],
     "prompt_number": 8
    },
    {
     "cell_type": "markdown",
     "metadata": {},
     "source": [
      "The function `split_sentences` takes as argument a text represented by a simple string. Within the function we define a variable `sentences` in which we will store the individual sentences. We need to extract both the start position and end position of each sentence. We know that the first sentence will always start at position 0. Therefore we define a variable start and set it to zero.\n",
      "\n",
      "Next we will use `enumerate` to loop over all individual characters in the text. Remember that enumerate returns pairs of indexes and their corresponding elements (here characters) in some iterable. For each character we check whether it is an end-of-sentence marker. If it is, the variable `end` marks the position in `text` where a sentence ends. We can now slice the text from the starting position to the end position and obtain our sentence. Notice that we add 1 to the end position. Why would that be? This is because as you might remember from the first chapter, slices are non-inclusive, so `text[start:end]` would return the text starting at `start` and ending 1 index before `end`. Since we have reached the end of a sentence, we know that the next sentence will start at least 1 position later than our last end point. Therefore, we update the start variable to `end + 1`. Let's see if our function works as promised:"
     ]
    },
    {
     "cell_type": "code",
     "collapsed": false,
     "input": [
      "print(split_sentences(\"This is a sentence. Should we seperate it from this one?\"))"
     ],
     "language": "python",
     "metadata": {},
     "outputs": [
      {
       "output_type": "stream",
       "stream": "stdout",
       "text": [
        "['This is a sentence.', ' Should we seperate it from this one?']\n"
       ]
      }
     ],
     "prompt_number": 9
    },
    {
     "cell_type": "markdown",
     "metadata": {},
     "source": [
      "It does! "
     ]
    },
    {
     "cell_type": "markdown",
     "metadata": {},
     "source": [
      "---"
     ]
    },
    {
     "cell_type": "heading",
     "level": 4,
     "metadata": {},
     "source": [
      "Quiz!"
     ]
    },
    {
     "cell_type": "markdown",
     "metadata": {},
     "source": [
      "To conclude this section, you will write a wrapper function `tokenize`, that takes as input a text represented by a string and tokenizes this string into sentences. After that, we clean each sentence, by lowercasing all words and removing punctuation. The final step is to tokenize each sentence into a list of words. The file `preprocessing.py` contains a function called `clean_text` which removes all punctuation from a text turns all characters to lowercase. We import that function using the following line:"
     ]
    },
    {
     "cell_type": "code",
     "collapsed": false,
     "input": [
      "from preprocessing import clean_text"
     ],
     "language": "python",
     "metadata": {},
     "outputs": [],
     "prompt_number": 10
    },
    {
     "cell_type": "code",
     "collapsed": false,
     "input": [
      "def tokenize(text):\n",
      "    \"\"\"Transform TEXT into a list of sentences. Lowercase \n",
      "    each sentence and remove all punctuation. Finally split each\n",
      "    sentence into a list of words.\"\"\"\n",
      "    # insert your code here\n",
      "    \n",
      "# these tests should return True if your code is correct\n",
      "print(tokenize(\"This is a sentence. So, what!\") == \n",
      "      [[\"this\", \"is\", \"a\", \"sentence\"], [\"so\", \"what\"]])"
     ],
     "language": "python",
     "metadata": {},
     "outputs": [
      {
       "output_type": "stream",
       "stream": "stdout",
       "text": [
        "True\n"
       ]
      }
     ],
     "prompt_number": 14
    },
    {
     "cell_type": "markdown",
     "metadata": {},
     "source": [
      "---"
     ]
    },
    {
     "cell_type": "code",
     "collapsed": false,
     "input": [],
     "language": "python",
     "metadata": {},
     "outputs": []
    },
    {
     "cell_type": "markdown",
     "metadata": {},
     "source": [
      "---"
     ]
    },
    {
     "cell_type": "markdown",
     "metadata": {},
     "source": [
      "Ignore the following, it's just here to make the page pretty:"
     ]
    },
    {
     "cell_type": "code",
     "collapsed": false,
     "input": [
      "from IPython.core.display import HTML\n",
      "def css_styling():\n",
      "    styles = open(\"styles/custom.css\", \"r\").read()\n",
      "    return HTML(styles)\n",
      "css_styling()"
     ],
     "language": "python",
     "metadata": {},
     "outputs": [
      {
       "html": [
        "<style>\n",
        "    @font-face {\n",
        "        font-family: \"Computer Modern\";\n",
        "        src: url('http://mirrors.ctan.org/fonts/cm-unicode/fonts/otf/cmunss.otf');\n",
        "    }\n",
        "    div.cell {\n",
        "        width:800px;\n",
        "        margin-left:auto;\n",
        "        margin-right:auto;\n",
        "    }\n",
        "    div.cell, .input.hbox {\n",
        "    display:block;\n",
        "}\n",
        "    h1 {\n",
        "        font-family: \"Charis SIL\", Palatino, serif;\n",
        "    }\n",
        "    h4{\n",
        "        margin-top:12px;\n",
        "        margin-bottom: 3px;\n",
        "       }\n",
        "    div.text_cell_render{\n",
        "        font-family: Computer Modern, \"Helvetica Neue\", Arial, Helvetica, Geneva, sans-serif;\n",
        "        line-height: 145%;\n",
        "        font-size: 120%;\n",
        "        width:800px;\n",
        "        margin-left:auto;\n",
        "        margin-right:auto;\n",
        "    }\n",
        "    .CodeMirror{\n",
        "            font-family: \"Source Code Pro\", source-code-pro,Consolas, monospace;\n",
        "    }\n",
        "    .prompt{\n",
        "        display: None;\n",
        "    }\n",
        "    .text_cell_render h5 {\n",
        "        font-weight: 300;\n",
        "        font-size: 16pt;\n",
        "        color: #4057A1;\n",
        "        font-style: italic;\n",
        "        margin-bottom: .5em;\n",
        "        margin-top: 0.5em;\n",
        "        display: block;\n",
        "    }\n",
        "    \n",
        "    .warning{\n",
        "        color: rgb( 240, 20, 20 )\n",
        "        }\n",
        "</style>\n",
        "<script>\n",
        "    MathJax.Hub.Config({\n",
        "                        TeX: {\n",
        "                           extensions: [\"AMSmath.js\"]\n",
        "                           },\n",
        "                tex2jax: {\n",
        "                    inlineMath: [ ['$','$'], [\"\\\\(\",\"\\\\)\"] ],\n",
        "                    displayMath: [ ['$$','$$'], [\"\\\\[\",\"\\\\]\"] ]\n",
        "                },\n",
        "                displayAlign: 'center', // Change this to 'center' to center equations.\n",
        "                \"HTML-CSS\": {\n",
        "                    styles: {'.MathJax_Display': {\"margin\": 4}}\n",
        "                }\n",
        "        });\n",
        "</script>"
       ],
       "metadata": {},
       "output_type": "pyout",
       "prompt_number": 15,
       "text": [
        "<IPython.core.display.HTML at 0x10823db90>"
       ]
      }
     ],
     "prompt_number": 15
    },
    {
     "cell_type": "markdown",
     "metadata": {},
     "source": [
      "by Folgert Karsdorp (Meertens Instituut) en Maarten van Gompel (Radboud University Nijmegen)\n",
      "\n",
      "Licensed under the [GNU Free Documentation License](http://www.gnu.org/copyleft/fdl.html)"
     ]
    }
   ],
   "metadata": {}
  }
 ]
}