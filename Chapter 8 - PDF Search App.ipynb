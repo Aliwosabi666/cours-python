{
 "metadata": {
  "name": "",
  "signature": "sha256:21105df58501271ce72b4d146b57d2074fb3c46232d079a0c8985b572debc34e"
 },
 "nbformat": 3,
 "nbformat_minor": 0,
 "worksheets": [
  {
   "cells": [
    {
     "cell_type": "heading",
     "level": 1,
     "metadata": {},
     "source": [
      "Chapter 8 - Practical: Searching your own PDF library"
     ]
    },
    {
     "cell_type": "markdown",
     "metadata": {},
     "source": [
      "-- *A Python Course for the Humanities*"
     ]
    },
    {
     "cell_type": "markdown",
     "metadata": {},
     "source": [
      "---"
     ]
    },
    {
     "cell_type": "markdown",
     "metadata": {},
     "source": [
      "Our Information Retrieval system is simple and relatively efficient, but it lacks many features of a full-blown search engine. One particular downside of the system is that it stores the index in RAM memory. This means that either we have to keep the index in memory or we have to rebuild the index each time we would like to search through a particular collection. There are some excellent Python packages for Information Retrieval and search engines. In this section we will explore one of them, called [Whoosh](http://whoosh.readthedocs.org/en/latest/), a search engine and retrieval system written in pure Python. \n",
      "\n",
      "Ever since science-journal giant Elsevier bought the once so promising bibliography management software [Mendeley](http://www.mendeley.com/), I have looked for alternative ways to manage my research PDF collection. For me, one of the most important features of a PDF management tool is to be able to search the PDFs full texts for the content I am interested in. Uptill today I have not found a tool that fulfills all my needs, so we are going to build one ourselves. We will construct a full-blown search engine using Whoosh which we can query using a web interface build with [Flask](http://flask.pocoo.org/). Just to tease you a bit: this is what our search engine will look like:\n",
      "\n",
      "![pydf](files/images/pypdf.png)\n",
      "\n",
      "Before we get started, make sure you have installed both Whoosh and Flask on your computer. If you use Anaconda's Python distribution, you can execute the following command on the commandline:\n",
      "\n",
      "    conda install whoosh flask\n",
      "    \n",
      "It is also possible to install the modules using pip:\n",
      "\n",
      "    pip install whoosh flask\n",
      "    \n",
      "Finally we will need one of the programs shipped with the PDF reader [Xpdf](http://www.foolabs.com/xpdf/). Please install Xpdf from [here](http://www.foolabs.com/xpdf/download.html)."
     ]
    },
    {
     "cell_type": "markdown",
     "metadata": {},
     "source": [
      "---"
     ]
    },
    {
     "cell_type": "heading",
     "level": 2,
     "metadata": {},
     "source": [
      "The Index"
     ]
    },
    {
     "cell_type": "markdown",
     "metadata": {},
     "source": [
      "The `Index` is the most central object in a search engine Whoosh. It allows us to store our data in a secure and sustainable way as well as to search through our data. Every index requires an index schema which lists the available fields in the index. Fields are pieces of information for each document in the collection. It could represent the author of a text, its publication date or the text body itself, and so on and so forth. For our PDF Index, we start with a schema consisting of the following fields:\n",
      "\n",
      "1. id (a unique document ID);\n",
      "2. path (the filepath to the document on your computer);\n",
      "3. source (the filepath to the original source on your computer);\n",
      "4. author (the author or authors of the text);\n",
      "5. text (the actual text of the pdf);\n",
      "\n",
      "All these fields will be indexed for each pdf in our collection and each field will be searchable. To create our schema in Whoosh, we first import the `Schema` object from `whoosh.fields`:"
     ]
    },
    {
     "cell_type": "code",
     "collapsed": false,
     "input": [
      "from whoosh.fields import Schema"
     ],
     "language": "python",
     "metadata": {},
     "outputs": [],
     "prompt_number": 1
    },
    {
     "cell_type": "markdown",
     "metadata": {},
     "source": [
      "For each field we need to specify to Whoosh what kind of field it is. Whoosh defines fields like `KEYWORD` for keyword fields, `ID` for unique identifiable fields (e.g. filepaths), `DATETIME` for fields specifying information about dates, `TEXT` for textual objects, and some others."
     ]
    },
    {
     "cell_type": "markdown",
     "metadata": {},
     "source": [
      "---"
     ]
    },
    {
     "cell_type": "heading",
     "level": 4,
     "metadata": {},
     "source": [
      "Quiz!"
     ]
    },
    {
     "cell_type": "markdown",
     "metadata": {},
     "source": [
      "Have a look at the different fields provided by Whoosh, [here](http://whoosh.readthedocs.org/en/latest/api/fields.html#pre-made-field-types). Which field types would be appropriate for the fields defined above?"
     ]
    },
    {
     "cell_type": "markdown",
     "metadata": {},
     "source": [
      "*Double click this cell and write down your answer*"
     ]
    },
    {
     "cell_type": "markdown",
     "metadata": {},
     "source": [
      "---"
     ]
    },
    {
     "cell_type": "markdown",
     "metadata": {},
     "source": [
      "For each field type you can pass some additional arguments, such as whether the field should be stored, whether it should be sortable, etc. For reasons that will be clear later on, we want all our ID fields to be stored in the index. We import the appropriate fields and define our schema as follows:"
     ]
    },
    {
     "cell_type": "code",
     "collapsed": false,
     "input": [
      "from whoosh.fields import ID, KEYWORD, TEXT\n",
      "\n",
      "pdf_schema = Schema(id = ID, \n",
      "                    path = ID(stored=True), \n",
      "                    source = ID(stored=True), \n",
      "                    author = KEYWORD(commas=True), \n",
      "                    text = TEXT)"
     ],
     "language": "python",
     "metadata": {},
     "outputs": []
    },
    {
     "cell_type": "markdown",
     "metadata": {},
     "source": [
      "Once we have defined a schema, we can create the index using the function `create_in`:"
     ]
    },
    {
     "cell_type": "code",
     "collapsed": false,
     "input": [
      "import os\n",
      "from whoosh.index import create_in\n",
      "\n",
      "if not os.path.exists(\"pydf/pdf-index\"):\n",
      "    os.mkdir(\"pydf/pdf-index\")\n",
      "    index = create_in(\"pydf/pdf-index\", pdf_schema)"
     ],
     "language": "python",
     "metadata": {},
     "outputs": []
    },
    {
     "cell_type": "markdown",
     "metadata": {},
     "source": [
      "The index can be opened after creation, using the following lines of code:"
     ]
    },
    {
     "cell_type": "code",
     "collapsed": false,
     "input": [
      "from whoosh.index import open_dir\n",
      "\n",
      "index = open_dir(\"pydf/pdf-index\")"
     ],
     "language": "python",
     "metadata": {},
     "outputs": []
    },
    {
     "cell_type": "markdown",
     "metadata": {},
     "source": [
      "Now that we have an index, we can add some documents to it. The `IndexWriter` object let's you do just that. The method `writer()` of our index returns an instantiation of the `IndexWriter`. We can use the `add_document` method of `IndexWriter` to add our documents. `add_document` accepts keyword arguments corresponding to the fields we specified in our schema:"
     ]
    },
    {
     "cell_type": "markdown",
     "metadata": {},
     "source": [
      "We add our first document:"
     ]
    },
    {
     "cell_type": "code",
     "collapsed": false,
     "input": [
      "writer.add_document(id = 'blei2003', \n",
      "                    path = 'pydf/data/blei2003.txt',\n",
      "                    source = 'pydf/pdfs/blei2003.pdf',\n",
      "                    author = 'David Blei, Andrew Ng, Michael Jordan',\n",
      "                    text = open('pydf/data/blei2003.txt', encoding='utf-8').read())"
     ],
     "language": "python",
     "metadata": {},
     "outputs": []
    },
    {
     "cell_type": "markdown",
     "metadata": {},
     "source": [
      "And some more:"
     ]
    },
    {
     "cell_type": "code",
     "collapsed": false,
     "input": [
      "writer.add_document(id = 'goodwyn2013', \n",
      "                    path = 'pydf/data/goodwyn2013.txt',\n",
      "                    source = 'pydf/pdfs/goodwyn2013.pdf',\n",
      "                    author = 'Erik Goodwyn',\n",
      "                    text = open('pydf/data/goodwyn2013.txt', encoding='utf-8').read())\n",
      "\n",
      "writer.add_document(id = 'meij2009', \n",
      "                    path = 'pydf/data/meij2009.txt',\n",
      "                    source = 'pydf/pdfs/meij2009.pdf',\n",
      "                    author = 'Edgar Meij, Dolf Trieschnigg, Maarten de Rijke, Wessel Kraaij',\n",
      "                    text = open('pydf/data/meij2009.txt', encoding='utf-8').read())\n",
      "\n",
      "writer.add_document(id = 'muellner2011', \n",
      "                    path = 'pydf/data/muellner2011.txt',\n",
      "                    source = 'pydf/pdfs/muellner2011.pdf',\n",
      "                    author = 'David Muellner',\n",
      "                    text = open('pydf/data/muellner2011.txt', encoding='utf-8').read())"
     ],
     "language": "python",
     "metadata": {},
     "outputs": []
    },
    {
     "cell_type": "markdown",
     "metadata": {},
     "source": [
      "Calling commit() on the IndexWriter saves the added documents to the index:"
     ]
    },
    {
     "cell_type": "code",
     "collapsed": false,
     "input": [
      "writer.commit()"
     ],
     "language": "python",
     "metadata": {},
     "outputs": []
    },
    {
     "cell_type": "markdown",
     "metadata": {},
     "source": [
      "---"
     ]
    },
    {
     "cell_type": "heading",
     "level": 2,
     "metadata": {},
     "source": [
      "Searching and Querying"
     ]
    },
    {
     "cell_type": "markdown",
     "metadata": {},
     "source": [
      "After that, we are ready to search the index for documents. Similar to the method `writer` of the `Index` object, the method `searcher` returns a `Searcher` object which allows us to read and search the index. The `Searcher` object opens a connection to the index. To prevent the system from running out of file handles, it is best practice to instantiate the searcher within a `with` statement:\n",
      "\n",
      "    with index.searcher() as searcher:\n",
      "        do something\n",
      "        \n",
      "We will do so later on when we automatically index a complete collection of pdfs, but for now we instantiate a searcher as follows:"
     ]
    },
    {
     "cell_type": "code",
     "collapsed": false,
     "input": [
      "searcher = index.searcher()"
     ],
     "language": "python",
     "metadata": {},
     "outputs": []
    },
    {
     "cell_type": "markdown",
     "metadata": {},
     "source": [
      "---"
     ]
    },
    {
     "cell_type": "markdown",
     "metadata": {},
     "source": [
      "You've reached the end of the chapter. Ignore the code below, it's just here to make the page pretty:"
     ]
    },
    {
     "cell_type": "code",
     "collapsed": false,
     "input": [
      "from IPython.core.display import HTML\n",
      "def css_styling():\n",
      "    styles = open(\"styles/custom.css\", \"r\").read()\n",
      "    return HTML(styles)\n",
      "css_styling()"
     ],
     "language": "python",
     "metadata": {},
     "outputs": [
      {
       "html": [
        "/*\n",
        "Placeholder for custom user CSS\n",
        "\n",
        "mainly to be overridden in profile/static/custom/custom.css\n",
        "\n",
        "This will always be an empty file in IPython\n",
        "*/\n",
        "<style>\n",
        "    @import url(http://fonts.googleapis.com/css?family=Roboto:400,300,300italic,400italic,700,700italic);\n",
        "\n",
        "    div.cell{\n",
        "        font-family:'roboto','helvetica','sans';\n",
        "        color:#444;\n",
        "        width:800px;\n",
        "        margin-left:16% !important;\n",
        "        margin-right:auto;\n",
        "    }\n",
        "\n",
        "    div.text_cell_render{\n",
        "        font-family: 'roboto','helvetica','sans';\n",
        "        line-height: 145%;\n",
        "        font-size: 120%;\n",
        "        color:#444;\n",
        "        width:800px;\n",
        "        margin-left:auto;\n",
        "        margin-right:auto;\n",
        "    }\n",
        "    .CodeMirror{\n",
        "            font-family: \"Menlo\", source-code-pro,Consolas, monospace;\n",
        "    }\n",
        "    .prompt{\n",
        "        display: None;\n",
        "    }    \n",
        "    .warning{\n",
        "        color: rgb( 240, 20, 20 )\n",
        "        }  \n",
        "</style>\n",
        "<script>\n",
        "    MathJax.Hub.Config({\n",
        "                        TeX: {\n",
        "                           extensions: [\"AMSmath.js\"]\n",
        "                           },\n",
        "                tex2jax: {\n",
        "                    inlineMath: [ ['$','$'], [\"\\\\(\",\"\\\\)\"] ],\n",
        "                    displayMath: [ ['$$','$$'], [\"\\\\[\",\"\\\\]\"] ]\n",
        "                },\n",
        "                displayAlign: 'center', // Change this to 'center' to center equations.\n",
        "                \"HTML-CSS\": {\n",
        "                    styles: {'.MathJax_Display': {\"margin\": 4}}\n",
        "                }\n",
        "        });\n",
        "</script>"
       ],
       "metadata": {},
       "output_type": "pyout",
       "prompt_number": 4,
       "text": [
        "<IPython.core.display.HTML at 0x1050e5d10>"
       ]
      }
     ],
     "prompt_number": 4
    },
    {
     "cell_type": "markdown",
     "metadata": {},
     "source": [
      "by Folgert Karsdorp (Meertens Instituut) en Maarten van Gompel (Radboud University Nijmegen)\n",
      "\n",
      "Licensed under the [GNU Free Documentation License](http://www.gnu.org/copyleft/fdl.html)"
     ]
    }
   ],
   "metadata": {}
  }
 ]
}