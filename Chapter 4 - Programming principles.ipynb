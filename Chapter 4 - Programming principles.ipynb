{
 "metadata": {
  "name": ""
 },
 "nbformat": 3,
 "nbformat_minor": 0,
 "worksheets": [
  {
   "cells": [
    {
     "cell_type": "heading",
     "level": 1,
     "metadata": {},
     "source": [
      "Chapter 4: Programming Principles"
     ]
    },
    {
     "cell_type": "markdown",
     "metadata": {},
     "source": [
      "-- *A Python Course for the Humanities by Folgert Karsdorp and Maarten van Gompel*"
     ]
    },
    {
     "cell_type": "markdown",
     "metadata": {},
     "source": [
      "---"
     ]
    },
    {
     "cell_type": "markdown",
     "metadata": {},
     "source": [
      "By now you will have a sense of how to use Python for some basic programming. There is, however, still quite some ground to cover before you really have the idea of having full control over the language. This chapter will help you in writing more structured programs, provide you with some best practices and will teach you about some more general programming strategies."
     ]
    },
    {
     "cell_type": "heading",
     "level": 2,
     "metadata": {},
     "source": [
      "Data Structures"
     ]
    },
    {
     "cell_type": "markdown",
     "metadata": {},
     "source": [
      "Perhaps the most important aspect of writing good programs is developing and designing appropriate data structures for the problem at hand. Data structures should feel natural, be flexible, and should not be unnecessarily difficult or hard to read. Most of the time least complex data structure is the one to go with. Let's have a look at a real example to see what different design choices we can make regarding data structures.\n",
      "\n",
      "In the file `data/twitter.txt` we constructed a fictional network of twitter users. Each line represents an edge in the network between two users separated by a semicolon:\n",
      "\n",
      "`@Fox;@Judie`\n",
      "\n",
      "`@Tristan;@Jermain`\n",
      "\n",
      "`@Allyn;@Winfred`\n",
      "\n",
      "`@Dennis;@Randolph`\n",
      "\n",
      "`@Wallie;@Venkat`\n",
      "\n",
      "The first name represents the follower; the second name the followee. \n",
      "\n",
      "One seemingly natural data structure to represent this network in Python is a list of tuples each consisting of two names: `[(name1, name2), (name1, name3), ..., (name300, name41)]`. We construct the network in this format as follows: "
     ]
    },
    {
     "cell_type": "code",
     "collapsed": false,
     "input": [
      "edges = []\n",
      "for line in open(\"data/twitter.txt\"):\n",
      "    name_a, name_b = line.strip().split(';')\n",
      "    edges.append((name_a, name_b))\n",
      "print(edges[:10])"
     ],
     "language": "python",
     "metadata": {},
     "outputs": [
      {
       "output_type": "stream",
       "stream": "stdout",
       "text": [
        "[('@Fox', '@Judie'), ('@Tristan', '@Jermain'), ('@Allyn', '@Winfred'), ('@Dennis', '@Randolph'), ('@Wallie', '@Venkat'), ('@Siddhartha', '@Nunzio'), ('@Leena', '@Minna'), ('@Hildagard', '@Nanine'), ('@Margalit', '@Jermayne'), ('@Berty', '@Flynn')]\n"
       ]
      }
     ],
     "prompt_number": 3
    },
    {
     "cell_type": "markdown",
     "metadata": {},
     "source": [
      "In itself nothing is wrong with this data structure. For example, we might use it as follows to find all people user @Fox follows:"
     ]
    },
    {
     "cell_type": "code",
     "collapsed": false,
     "input": [
      "def following(user, edges):\n",
      "    \"Return a list of all users USERS is following.\"\n",
      "    followees = []\n",
      "    for follower, followee in edges:\n",
      "        if follower == user:\n",
      "            followees.append(followee)\n",
      "    return followees\n",
      "\n",
      "print(following(\"@Fox\", edges))"
     ],
     "language": "python",
     "metadata": {},
     "outputs": [
      {
       "output_type": "stream",
       "stream": "stdout",
       "text": [
        "['@Judie', '@Charis', '@Englebart', '@Leo', '@Quintus', '@Cris', '@Roseanna', '@Kate', '@Connor', '@Marena', '@Lance', '@Yelena', '@Winfred', '@Tania', '@Herman', '@Carmon', '@Zebadiah', '@Inna', '@Antonietta', '@Esma', '@Jennica', '@Alton', '@Kia', '@Susan', '@Hildagard', '@Tova', '@June', '@Siddhartha', '@Vaughn', '@Leeann', '@Ozzie', '@Berty', '@Morgen', '@Randolph', '@Quinlan', '@Mandi', '@Wallie', '@Jermayne', '@Flynn', '@Herold', '@Christina', '@Reuben', '@Verge', '@Hildy', '@Nathanael', '@Jaquith', '@Jennette', '@Dode', '@Arianne', '@Garrot', '@Terry', '@Butler', '@Philippa', '@Gae', '@Kat', '@Rana', '@Elnar', '@Rey', '@Jermaine', '@Wittie', '@Arlinda', '@Nunzio', '@Andrej', '@Gusella', '@Malcah', '@Joelle', '@Tristan', '@Lorrin', '@Giles', '@Garth', '@Millicent', '@Gregg', '@Allyn', '@Jermain', '@Erasmus', '@Nita', '@Aviva', '@Halvard', '@Tomi', '@Winton', '@Tibold', '@Lynsey', '@Reeba', '@Rafa', '@Vina', '@Leah', '@Kial', '@Bartholomeo', '@Claire', '@Venkat', '@Lindi', '@Wake', '@Hiram']\n"
       ]
      }
     ],
     "prompt_number": 6
    },
    {
     "cell_type": "markdown",
     "metadata": {},
     "source": [
      "One particular downside of this datastructure, especially when our network grows, is that can become slow, painstakingly slow... For each search query, we have to go throuw the entire network check whether the node we accessing is equal to the one we're looking for and then append the followee to the list of followees. To give you an impression of how long Python is taking, execute the following cell:"
     ]
    },
    {
     "cell_type": "code",
     "collapsed": false,
     "input": [
      "%timeit following(\"@Fox\", edges)"
     ],
     "language": "python",
     "metadata": {},
     "outputs": [
      {
       "output_type": "stream",
       "stream": "stdout",
       "text": [
        "1000 loops, best of 3: 592 \u00b5s per loop\n"
       ]
      }
     ],
     "prompt_number": 7
    },
    {
     "cell_type": "markdown",
     "metadata": {},
     "source": [
      "It depends a little on your computer, but it will probably be around 500 mircoseconds per loop or 0.000592 seconds. \"That's quite fast!\", you might think. Just wait and see what happens if we adjust our data structure to the following. This time we represent our network as a dictionary with followers as keys and a list of followees as value. "
     ]
    },
    {
     "cell_type": "code",
     "collapsed": false,
     "input": [
      "edge_dict = {}\n",
      "for line in open(\"data/twitter.txt\"):\n",
      "    name_a, name_b = line.strip().split(';')\n",
      "    if name_a in edge_dict:\n",
      "        edge_dict[name_a].append(name_b)\n",
      "    else:\n",
      "        edge_dict[name_a] = [name_b]"
     ],
     "language": "python",
     "metadata": {},
     "outputs": [],
     "prompt_number": 13
    },
    {
     "cell_type": "markdown",
     "metadata": {},
     "source": [
      "It is not really necessary to define the following function, but we'll do it just so that it is easier to compare with the previous one."
     ]
    },
    {
     "cell_type": "code",
     "collapsed": false,
     "input": [
      "def following2(user, edges):\n",
      "    return edges[user]"
     ],
     "language": "python",
     "metadata": {},
     "outputs": [],
     "prompt_number": 14
    },
    {
     "cell_type": "markdown",
     "metadata": {},
     "source": [
      "Now let's test this function:"
     ]
    },
    {
     "cell_type": "code",
     "collapsed": false,
     "input": [
      "%timeit following2(\"@Fox\", edge_dict)"
     ],
     "language": "python",
     "metadata": {},
     "outputs": [
      {
       "output_type": "stream",
       "stream": "stdout",
       "text": [
        "10000000 loops, best of 3: 165 ns per loop\n"
       ]
      }
     ],
     "prompt_number": 16
    },
    {
     "cell_type": "markdown",
     "metadata": {},
     "source": [
      "This function approximately takes about 160 nanoseconds per loop, which is around 0.000000165 seconds. Now *that* is fast! You're probably thinking that it is not really a big deal, as you can't really tell the difference. And you're right: for this particular case it doesn't really matter. But what if our network was ten times as big? Or 100 times, 1000 or a million times? Then what would happen? To convince you of my point, I'll will expand our network, making it 1000 times bigger."
     ]
    },
    {
     "cell_type": "code",
     "collapsed": false,
     "input": [
      "edges = []\n",
      "for line in open(\"data/twitter.txt\"):\n",
      "    name_a, name_b = line.strip().split(';')\n",
      "    for i in range(1000):\n",
      "        edges.append((name_a, name_b))"
     ],
     "language": "python",
     "metadata": {},
     "outputs": [],
     "prompt_number": 17
    },
    {
     "cell_type": "code",
     "collapsed": false,
     "input": [
      "%timeit following(\"@Fox\", edges)"
     ],
     "language": "python",
     "metadata": {},
     "outputs": [
      {
       "output_type": "stream",
       "stream": "stdout",
       "text": [
        "1 loops, best of 3: 577 ms per loop\n"
       ]
      }
     ],
     "prompt_number": 18
    },
    {
     "cell_type": "markdown",
     "metadata": {},
     "source": [
      "The function has become quite a bit slower. It will be somewhere around 570 milliseconds, or 0.57 seconds. Now lets do the same thing with the dictionary network"
     ]
    },
    {
     "cell_type": "code",
     "collapsed": false,
     "input": [
      "edge_dict = {}\n",
      "for line in open(\"data/twitter.txt\"):\n",
      "    name_a, name_b = line.strip().split(';')\n",
      "    for i in range(1000):\n",
      "        if name_a in edge_dict:\n",
      "            edge_dict[name_a].append(name_b)\n",
      "        else:\n",
      "            edge_dict[name_a] = [name_b]"
     ],
     "language": "python",
     "metadata": {},
     "outputs": [],
     "prompt_number": 19
    },
    {
     "cell_type": "code",
     "collapsed": false,
     "input": [
      "%timeit following2(\"@Fox\", edge_dict)"
     ],
     "language": "python",
     "metadata": {},
     "outputs": [
      {
       "output_type": "stream",
       "stream": "stdout",
       "text": [
        "10000000 loops, best of 3: 166 ns per loop\n"
       ]
      }
     ],
     "prompt_number": 20
    },
    {
     "cell_type": "markdown",
     "metadata": {},
     "source": [
      "The timing is still about the same! What's going on?! It takes too far to explain to you exactly what the difference is between a dictionary and a list (you can read more about it [here](http://en.wikipedia.org/wiki/Hash_table)), but for know you should remember that you can access keys in a dictionary in constant time (meaning it does not matter how big the dictionary is), whereas for a list, it depends on the size of the dictionary."
     ]
    },
    {
     "cell_type": "markdown",
     "metadata": {},
     "source": [
      "---"
     ]
    },
    {
     "cell_type": "heading",
     "level": 2,
     "metadata": {},
     "source": [
      "Breaking up your code (and be functional)"
     ]
    },
    {
     "cell_type": "markdown",
     "metadata": {},
     "source": [
      "Another important aspect of good programs is reusability. It is good practice to write general functions that can be applied to a range of problems which you can combine into a complex of functions for a particular task. Again, this can best be shown with an example. \n",
      "\n",
      "We will write  two versions of a program to transform an English word into [Pig Latin](https://en.wikipedia.org/wiki/Pig_Latin). To translate an English word into Pig Latin we apply the following rules:\n",
      "\n",
      "-  If a word begins with a consonant or consonant cluster, remove that part from the beginning of the word and add it to the end of the word. Now to make it really latinish, add \"ay\" to this. E.g. *duck* - *uckday* and *bush* - *ushbay*.\n",
      "-  If a word starts with a vowel, simply add \"ay\" to the end of the word. E.g. *egg* - *eggay* and *inbox* - *inboxay*.\n",
      "\n",
      "We will first give you a rather verbose function that does it all in one shot:"
     ]
    },
    {
     "cell_type": "code",
     "collapsed": false,
     "input": [
      "def translate(word):\n",
      "    \"Convert a word to latin.\"\n",
      "    vowels = 'aeiouAEIOU'\n",
      "    start = 0\n",
      "    end = ''\n",
      "    # loop over all characters in word\n",
      "    for i, char in enumerate(word):\n",
      "        # if this character is not a vowel\n",
      "        if char not in vowels:\n",
      "            # it is a consonant, so add it to the end.\n",
      "            end += char\n",
      "        # if it is a vowel\n",
      "        else:\n",
      "            # we set the starting position to \n",
      "            # the position of this character\n",
      "            start = i\n",
      "            break\n",
      "    return word[start:] + end + 'ay'"
     ],
     "language": "python",
     "metadata": {},
     "outputs": [],
     "prompt_number": 51
    },
    {
     "cell_type": "markdown",
     "metadata": {},
     "source": [
      "From just looking at this function it is hard to see what it is doing exactly. It loops over each character in `word` and for each character it asks whether it is not a vowel (i.e. a consonant). If it is a consonant, we add it to the `end` variable which we will later append to the remaining word. While this is `True` we carry on to the next character. If we find a vowel, we store the index of that vowel and `break` from the loop. Now we return the word starting from the first vowel found, add the consonant or conconant cluster to it and add *ay* to that word.\n",
      "\n",
      "Okay, so this works, but it is not very readable, now is it? Let's break this function up into comprehensible parts. First we will write a function called `starts_with_vowel`, which takes as argument a string and returns if the first character is a vowel:"
     ]
    },
    {
     "cell_type": "code",
     "collapsed": false,
     "input": [
      "def starts_with_vowel(word):\n",
      "    \"Return True if WORD starts with a vowel, False otherwise.\"\n",
      "    vowels = ('a', 'e', 'i', 'o', 'u', 'A', 'E', 'I', 'O', 'U')\n",
      "    return word.startswith(vowels)"
     ],
     "language": "python",
     "metadata": {},
     "outputs": [],
     "prompt_number": 64
    },
    {
     "cell_type": "code",
     "collapsed": false,
     "input": [
      "print(starts_with_vowel(\"egg\"))\n",
      "print(starts_with_vowel(\"bush\"))"
     ],
     "language": "python",
     "metadata": {},
     "outputs": [
      {
       "output_type": "stream",
       "stream": "stdout",
       "text": [
        "True\n",
        "False\n"
       ]
      }
     ],
     "prompt_number": 65
    },
    {
     "cell_type": "markdown",
     "metadata": {},
     "source": [
      "In the function `starts_with_vowel` we define a variable `vowels` which is a tuple containing all vowels, both uppercase and lowercase. We than call the built in function `startswith` which operates on strings and takes as argument either a string of a tuple of strings. It checks for each item in the tuple whether the string starts with that item.\n",
      "\n",
      "Perhaps someday we would like add different Latin endings to words. Having to change *ay* directly in our code for each suffix we choose, it rather inconvenient. We therefore write a small function called `add_suffix`. It takes as argument two strings: a word and the string we would like to attach to that word:"
     ]
    },
    {
     "cell_type": "code",
     "collapsed": false,
     "input": [
      "def add_suffix(word, suffix):\n",
      "    \"Return WORD with SUFFIX attached.\"\n",
      "    return word + suffix"
     ],
     "language": "python",
     "metadata": {},
     "outputs": [],
     "prompt_number": 61
    },
    {
     "cell_type": "markdown",
     "metadata": {},
     "source": [
      "We can use this function to add *ay* to our words, but also to add *oing* or some other suffix:"
     ]
    },
    {
     "cell_type": "code",
     "collapsed": false,
     "input": [
      "print(add_suffix(\"egg\", \"ay\"))\n",
      "print(add_suffix(\"egg\", \"oing\"))"
     ],
     "language": "python",
     "metadata": {},
     "outputs": [
      {
       "output_type": "stream",
       "stream": "stdout",
       "text": [
        "eggay\n",
        "eggoing\n"
       ]
      }
     ],
     "prompt_number": 62
    },
    {
     "cell_type": "markdown",
     "metadata": {},
     "source": [
      "If we really want a separate function to add *ay* to words, we can now define it as follows:"
     ]
    },
    {
     "cell_type": "code",
     "collapsed": false,
     "input": [
      "def add_ay(word):\n",
      "    \"Return WORD with 'ay' attached.\"\n",
      "    return add_suffix(word, \"ay\")"
     ],
     "language": "python",
     "metadata": {},
     "outputs": [],
     "prompt_number": 63
    },
    {
     "cell_type": "markdown",
     "metadata": {},
     "source": [
      "This is a small and a little silly example of how we can recombine and reuse functions into other more specific functions. Now that we have defined these small helper functions, have a look at the following implementation of `translate`:"
     ]
    },
    {
     "cell_type": "code",
     "collapsed": false,
     "input": [
      "def translate(word, suffix):\n",
      "    if starts_with_vowel(word):\n",
      "        return add_suffix(word, suffix)\n",
      "    return translate(word[1:] + word[0])"
     ],
     "language": "python",
     "metadata": {},
     "outputs": [],
     "prompt_number": 66
    },
    {
     "cell_type": "markdown",
     "metadata": {},
     "source": [
      "The first thing we notice is that this definition is much shorter. This function provides a recursive solution to our problem and can be read as follows: if the input word starts with a vowel, return the word and add *ay* to it. If it does not start with a vowel, move the first character to the end of the word and try to convert it once more. In our - perhaps subjective - opinion, the recursive solution provides a much more elegant solution to our problem.\n",
      "\n",
      "The function `translate` is a reusable function, independent of the suffix we choose. The following function makes use of the generality and defines a translation function specific to pig latin:"
     ]
    },
    {
     "cell_type": "code",
     "collapsed": false,
     "input": [
      "def pig_latinize(word):\n",
      "    return translate(word, \"ay\")"
     ],
     "language": "python",
     "metadata": {},
     "outputs": [],
     "prompt_number": 67
    },
    {
     "cell_type": "heading",
     "level": 2,
     "metadata": {},
     "source": [
      "#1 Think modular"
     ]
    },
    {
     "cell_type": "markdown",
     "metadata": {},
     "source": [
      "If you have a particular problem, divide it into subproblems and solve them separately. Always make use of functions and in a large project, divide your code into separate modules.\n"
     ]
    },
    {
     "cell_type": "heading",
     "level": 2,
     "metadata": {},
     "source": [
      "#2 Do not repeat yourself & try to think of generic solutions"
     ]
    },
    {
     "cell_type": "markdown",
     "metadata": {},
     "source": [
      "Very much connected to the previous tip; if you find yourself copy pasting a large block of code and making only very minor adjustments, then you can probably turn that code into a more generic function.\n",
      "\n",
      "Look at these four code snippets with the exact same results; from very bad to best:\n"
     ]
    },
    {
     "cell_type": "code",
     "collapsed": false,
     "input": [
      "print(\"I shall not repeat myself!\")\n",
      "print(\"I shall not repeat myself!\")\n",
      "print(\"I shall not repeat myself!\")\n",
      "print(\"I shall not repeat myself!\")\n",
      "print(\"I shall not repeat myself!\")\n",
      "print(\"I shall not repeat myself!\")\n",
      "print(\"I shall not repeat myself!\")\n",
      "print(\"I shall not repeat myself!\")\n",
      "print(\"I shall not repeat myself!\")\n",
      "print(\"I shall not repeat myself!\")\n",
      "\n",
      "print(\"I will think of generic solutions!\")\n",
      "print(\"I will think of generic solutions!\")\n",
      "print(\"I will think of generic solutions!\")\n",
      "print(\"I will think of generic solutions!\")\n",
      "print(\"I will think of generic solutions!\")\n",
      "print(\"I will think of generic solutions!\")\n",
      "print(\"I will think of generic solutions!\")\n",
      "print(\"I will think of generic solutions!\")\n",
      "print(\"I will think of generic solutions!\")\n",
      "print(\"I will think of generic solutions!\")\n",
      "\n",
      "print(\"I will be a great programmer!\")\n",
      "print(\"I will be a great programmer!\")\n",
      "print(\"I will be a great programmer!\")\n",
      "print(\"I will be a great programmer!\")\n",
      "print(\"I will be a great programmer!\")\n",
      "print(\"I will be a great programmer!\")\n",
      "print(\"I will be a great programmer!\")\n",
      "print(\"I will be a great programmer!\")\n",
      "print(\"I will be a great programmer!\")\n",
      "print(\"I will be a great programmer!\")\n"
     ],
     "language": "python",
     "metadata": {},
     "outputs": []
    },
    {
     "cell_type": "markdown",
     "metadata": {},
     "source": [
      "Better:"
     ]
    },
    {
     "cell_type": "code",
     "collapsed": false,
     "input": [
      "for i in range(0,10):\n",
      "    print(\"I shall not repeat myself!\")\n",
      "    \n",
      "for i in range(0,10):\n",
      "    print(\"I will think of generic solutions!\")\n",
      "\n",
      "for i in range(0,10):\n",
      "    print(\"I will be a great programmer!\")\n"
     ],
     "language": "python",
     "metadata": {},
     "outputs": []
    },
    {
     "cell_type": "markdown",
     "metadata": {},
     "source": [
      "Better:"
     ]
    },
    {
     "cell_type": "code",
     "collapsed": false,
     "input": [
      "\n",
      "\n",
      "def say10times(message):\n",
      "    for i in range(0,10):\n",
      "        print(message)\n",
      "    \n",
      "say10times(\"I shall not repeat myself!\")\n",
      "say10times(\"I will think of generic solutions!\")\n",
      "say10times(\"I will be a great programmer!\")"
     ],
     "language": "python",
     "metadata": {},
     "outputs": []
    },
    {
     "cell_type": "markdown",
     "metadata": {},
     "source": [
      "Best:\n",
      "    "
     ]
    },
    {
     "cell_type": "code",
     "collapsed": false,
     "input": [
      "def sayxtimes(message, x):\n",
      "    for i in range(0,x):\n",
      "        print(message)\n",
      "    \n",
      "sayxtimes(\"I shall not repeat myself!\",10)\n",
      "sayxtimes(\"I will think of generic solutions!\",10)\n",
      "sayxtimes(\"I will be a great programmer!\",10)"
     ],
     "language": "python",
     "metadata": {},
     "outputs": []
    },
    {
     "cell_type": "heading",
     "level": 2,
     "metadata": {},
     "source": [
      "#3 Think procedurally -- Step by step"
     ]
    },
    {
     "cell_type": "markdown",
     "metadata": {},
     "source": [
      "Try to think like the interpreter processing your code; everything step by step, one line at a time. The interpreter will never magically know what you mean with a piece of code, you have to explicitly consider what you want to do in each step along the way\n"
     ]
    },
    {
     "cell_type": "heading",
     "level": 2,
     "metadata": {},
     "source": [
      "#4 Choose sane variable and function names"
     ]
    },
    {
     "cell_type": "markdown",
     "metadata": {},
     "source": [
      "Naming your variables and function with meaningful names is important. Otherwise you will find you can't read your code anymore. From the interpreter's point of view, the names are irrelevant, but from a human point of view, they are very important!! Compare the following code two snippets, which are equivalent in functionality but not in naming. It's hard to figure out what the program does by looking only at the first one right?\n"
     ]
    },
    {
     "cell_type": "code",
     "collapsed": false,
     "input": [
      "a = \"To be or not to be , that is the question\"\n",
      "b = a.split(' ')\n",
      "c = []\n",
      "for x in b:\n",
      "    c.append(len(x))\n",
      "r = sum(c) / len(c)\n",
      "print(r)    "
     ],
     "language": "python",
     "metadata": {},
     "outputs": []
    },
    {
     "cell_type": "code",
     "collapsed": false,
     "input": [
      "sentence = \"To be or not to be , that is the question\"\n",
      "words = sentence.split(' ')\n",
      "wordlengths = []\n",
      "for word in words:\n",
      "    wordlengths.append(len(word))\n",
      "averagewordlength = sum(wordlengths) / len(wordlengths)\n",
      "print(averagewordlength)    "
     ],
     "language": "python",
     "metadata": {},
     "outputs": []
    },
    {
     "cell_type": "heading",
     "level": 2,
     "metadata": {},
     "source": [
      "#5 Comment your code"
     ]
    },
    {
     "cell_type": "markdown",
     "metadata": {},
     "source": [
      "Always add comments to your code to facilitate readability and understanding! "
     ]
    },
    {
     "cell_type": "heading",
     "level": 2,
     "metadata": {},
     "source": [
      "#6 Anticipate errors"
     ]
    },
    {
     "cell_type": "markdown",
     "metadata": {},
     "source": [
      "Anticipate what can go wrong. Especially where user input is concerned. Python, as most other languages, has facilities to catch errors in your code, and divert execution based on it. This is called exception handling. Errors that are uncaught will cause your program to exit with an error. Consider the following:"
     ]
    },
    {
     "cell_type": "code",
     "collapsed": false,
     "input": [
      "x = \"5\"\n",
      "try:\n",
      "    x = int(x)\n",
      "except ValueError:\n",
      "    print \"x was not a number!\""
     ],
     "language": "python",
     "metadata": {},
     "outputs": []
    },
    {
     "cell_type": "markdown",
     "metadata": {},
     "source": [
      "Try set x to a textual value and run again."
     ]
    },
    {
     "cell_type": "heading",
     "level": 2,
     "metadata": {},
     "source": [
      "#7 Don't be afraid to throw away code and start over"
     ]
    },
    {
     "cell_type": "markdown",
     "metadata": {},
     "source": [
      "Coding is often an evolutionary process, you may come to new insights as you progress and demands on your code may change as your program grows. Do not be afraid to throw parts of it away and redesign them."
     ]
    },
    {
     "cell_type": "heading",
     "level": 2,
     "metadata": {},
     "source": [
      "#9 Test"
     ]
    },
    {
     "cell_type": "markdown",
     "metadata": {},
     "source": [
      "Always test your code, things never go right the first time, not even for experienced programmers. Errors are part of the progress and no sign of failure! Always seek to clearly understand the message behind an error and then find a solution to it.\n",
      "It is also recommended to write little tests for functions, to assure they give the desired output given certain input.\n",
      "\n",
      "To debug your code, it often helps to insert some temporary explicity print statements along the way, outputting the value of certain variables. This can help you spot if things are really progressing the way they should."
     ]
    },
    {
     "cell_type": "heading",
     "level": 2,
     "metadata": {},
     "source": [
      "#10 Use library references, 3rd party modules, and google errors if you're stuck"
     ]
    },
    {
     "cell_type": "markdown",
     "metadata": {},
     "source": [
      "Programmers never know all functions in their language by heart. Part of the art of programming is knowing where to look and how to read library references. Library references describe what functions etc. exist in what modules, what parameters they take, and what values they return. Use these references! For Python, just start at http://www.python.org !\n",
      "\n",
      "Chances are also high that someone has already done what you want, or at least solved one of your subproblems, and made a module for it which you can use! Here is a small list of modules that might be interesting for you:\n",
      "\n",
      "- [NLTK](http://www.nltk.org). Provides a nice introduction into programming with Python and an introduction into Natural Language Processing.\n",
      "\n",
      "- [PyNLPl](http://github.com/proycon/pynlpl). Library for Natural Language Processing, written by Maarten van Gompel. Contains a lot of modules for dealing with text, specific formats encountered in the field, and interfacing with other external NLP software. All of the things we did in chapter three are readily available in PyNLPl. \n",
      "\n",
      "- [Scikit-learn](http://www.scikit-learn.org) (not yet for Python 3): Easy-to-use and general-purpose machine learning in Python. Provides many implementations of machine learning algorithms, such as Support Vector Machines, Naive Bayes Classifiers, supervised and unsupervised cluster analysis and many more.\n",
      "\n",
      "- [Networkx](http://networkx.github.com) (not yet for Python 3): NetworkX is a Python language software package for the creation, manipulation, and study of the structure, dynamics, and functions of complex networks. Supports many output formats that can be imported by e.g. gephi.\n",
      "\n",
      "- [gensim](http://radimrehurek.com/gensim/): Topic modelling for humans. Good and easy to use library for many topic modelling algorithms, such as LSA and LDA.\n",
      "\n",
      "- [Pattern](http://www.clips.ua.ac.be/pages/pattern) (not yet for Python 3): general Natural Language Processing library with support for Dutch and English part of speech tagging.\n",
      "\n",
      "- [Numpy](http://www.numpy.org): fundamental package for scientific computing with Python. It contains among other things:\n",
      "\n",
      "  -  a powerful N-dimensional array object\n",
      "  -  sophisticated (broadcasting) functions\n",
      "  -  tools for integrating C/C++ and Fortran code\n",
      "  -  useful linear algebra, Fourier transform, and random number capabilities\n",
      "\n",
      "- [Scipy](http://www.scipy.org/): open-source software for mathematics, science, and engineering. Very good and fast library for all kinds of scientific computations, cluster analysis etc.\n",
      "\n",
      "- [Matplotlib](http://matplotlib.org/): Python plotting library which produces publication quality figures in a variety of hardcopy formats and interactive environments across platforms. \n",
      "\n",
      "- [lxml](http://www.lxml.de/): Extensive library for processing XML files in Python.\n",
      "\n",
      "- [Django](http://www.djangoproject.com/): Interested in full fledged web-development? Django is an amazing open-source framework for Python that allows you to make complex web applications."
     ]
    },
    {
     "cell_type": "markdown",
     "metadata": {},
     "source": [
      "Moreover, we would like to encourage you to always open your source code and share it with others. This principle is called *open source* and allows others to use and learn from your code. Especially in the sciences, such a transparency is vital for reproducability and for building upon eachother's work. The Python language itself is fully open-source, as it the Linux operating system, and tens of thousands of other software packages!"
     ]
    },
    {
     "cell_type": "markdown",
     "metadata": {},
     "source": [
      "---"
     ]
    },
    {
     "cell_type": "markdown",
     "metadata": {},
     "source": [
      "Ignore the following, it's just here to make the page pretty:"
     ]
    },
    {
     "cell_type": "code",
     "collapsed": false,
     "input": [
      "Interested in full fledged web-development? Django is an amazing open-source framework for Python that allows you to make complex web applications.from IPython.core.display import HTML\n",
      "def css_styling():\n",
      "    styles = open(\"styles/custom.css\", \"r\").read()\n",
      "    return HTML(styles)\n",
      "css_styling()"
     ],
     "language": "python",
     "metadata": {},
     "outputs": [
      {
       "html": [
        "<style>\n",
        "    @font-face {\n",
        "        font-family: \"Computer Modern\";\n",
        "        src: url('http://mirrors.ctan.org/fonts/cm-unicode/fonts/otf/cmunss.otf');\n",
        "    }\n",
        "    div.cell {\n",
        "        width:800px;\n",
        "        margin-left:auto;\n",
        "        margin-right:auto;\n",
        "    }\n",
        "    div.cell, .input.hbox {\n",
        "    display:block;\n",
        "}\n",
        "    h1 {\n",
        "        font-family: \"Charis SIL\", Palatino, serif;\n",
        "    }\n",
        "    h4{\n",
        "        margin-top:12px;\n",
        "        margin-bottom: 3px;\n",
        "       }\n",
        "    div.text_cell_render{\n",
        "        font-family: Computer Modern, \"Helvetica Neue\", Arial, Helvetica, Geneva, sans-serif;\n",
        "        line-height: 145%;\n",
        "        font-size: 120%;\n",
        "        width:800px;\n",
        "        margin-left:auto;\n",
        "        margin-right:auto;\n",
        "    }\n",
        "    .CodeMirror{\n",
        "            font-family: \"Source Code Pro\", source-code-pro,Consolas, monospace;\n",
        "    }\n",
        "    .prompt{\n",
        "        display: None;\n",
        "    }\n",
        "    .text_cell_render h5 {\n",
        "        font-weight: 300;\n",
        "        font-size: 16pt;\n",
        "        color: #4057A1;\n",
        "        font-style: italic;\n",
        "        margin-bottom: .5em;\n",
        "        margin-top: 0.5em;\n",
        "        display: block;\n",
        "    }\n",
        "    \n",
        "    .warning{\n",
        "        color: rgb( 240, 20, 20 )\n",
        "        }\n",
        "</style>\n",
        "<script>\n",
        "    MathJax.Hub.Config({\n",
        "                        TeX: {\n",
        "                           extensions: [\"AMSmath.js\"]\n",
        "                           },\n",
        "                tex2jax: {\n",
        "                    inlineMath: [ ['$','$'], [\"\\\\(\",\"\\\\)\"] ],\n",
        "                    displayMath: [ ['$$','$$'], [\"\\\\[\",\"\\\\]\"] ]\n",
        "                },\n",
        "                displayAlign: 'center', // Change this to 'center' to center equations.\n",
        "                \"HTML-CSS\": {\n",
        "                    styles: {'.MathJax_Display': {\"margin\": 4}}\n",
        "                }\n",
        "        });\n",
        "</script>"
       ],
       "output_type": "pyout",
       "prompt_number": 1,
       "text": [
        "<IPython.core.display.HTML at 0x103243390>"
       ]
      }
     ],
     "prompt_number": 1
    },
    {
     "cell_type": "markdown",
     "metadata": {},
     "source": [
      "by Folgert Karsdorp (Meertens Instituut) en Maarten van Gompel (Radboud University Nijmegen)\n",
      "\n",
      "Licensed under the [GNU Free Documentation License](http://www.gnu.org/copyleft/fdl.html)"
     ]
    }
   ],
   "metadata": {}
  }
 ]
}