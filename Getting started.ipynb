{
 "metadata": {
  "name": "Getting started"
 },
 "nbformat": 3,
 "nbformat_minor": 0,
 "worksheets": [
  {
   "cells": [
    {
     "cell_type": "heading",
     "level": 1,
     "metadata": {},
     "source": [
      "Chapter 1: Getting started"
     ]
    },
    {
     "cell_type": "code",
     "collapsed": false,
     "input": [
      "print(\"Ready, set, GO!\")"
     ],
     "language": "python",
     "metadata": {},
     "outputs": []
    },
    {
     "cell_type": "markdown",
     "metadata": {},
     "source": [
      "Everyone can learn how to program and the best way to learn is by doing. In this tutorial you will be asked to write a lot of code. So let's begin and write our first little program!  "
     ]
    },
    {
     "cell_type": "markdown",
     "metadata": {},
     "source": [
      "----------"
     ]
    },
    {
     "cell_type": "heading",
     "level": 4,
     "metadata": {},
     "source": [
      "Quiz!"
     ]
    },
    {
     "cell_type": "markdown",
     "metadata": {},
     "source": [
      "We will ask you to write a simple program that prints how many minutes there are in seven weeks."
     ]
    },
    {
     "cell_type": "code",
     "collapsed": false,
     "input": [
      "# insert your code here"
     ],
     "language": "python",
     "metadata": {},
     "outputs": []
    },
    {
     "cell_type": "markdown",
     "metadata": {},
     "source": [
      "-----------"
     ]
    },
    {
     "cell_type": "markdown",
     "metadata": {},
     "source": [
      "Great! You have written your first little program and you've done it without any help! So, can we now go beyond using our programming language as a simple calculator? Before we will ask to to write yet another program, we will first have to explain something about `assignment'.\n",
      "\n",
      "We can assign values to variables using the `=` operator. A variable is just a name we give to a particular value, you can imagine it as a box you put a certain value into, and on which you write a name with a black marker. So, we can assign the value 2 to the name *x*. After that *x* will hold the value 2:"
     ]
    },
    {
     "cell_type": "code",
     "collapsed": false,
     "input": [
      "x = 2\n",
      "print(x)"
     ],
     "language": "python",
     "metadata": {},
     "outputs": []
    },
    {
     "cell_type": "markdown",
     "metadata": {},
     "source": [
      "This allows us to use *x* to do things like the following:"
     ]
    },
    {
     "cell_type": "code",
     "collapsed": false,
     "input": [
      "print(x * x)\n",
      "print(x == x)\n",
      "print(x > 6)"
     ],
     "language": "python",
     "metadata": {},
     "outputs": []
    },
    {
     "cell_type": "markdown",
     "metadata": {},
     "source": [
      "Variables are not just numbers. But they can be text just as well. These are called strings. For example:"
     ]
    },
    {
     "cell_type": "code",
     "collapsed": false,
     "input": [
      "book = \"The Lord of the Flies\"\n",
      "print(book)"
     ],
     "language": "python",
     "metadata": {},
     "outputs": []
    },
    {
     "cell_type": "markdown",
     "metadata": {},
     "source": [
      "Make sure you understand that the variable name can be chosen arbitrarily. *We* give a certain value a name, and we are free to pick one to our liking. It is, however, recommended to use senseful names as we will use the variable names in our code directly and not the values they hold."
     ]
    },
    {
     "cell_type": "code",
     "collapsed": false,
     "input": [
      "# not recommended...\n",
      "banana = \"The Lord of the Flies\"\n",
      "print(banana)"
     ],
     "language": "python",
     "metadata": {},
     "outputs": []
    },
    {
     "cell_type": "markdown",
     "metadata": {},
     "source": [
      "Unlike in other languages variables can vary and we can update our variables. Say we have counted how many books we have in our office:"
     ]
    },
    {
     "cell_type": "code",
     "collapsed": false,
     "input": [
      "number_of_books = 100"
     ],
     "language": "python",
     "metadata": {},
     "outputs": []
    },
    {
     "cell_type": "markdown",
     "metadata": {},
     "source": [
      "Then when we obtain a new book, we can update the number of books accordingly:"
     ]
    },
    {
     "cell_type": "code",
     "collapsed": false,
     "input": [
      "number_of_books = number_of_books + 1\n",
      "print(number_of_books)"
     ],
     "language": "python",
     "metadata": {},
     "outputs": []
    },
    {
     "cell_type": "markdown",
     "metadata": {},
     "source": [
      "Updates like these happen a lot. Python therefore provides a shortcut and you can write the same thing using the `+=` expression:"
     ]
    },
    {
     "cell_type": "code",
     "collapsed": false,
     "input": [
      "number_of_books += 5\n",
      "print(number_of_books)"
     ],
     "language": "python",
     "metadata": {},
     "outputs": []
    },
    {
     "cell_type": "markdown",
     "metadata": {},
     "source": [
      "For now the final interesting thing we would like to mention about variables is that we can assign the value of one variable to another variable. We will explain more about what this is later on, but here you just need to understand the basic mechanism."
     ]
    },
    {
     "cell_type": "code",
     "collapsed": false,
     "input": [
      "book = \"The Lord of the Flies\"\n",
      "reading = book\n",
      "print(reading)"
     ],
     "language": "python",
     "metadata": {},
     "outputs": []
    },
    {
     "cell_type": "markdown",
     "metadata": {},
     "source": [
      "----------"
     ]
    },
    {
     "cell_type": "heading",
     "level": 4,
     "metadata": {},
     "source": [
      "Quiz!"
     ]
    },
    {
     "cell_type": "markdown",
     "metadata": {},
     "source": [
      "Now that you understand all about assigning values to variables, it is time for our second programming quiz. We want you to write some code that defines a variable, *name*, and assign to it a string that is your name. "
     ]
    },
    {
     "cell_type": "code",
     "collapsed": false,
     "input": [
      "# insert your code here\n",
      "print(name)"
     ],
     "language": "python",
     "metadata": {},
     "outputs": []
    },
    {
     "cell_type": "markdown",
     "metadata": {},
     "source": [
      "--------------"
     ]
    },
    {
     "cell_type": "markdown",
     "metadata": {},
     "source": [
      "Until now we have seen two basic types: `strings` and `integers`. We can ask Python what type our variable is using the following:"
     ]
    },
    {
     "cell_type": "code",
     "collapsed": false,
     "input": [
      "print(type(name))\n",
      "print(type(number_of_books))"
     ],
     "language": "python",
     "metadata": {},
     "outputs": []
    },
    {
     "cell_type": "markdown",
     "metadata": {},
     "source": [
      "---"
     ]
    },
    {
     "cell_type": "heading",
     "level": 2,
     "metadata": {},
     "source": [
      "String manipulation"
     ]
    },
    {
     "cell_type": "markdown",
     "metadata": {},
     "source": [
      "Many disciplines within the humanties work on texts. Quite naturally programming for the humanities will focus a lot on manipulating texts. In the last quiz you were asked to define a variable that points to a string that represents your name. We have already seen basic some arithmetic in our very first calculation. Not just numbers can be added together, but strings can be added together as well:"
     ]
    },
    {
     "cell_type": "code",
     "collapsed": false,
     "input": [
      "name = \"Folgert\"\n",
      "book = \"The Lord of the Flies\"\n",
      "print(name + \" likes \" + book)"
     ],
     "language": "python",
     "metadata": {},
     "outputs": []
    },
    {
     "cell_type": "markdown",
     "metadata": {},
     "source": [
      "This string consists of a number of characters. We can access the individual characters with the help of indexing. For example, to find only the first character of your name, you can type in:"
     ]
    },
    {
     "cell_type": "code",
     "collapsed": false,
     "input": [
      "first_letter = name[0]\n",
      "print(first_letter)"
     ],
     "language": "python",
     "metadata": {},
     "outputs": []
    },
    {
     "cell_type": "markdown",
     "metadata": {},
     "source": [
      "Notice that to access the first letter, we use the index `0`. This might seem odd, but just remember that indexes in Python start at zero. Now, if you know the length of your name you can ask for the last letter of your name:"
     ]
    },
    {
     "cell_type": "code",
     "collapsed": false,
     "input": [
      "last_letter = name[# fill in the last index of your name (tip indexes start at 0)]\n",
      "print(last_letter)"
     ],
     "language": "python",
     "metadata": {},
     "outputs": []
    },
    {
     "cell_type": "markdown",
     "metadata": {},
     "source": [
      "It is rather inconvenient having to know how long our strings are if we want to find out what its last letter is. Python provides a simple way of accessing a string from the rear:"
     ]
    },
    {
     "cell_type": "code",
     "collapsed": false,
     "input": [
      "last_letter = name[-1]\n",
      "print(last_letter)"
     ],
     "language": "python",
     "metadata": {},
     "outputs": []
    },
    {
     "cell_type": "markdown",
     "metadata": {},
     "source": [
      "---------"
     ]
    },
    {
     "cell_type": "markdown",
     "metadata": {},
     "source": [
      "Quiz! \n",
      "\n",
      "Now can you write some code that defines a variable `but_last_letter` and assign to it the one but last letter of your name?"
     ]
    },
    {
     "cell_type": "code",
     "collapsed": false,
     "input": [
      "but_last_letter = # insert your code here\n",
      "print(but_last_letter)"
     ],
     "language": "python",
     "metadata": {},
     "outputs": []
    },
    {
     "cell_type": "markdown",
     "metadata": {},
     "source": [
      "------"
     ]
    },
    {
     "cell_type": "markdown",
     "metadata": {},
     "source": [
      "You're starting to become a real expert in indexing strings. Now what if we would like to find out what the last two or three letters of our name are? In Python we can use so-called slice-indexes or slices for short. To find the first to letters of our name we type in:"
     ]
    },
    {
     "cell_type": "code",
     "collapsed": false,
     "input": [
      "first_two_letters = name[0:2]\n",
      "print(first_two_letters)"
     ],
     "language": "python",
     "metadata": {},
     "outputs": []
    },
    {
     "cell_type": "markdown",
     "metadata": {},
     "source": [
      "(The `0` index is optional, so we could just as well type in `name[:2]`). Similarly if we would like to find out what the last two letters of our name are, we can type in:"
     ]
    },
    {
     "cell_type": "code",
     "collapsed": false,
     "input": [
      "last_two_letters = name[-2:]\n",
      "print(last_two_letters)"
     ],
     "language": "python",
     "metadata": {},
     "outputs": []
    },
    {
     "cell_type": "markdown",
     "metadata": {},
     "source": [
      "-------"
     ]
    },
    {
     "cell_type": "heading",
     "level": 4,
     "metadata": {},
     "source": [
      "Quiz!"
     ]
    },
    {
     "cell_type": "markdown",
     "metadata": {},
     "source": [
      "Can you define a variable `middle_letters` and assign to it all letters of your name except for the first two and the last two?"
     ]
    },
    {
     "cell_type": "code",
     "collapsed": false,
     "input": [
      "middle_letters = # insert your code here\n",
      "print(middle_letters)"
     ],
     "language": "python",
     "metadata": {},
     "outputs": []
    },
    {
     "cell_type": "markdown",
     "metadata": {},
     "source": [
      "Given the following two words, can you write code that prints out the word 'humanities' using only slicing and concatenation? (So, no quotes are allowed in your code)"
     ]
    },
    {
     "cell_type": "code",
     "collapsed": false,
     "input": [
      "word1 = \"human\"\n",
      "word2 = \"opportunities\""
     ],
     "language": "python",
     "metadata": {},
     "outputs": [],
     "prompt_number": 79
    },
    {
     "cell_type": "markdown",
     "metadata": {},
     "source": [
      "----------"
     ]
    },
    {
     "cell_type": "markdown",
     "metadata": {},
     "source": [
      "The texts we're dealing with in the humanities most of the time need a lot of cleaning before we can work with them. For example, if we're working with HTML, the text will contain all kinds of tags. But even simpler things like line-breaks, capitals of extra spaces can pollute our data. Python provides many ways to clean our data to make it more consistent and ready for further processing. \n",
      "\n",
      "The following sections will contain a lot of stuff we need in the rest of this class, so be sure to understand it well! If we have a certain piece of text on our computer it would be rather inconvenient to copy-paste the text to assign it to a variable. And of course, with Python you don't have to. Let's see how we can read a text from our computer using Python."
     ]
    },
    {
     "cell_type": "code",
     "collapsed": false,
     "input": [
      "f = open('data/austen-emma-excerpt.txt','rt', encoding='utf-8')\n",
      "text = f.read()\n",
      "text"
     ],
     "language": "python",
     "metadata": {},
     "outputs": []
    },
    {
     "cell_type": "markdown",
     "metadata": {},
     "source": [
      "----------"
     ]
    },
    {
     "cell_type": "heading",
     "level": 4,
     "metadata": {},
     "source": [
      "Quiz!"
     ]
    },
    {
     "cell_type": "markdown",
     "metadata": {},
     "source": [
      "Can you figure out what is going on here? You could even try some of your new text manipulations skills... Type in `text` in your interpreter. What kind of possible pollutions do you notice?"
     ]
    },
    {
     "cell_type": "markdown",
     "metadata": {},
     "source": [
      "---------"
     ]
    },
    {
     "cell_type": "heading",
     "level": 2,
     "metadata": {},
     "source": [
      "Lists"
     ]
    },
    {
     "cell_type": "markdown",
     "metadata": {},
     "source": [
      "Say we would like to find out what words are used in this small text. We can use the following *function* to split the text into words:"
     ]
    },
    {
     "cell_type": "code",
     "collapsed": false,
     "input": [
      "words = text.split()\n",
      "words"
     ],
     "language": "python",
     "metadata": {},
     "outputs": []
    },
    {
     "cell_type": "markdown",
     "metadata": {},
     "source": [
      "By issuing the function split on our text, Python splits the text on spaces and returns a `list` of words. A list functions similar to a string. We can access all of its components using indexes and we can use slice indexes to access parts of the list. Let's try it!"
     ]
    },
    {
     "cell_type": "markdown",
     "metadata": {},
     "source": [
      "--------"
     ]
    },
    {
     "cell_type": "heading",
     "level": 4,
     "metadata": {},
     "source": [
      "Quiz!"
     ]
    },
    {
     "cell_type": "markdown",
     "metadata": {},
     "source": [
      "Write a small program that defines a variable `first_word` and assign to it the first word of our text. Play around a little with the indexes to see if you really understand how it works."
     ]
    },
    {
     "cell_type": "code",
     "collapsed": false,
     "input": [
      "first_word = # insert your code here\n",
      "print first_word"
     ],
     "language": "python",
     "metadata": {},
     "outputs": []
    },
    {
     "cell_type": "markdown",
     "metadata": {},
     "source": [
      "---------------"
     ]
    },
    {
     "cell_type": "markdown",
     "metadata": {},
     "source": [
      "A `list` acts like some kind of container where we can store all kinds of information. We can access a list using indices and slices. We can also add new items to a list. For that you use the method `append`. Let's see how it works. Say we want to keep a list of all our good reads. We start with an empty list and we will add some good books to it:"
     ]
    },
    {
     "cell_type": "code",
     "collapsed": false,
     "input": [
      "# start with an empty list\n",
      "good_reads = []\n",
      "good_reads.append(\"The Hunger games\")\n",
      "good_reads.append(\"A Clockwork Orange\")\n",
      "print(good_reads)"
     ],
     "language": "python",
     "metadata": {},
     "outputs": []
    },
    {
     "cell_type": "markdown",
     "metadata": {},
     "source": [
      "Now, if for some reason we don't like a particular book anymore, we can change it as follows:"
     ]
    },
    {
     "cell_type": "code",
     "collapsed": false,
     "input": [
      "good_reads[0] = \"Pride and Prejudice\"\n",
      "print(good_reads)"
     ],
     "language": "python",
     "metadata": {},
     "outputs": []
    },
    {
     "cell_type": "markdown",
     "metadata": {},
     "source": [
      "We just changed one element in a list. Note that if you do the same thing for a string, you will get an error:"
     ]
    },
    {
     "cell_type": "code",
     "collapsed": false,
     "input": [
      "name = \"Foltert\"\n",
      "name[3] = \"g\""
     ],
     "language": "python",
     "metadata": {},
     "outputs": []
    },
    {
     "cell_type": "markdown",
     "metadata": {},
     "source": [
      "This is because `strings` (and some other types) are *immutable*. That is, they cannot be changed, as opposed to `list`s which *are* mutable. Let's explore some other ways in which we can manipulate lists. Let's assume our good read collection has grown a lot and we would like to remove some of the books from the list. Python provides the method `remove` that acts upon a list and takes as argument the items we would like to remove. "
     ]
    },
    {
     "cell_type": "code",
     "collapsed": false,
     "input": [
      "good_reads = [\"The Hunger games\", \"A Clockwork Orange\", \n",
      "             \"Pride and Prejudice\", \"Water for Elephants\",\n",
      "             \"The Shadow of the Wind\", \"Bel Canto\"]\n",
      "\n",
      "good_reads.remove(\"Water for Elephants\")\n",
      "\n",
      "print(good_reads)"
     ],
     "language": "python",
     "metadata": {},
     "outputs": []
    },
    {
     "cell_type": "heading",
     "level": 4,
     "metadata": {},
     "source": [
      "remove()"
     ]
    },
    {
     "cell_type": "markdown",
     "metadata": {},
     "source": [
      "If a book we try to remove is not in our collection, Python raises an error (don't be afraid, your computer won't break ;-))"
     ]
    },
    {
     "cell_type": "code",
     "collapsed": false,
     "input": [
      "good_reads.remove(\"White Oleander\")"
     ],
     "language": "python",
     "metadata": {},
     "outputs": []
    },
    {
     "cell_type": "markdown",
     "metadata": {},
     "source": [
      "--------"
     ]
    },
    {
     "cell_type": "heading",
     "level": 4,
     "metadata": {},
     "source": [
      "Quiz!"
     ]
    },
    {
     "cell_type": "markdown",
     "metadata": {},
     "source": [
      "Define a variable `good_reads` as an empty list. Now add some of your favorite books to it and print the last two books you added. "
     ]
    },
    {
     "cell_type": "code",
     "collapsed": false,
     "input": [
      "# insert your code here"
     ],
     "language": "python",
     "metadata": {},
     "outputs": []
    },
    {
     "cell_type": "markdown",
     "metadata": {},
     "source": [
      "------"
     ]
    },
    {
     "cell_type": "markdown",
     "metadata": {},
     "source": [
      "Just as with strings, we can concatenate two lists. Here is an example:"
     ]
    },
    {
     "cell_type": "code",
     "collapsed": false,
     "input": [
      "good_reads = [\"The Hunger games\", \"A Clockwork Orange\", \n",
      "              \"Pride and Prejudice\", \"Water for Elephants\",\n",
      "              \"The Shadow of the Wind\", \"Bel Canto\"]\n",
      "\n",
      "bad_reads = [\"Fifty Shades of Grey\", \"Twilight\"]\n",
      "\n",
      "all_reads = good_reads + bad_reads\n",
      "print(all_reads)"
     ],
     "language": "python",
     "metadata": {},
     "outputs": []
    },
    {
     "cell_type": "heading",
     "level": 4,
     "metadata": {},
     "source": [
      "sort()"
     ]
    },
    {
     "cell_type": "markdown",
     "metadata": {},
     "source": [
      "It is always nice to organize your bookshelf. We can sort our collection with the following expression:"
     ]
    },
    {
     "cell_type": "code",
     "collapsed": false,
     "input": [
      "good_reads.sort()\n",
      "print(good_reads)"
     ],
     "language": "python",
     "metadata": {},
     "outputs": []
    },
    {
     "cell_type": "heading",
     "level": 4,
     "metadata": {},
     "source": [
      "nested lists"
     ]
    },
    {
     "cell_type": "markdown",
     "metadata": {},
     "source": [
      "Until now our lists only consisted of strings. However, a list can contain all kinds of data types, such as integers and even lists!"
     ]
    },
    {
     "cell_type": "code",
     "collapsed": false,
     "input": [
      "nested_list = [[1, 2, 3, 4], [5, 6, 7, 8]]\n",
      "print(nested_list[0])"
     ],
     "language": "python",
     "metadata": {},
     "outputs": []
    },
    {
     "cell_type": "markdown",
     "metadata": {},
     "source": [
      "We can put this to use to enhance our good read collection with a score for every book we have. An entry in our collection will consist of a score within the range of 1 and 10 and the title of our book. The first element is the title; the second the score `[title, score]`. We initialize an empty list:"
     ]
    },
    {
     "cell_type": "code",
     "collapsed": false,
     "input": [
      "good_reads = []"
     ],
     "language": "python",
     "metadata": {},
     "outputs": []
    },
    {
     "cell_type": "markdown",
     "metadata": {},
     "source": [
      "And add two books to it:"
     ]
    },
    {
     "cell_type": "code",
     "collapsed": false,
     "input": [
      "good_reads.append([\"Pride and Prejudice\", 8])\n",
      "good_reads.append([\"A Clockwork Orange\", 9])"
     ],
     "language": "python",
     "metadata": {},
     "outputs": []
    },
    {
     "cell_type": "markdown",
     "metadata": {},
     "source": [
      "---------"
     ]
    },
    {
     "cell_type": "heading",
     "level": 4,
     "metadata": {},
     "source": [
      "Quiz!"
     ]
    },
    {
     "cell_type": "markdown",
     "metadata": {},
     "source": [
      "Update the new collection with you own books and give them all a score. Can you print out the score you gave to the first book in the list? (tip: you can pile up indexes)"
     ]
    },
    {
     "cell_type": "code",
     "collapsed": false,
     "input": [
      "# insert your code here"
     ],
     "language": "python",
     "metadata": {},
     "outputs": []
    },
    {
     "cell_type": "markdown",
     "metadata": {},
     "source": [
      "-----------"
     ]
    },
    {
     "cell_type": "heading",
     "level": 2,
     "metadata": {},
     "source": [
      "Dictionaries"
     ]
    },
    {
     "cell_type": "markdown",
     "metadata": {},
     "source": [
      "Our little good reads collection is starting to look good and we can perform all kinds of manipulations on it. Now, imagine that our list is large and we would like to look up the score we gave to a particular book. How are we goning to find that book? For this purpose Python provides another more appropriate data structure, named `dictionary`. A `dictionary` is similar to the dictionaries you have at home. It consists of entries, or keys, that hold a value. Let's define one:"
     ]
    },
    {
     "cell_type": "code",
     "collapsed": false,
     "input": [
      "my_dict = {\"book\": \"physical objects consisting of a number of pages bound together\",\n",
      "           \"sword\": \"a cutting or thrusting weapon that has a long metal blade\",\n",
      "           \"pie\": \"dish baked in pastry-lined pan often with a pastry top\"}"
     ],
     "language": "python",
     "metadata": {},
     "outputs": []
    },
    {
     "cell_type": "markdown",
     "metadata": {},
     "source": [
      "Notice the curly brackets and the colons. To look up the value of a given key, we `index' the dictionary using that key:"
     ]
    },
    {
     "cell_type": "code",
     "collapsed": false,
     "input": [
      "description = my_dict[\"sword\"]\n",
      "print(description)"
     ],
     "language": "python",
     "metadata": {},
     "outputs": []
    },
    {
     "cell_type": "markdown",
     "metadata": {},
     "source": [
      "Like lists, dictionaries are mutable which means we can add and remove entries from it. Let's define an empty dictionary and add some books to it. The titles will be our keys and the scores their values. Watch the syntax to add a new entry:"
     ]
    },
    {
     "cell_type": "code",
     "collapsed": false,
     "input": [
      "good_reads = {}\n",
      "good_reads[\"Pride and Prejudice\"] = 8\n",
      "good_reads[\"A Clockwork Orange\"] = 9"
     ],
     "language": "python",
     "metadata": {},
     "outputs": []
    },
    {
     "cell_type": "markdown",
     "metadata": {},
     "source": [
      "--------"
     ]
    },
    {
     "cell_type": "heading",
     "level": 4,
     "metadata": {},
     "source": [
      "Quiz!"
     ]
    },
    {
     "cell_type": "markdown",
     "metadata": {},
     "source": [
      "Update the new good reads datastructure with your own books. Try to print out the score your gave for one of the books."
     ]
    },
    {
     "cell_type": "code",
     "collapsed": false,
     "input": [
      "# put your code here"
     ],
     "language": "python",
     "metadata": {},
     "outputs": []
    },
    {
     "cell_type": "markdown",
     "metadata": {},
     "source": [
      "----------"
     ]
    },
    {
     "cell_type": "heading",
     "level": 4,
     "metadata": {},
     "source": [
      "keys(), values()"
     ]
    },
    {
     "cell_type": "markdown",
     "metadata": {},
     "source": [
      "To retrieve a list of all the books we have in our collection, we can ask the dictionary to return its keys as a list:"
     ]
    },
    {
     "cell_type": "code",
     "collapsed": false,
     "input": [
      "good_reads.keys()"
     ],
     "language": "python",
     "metadata": {},
     "outputs": []
    },
    {
     "cell_type": "markdown",
     "metadata": {},
     "source": [
      "Similarly we can ask for the values:"
     ]
    },
    {
     "cell_type": "code",
     "collapsed": false,
     "input": [
      "good_reads.values()"
     ],
     "language": "python",
     "metadata": {},
     "outputs": []
    },
    {
     "cell_type": "heading",
     "level": 2,
     "metadata": {},
     "source": [
      "Conditions"
     ]
    },
    {
     "cell_type": "heading",
     "level": 3,
     "metadata": {},
     "source": [
      "Simple conditions"
     ]
    },
    {
     "cell_type": "markdown",
     "metadata": {},
     "source": [
      "A lot of programmin has to do with executing a certain piece of code if a particular condition holds. We have already seen two conditions above. Here we give a brief overview. Can you figure our what all of the conditions do?"
     ]
    },
    {
     "cell_type": "code",
     "collapsed": false,
     "input": [
      "print(\"2 < 5 =\", 2 < 5)\n",
      "print(\"3 > 7 =\", 3 > 7)\n",
      "print(\"3 == 4 =\", 3 == 4)\n",
      "print(\"school == homework =\", \"school\" == \"homework\")\n",
      "print(\"Python != perl =\", \"Python\" != \"perl\")"
     ],
     "language": "python",
     "metadata": {},
     "outputs": []
    },
    {
     "cell_type": "heading",
     "level": 3,
     "metadata": {},
     "source": [
      "if, elif and else"
     ]
    },
    {
     "cell_type": "markdown",
     "metadata": {},
     "source": [
      "The dictionary is a much better data structure for our good reads collections. However, even with dictionaries we might forget which books we added to the collection. What happens if we try to obtain the score of a book that is not in our collection (and hopefully never will be)?"
     ]
    },
    {
     "cell_type": "code",
     "collapsed": false,
     "input": [
      "good_reads[\"Folgert's awesomeness\"]"
     ],
     "language": "python",
     "metadata": {},
     "outputs": []
    },
    {
     "cell_type": "markdown",
     "metadata": {},
     "source": [
      "We get an error. A `KeyError`, which basically means \"the key you asked me to look up is not in the dictionary\". We will learn a lot more about error handling later, but for now we would like to prevent our program from giving it in the first place. Let's write a little program that prints \"X is in the collection\" if a particular book is in the collection and \"X is NOT in the collection\" if it is not."
     ]
    },
    {
     "cell_type": "code",
     "collapsed": false,
     "input": [
      "book = \"Folgert's awesomeness\"\n",
      "if book in good_reads:\n",
      "    print(book + \" is in the collection\")\n",
      "else:\n",
      "    print(book + \" is not in the collection\")"
     ],
     "language": "python",
     "metadata": {},
     "outputs": []
    },
    {
     "cell_type": "markdown",
     "metadata": {},
     "source": [
      "A lot of new syntax here. Let's go through it step by step. First we ask if the value we assigned to `book` is in our collection. The part after `if` evaluates to either `True` or to `False`. Let's type that in:"
     ]
    },
    {
     "cell_type": "code",
     "collapsed": false,
     "input": [
      "book in good_reads"
     ],
     "language": "python",
     "metadata": {},
     "outputs": []
    },
    {
     "cell_type": "markdown",
     "metadata": {},
     "source": [
      "Because our book is not in the collection, the interpreter returns `False`. Let's do the same thing for a book that we know is in the collection:"
     ]
    },
    {
     "cell_type": "code",
     "collapsed": false,
     "input": [
      "\"A Clockwork Orange\" in good_reads"
     ],
     "language": "python",
     "metadata": {},
     "outputs": []
    },
    {
     "cell_type": "markdown",
     "metadata": {},
     "source": [
      "Back to our `if` statement. If the expression after `if` evaluates to `True` our program will go on to the next line and print `book + \" is in the collection\"`. Let's do that as well:"
     ]
    },
    {
     "cell_type": "code",
     "collapsed": false,
     "input": [
      "if \"A Clockwork Orange\" in good_reads:\n",
      "    print(\"Found it!\")"
     ],
     "language": "python",
     "metadata": {},
     "outputs": []
    },
    {
     "cell_type": "code",
     "collapsed": false,
     "input": [
      "if book in good_reads:\n",
      "    print(\"Found it!\")"
     ],
     "language": "python",
     "metadata": {},
     "outputs": []
    },
    {
     "cell_type": "markdown",
     "metadata": {},
     "source": [
      "Notice that the last print statement is not executed, because the part after `if` did not evaluate to `True`. In our little program above we used another statement besides `if`, namely `else`. It shouldn't be too hard to figure out what's going on here. The part after `else` will be evaluated if the `if` statement evaluated to `False`. In English: if the book is not in the collection, print that is is not."
     ]
    },
    {
     "cell_type": "heading",
     "level": 4,
     "metadata": {},
     "source": [
      "Indentation!"
     ]
    },
    {
     "cell_type": "markdown",
     "metadata": {},
     "source": [
      "Before we continue, we must first explain to you that the layout of our code is not optional. Unlike in other languages, Python does not make use of curly braces to mark the start and end of expressions. The only delimiter is a colon (:) and the indentation of the code. This indentation must be used consistently throughout your code. The convention is to use 4 spaces as indentation. This means that after you have used a colon (such as in our `if` statement) the next line should be indented by four spaces."
     ]
    },
    {
     "cell_type": "markdown",
     "metadata": {},
     "source": [
      "Sometimes we have various conditions that should all evaluate to something different. For that Python provides the `elif` statement. We use it similar to `if` and `else`. Note however that you can only use `elif` after an `if` statement! Above we asked whether a book was in the collection. We can do the same thing for parts of strings or for items in a list. For example we could test whether the letter *a* is in the word *banana*:"
     ]
    },
    {
     "cell_type": "code",
     "collapsed": false,
     "input": [
      "\"a\" in \"banana\""
     ],
     "language": "python",
     "metadata": {},
     "outputs": []
    },
    {
     "cell_type": "markdown",
     "metadata": {},
     "source": [
      "Likewise the following evaluates to `False`:"
     ]
    },
    {
     "cell_type": "code",
     "collapsed": false,
     "input": [
      "\"z\" in \"banana\""
     ],
     "language": "python",
     "metadata": {},
     "outputs": []
    },
    {
     "cell_type": "markdown",
     "metadata": {},
     "source": [
      "Let's use this in an `if-elif-else` combination:"
     ]
    },
    {
     "cell_type": "code",
     "collapsed": false,
     "input": [
      "word = \"rocket science\"\n",
      "if \"a\" in word:\n",
      "    print(word + \" contains the letter a\")\n",
      "elif \"s\" in word:\n",
      "    print(word + \" contains the letter s\")\n",
      "else:\n",
      "    print(\"What a weird word!\")"
     ],
     "language": "python",
     "metadata": {},
     "outputs": []
    },
    {
     "cell_type": "markdown",
     "metadata": {},
     "source": [
      "--------"
     ]
    },
    {
     "cell_type": "heading",
     "level": 4,
     "metadata": {},
     "source": [
      "Quiz!"
     ]
    },
    {
     "cell_type": "markdown",
     "metadata": {},
     "source": [
      "Let's practice our new condition skills a little. Write a small program that defines a variable weight. If the weight is > 50 pounds, print \"There is a $25 charge for luggage that heavy.\" If it is not, print: \"Thank you for your business.\" (Tip make use of the `<` or `>` conditional)"
     ]
    },
    {
     "cell_type": "code",
     "collapsed": false,
     "input": [
      "# insert your code here"
     ],
     "language": "python",
     "metadata": {},
     "outputs": []
    },
    {
     "cell_type": "markdown",
     "metadata": {},
     "source": [
      "-------"
     ]
    },
    {
     "cell_type": "heading",
     "level": 3,
     "metadata": {},
     "source": [
      "and, or, not"
     ]
    },
    {
     "cell_type": "markdown",
     "metadata": {},
     "source": [
      "Until now our conditions consisted of single expresssions. However, quite often we would like to test for multiple conditions and then execute a particular piece of code. Python provides a number of ways to do that. The first is with that statement `and`. `and` allows us to juxtapose two expressions that need to be true in order to make the entire expression evaluate to true. Let's see how that works:"
     ]
    },
    {
     "cell_type": "code",
     "collapsed": false,
     "input": [
      "word = \"banana\"\n",
      "if \"a\" in word and \"b\" in word:\n",
      "    print(\"Both a and b are in \" + word)"
     ],
     "language": "python",
     "metadata": {},
     "outputs": []
    },
    {
     "cell_type": "markdown",
     "metadata": {},
     "source": [
      "If one of the expressions evaluates to False, nothing will be printed:"
     ]
    },
    {
     "cell_type": "code",
     "collapsed": false,
     "input": [
      "if \"a\" in word and \"z\" in word:\n",
      "    print(\"Both a and z are in \" + word)"
     ],
     "language": "python",
     "metadata": {},
     "outputs": []
    },
    {
     "cell_type": "markdown",
     "metadata": {},
     "source": [
      "-------"
     ]
    },
    {
     "cell_type": "heading",
     "level": 4,
     "metadata": {},
     "source": [
      "Quiz!"
     ]
    },
    {
     "cell_type": "markdown",
     "metadata": {},
     "source": [
      "Replace `and` with `or` in the previous condition. What happens? "
     ]
    },
    {
     "cell_type": "markdown",
     "metadata": {},
     "source": [
      "----------"
     ]
    },
    {
     "cell_type": "markdown",
     "metadata": {},
     "source": [
      "Finally we can use `not` to test for conditions that are not true. "
     ]
    },
    {
     "cell_type": "code",
     "collapsed": false,
     "input": [
      "if \"z\" not in word:\n",
      "    print(\"z is not in \" + word)"
     ],
     "language": "python",
     "metadata": {},
     "outputs": []
    },
    {
     "cell_type": "heading",
     "level": 2,
     "metadata": {},
     "source": [
      "Loops"
     ]
    },
    {
     "cell_type": "markdown",
     "metadata": {},
     "source": [
      "Programming is most useful if we can perform a certain action on a range of different elements. For example, given a list of words, we would like to know the length of all words, not just one. Now you *could* do this by going through all the indexes of a list of words and print the length of the words one at a time. Needless to say, this is rather cumbersome. \n",
      "\n",
      "Python provides the socalled `for`-statements that allow us to iterate through any iteratable object and perform action on its elements. For example, we can print all letters of the word *banana* as follows:"
     ]
    },
    {
     "cell_type": "code",
     "collapsed": false,
     "input": [
      "for letter in \"banana\":\n",
      "    print(letter)"
     ],
     "language": "python",
     "metadata": {},
     "outputs": []
    },
    {
     "cell_type": "markdown",
     "metadata": {},
     "source": [
      "Likewise we can print all the items that are contained in a list:"
     ]
    },
    {
     "cell_type": "code",
     "collapsed": false,
     "input": [
      "colors = [\"yellow\", \"red\", \"green\", \"blue\", \"purple\"]\n",
      "for color in colors:\n",
      "    print(color)"
     ],
     "language": "python",
     "metadata": {},
     "outputs": []
    },
    {
     "cell_type": "markdown",
     "metadata": {},
     "source": [
      "-------"
     ]
    },
    {
     "cell_type": "heading",
     "level": 4,
     "metadata": {},
     "source": [
      "Quiz!"
     ]
    },
    {
     "cell_type": "markdown",
     "metadata": {},
     "source": [
      "Write a small program that iterates through the list `colors` and `appends` all colors that contain the letter *r* to the list `colors_with_r`. (Tip use `colors_with_r.append`)"
     ]
    },
    {
     "cell_type": "code",
     "collapsed": false,
     "input": [
      "colors_with_r\n",
      "# insert you code here"
     ],
     "language": "python",
     "metadata": {},
     "outputs": []
    },
    {
     "cell_type": "markdown",
     "metadata": {},
     "source": [
      "The function `len` returns the length of an iterable item."
     ]
    },
    {
     "cell_type": "code",
     "collapsed": false,
     "input": [
      "len(\"banana\")"
     ],
     "language": "python",
     "metadata": {},
     "outputs": []
    },
    {
     "cell_type": "markdown",
     "metadata": {},
     "source": [
      "We can use this function to print the length of each word in the list `colors`. Write your code in the box below"
     ]
    },
    {
     "cell_type": "code",
     "collapsed": false,
     "input": [
      "# insert your code here"
     ],
     "language": "python",
     "metadata": {},
     "outputs": []
    },
    {
     "cell_type": "markdown",
     "metadata": {},
     "source": [
      "-----------"
     ]
    },
    {
     "cell_type": "heading",
     "level": 4,
     "metadata": {},
     "source": [
      "Quiz!"
     ]
    },
    {
     "cell_type": "markdown",
     "metadata": {},
     "source": [
      "Putting it all together! The function `istitle` operates on strings and returns `True` if a word starts with a capital letter."
     ]
    },
    {
     "cell_type": "code",
     "collapsed": false,
     "input": [
      "print('word'.istitle())\n",
      "print('Word'.istitle())"
     ],
     "language": "python",
     "metadata": {},
     "outputs": []
    },
    {
     "cell_type": "code",
     "collapsed": false,
     "input": [],
     "language": "python",
     "metadata": {},
     "outputs": []
    },
    {
     "cell_type": "markdown",
     "metadata": {},
     "source": [
      "-------\n",
      "\n",
      "-------"
     ]
    },
    {
     "cell_type": "code",
     "collapsed": false,
     "input": [
      "from IPython.core.display import HTML\n",
      "def css_styling():\n",
      "    styles = open(\"styles/custom.css\", \"r\").read()\n",
      "    return HTML(styles)\n",
      "css_styling()"
     ],
     "language": "python",
     "metadata": {},
     "outputs": [
      {
       "html": [
        "<style>\n",
        "    @font-face {\n",
        "        font-family: \"Computer Modern\";\n",
        "        src: url('http://mirrors.ctan.org/fonts/cm-unicode/fonts/otf/cmunss.otf');\n",
        "    }\n",
        "    div.cell{\n",
        "        width:800px;\n",
        "        margin-left:auto;\n",
        "        margin-right:auto;\n",
        "    }\n",
        "    h1 {\n",
        "        font-family: \"Charis SIL\", Palatino, serif;\n",
        "    }\n",
        "    h4{\n",
        "        margin-top:12px;\n",
        "        margin-bottom: 3px;\n",
        "       }\n",
        "    div.text_cell_render{\n",
        "        font-family: Computer Modern, \"Helvetica Neue\", Arial, Helvetica, Geneva, sans-serif;\n",
        "        line-height: 145%;\n",
        "        font-size: 120%;\n",
        "        width:800px;\n",
        "        margin-left:auto;\n",
        "        margin-right:auto;\n",
        "    }\n",
        "    .CodeMirror{\n",
        "            font-family: \"Source Code Pro\", source-code-pro,Consolas, monospace;\n",
        "    }\n",
        "    .prompt{\n",
        "        display: None;\n",
        "    }\n",
        "    .text_cell_render h5 {\n",
        "        font-weight: 300;\n",
        "        font-size: 16pt;\n",
        "        color: #4057A1;\n",
        "        font-style: italic;\n",
        "        margin-bottom: .5em;\n",
        "        margin-top: 0.5em;\n",
        "        display: block;\n",
        "    }\n",
        "    \n",
        "    .warning{\n",
        "        color: rgb( 240, 20, 20 )\n",
        "        }\n",
        "</style>\n",
        "<script>\n",
        "    MathJax.Hub.Config({\n",
        "                        TeX: {\n",
        "                           extensions: [\"AMSmath.js\"]\n",
        "                           },\n",
        "                tex2jax: {\n",
        "                    inlineMath: [ ['$','$'], [\"\\\\(\",\"\\\\)\"] ],\n",
        "                    displayMath: [ ['$$','$$'], [\"\\\\[\",\"\\\\]\"] ]\n",
        "                },\n",
        "                displayAlign: 'center', // Change this to 'center' to center equations.\n",
        "                \"HTML-CSS\": {\n",
        "                    styles: {'.MathJax_Display': {\"margin\": 4}}\n",
        "                }\n",
        "        });\n",
        "</script>"
       ],
       "output_type": "pyout",
       "prompt_number": 78,
       "text": [
        "<IPython.core.display.HTML at 0x10b0e9ad0>"
       ]
      }
     ],
     "prompt_number": 78
    },
    {
     "cell_type": "code",
     "collapsed": false,
     "input": [],
     "language": "python",
     "metadata": {},
     "outputs": []
    }
   ],
   "metadata": {}
  }
 ]
}