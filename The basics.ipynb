{
 "metadata": {
  "name": "The basics"
 },
 "nbformat": 3,
 "nbformat_minor": 0,
 "worksheets": [
  {
   "cells": [
    {
     "cell_type": "heading",
     "level": 1,
     "metadata": {},
     "source": [
      "Chapter 2: The basics"
     ]
    },
    {
     "cell_type": "heading",
     "level": 2,
     "metadata": {},
     "source": [
      "String Manipulation"
     ]
    },
    {
     "cell_type": "heading",
     "level": 3,
     "metadata": {},
     "source": [
      "split()"
     ]
    },
    {
     "cell_type": "markdown",
     "metadata": {},
     "source": [
      "We have already seen several forms of string manipulation, such as concatenation using the `+` operator and the use of indices and splices with the `[]` operator. We will now look at some further ways in which strings can be manipulated"
     ]
    },
    {
     "cell_type": "markdown",
     "metadata": {},
     "source": [
      "The `split` method is very convenient in splitting a string into a list. It takes one parameter, the character to split on.\n",
      "\n"
     ]
    },
    {
     "cell_type": "code",
     "collapsed": false,
     "input": [
      "fruitstring = \"banana,pear,apple\"\n",
      "fruitlist = fruitstring.split(',')\n",
      "print(fruitlist)\n",
      "print(fruitlist[1])"
     ],
     "language": "python",
     "metadata": {},
     "outputs": [
      {
       "output_type": "stream",
       "stream": "stdout",
       "text": [
        "['banana', 'pear', 'apple']\n",
        "pear\n"
       ]
      }
     ],
     "prompt_number": 3
    },
    {
     "cell_type": "markdown",
     "metadata": {},
     "source": [
      "\n"
     ]
    },
    {
     "cell_type": "heading",
     "level": 4,
     "metadata": {},
     "source": [
      "Quiz"
     ]
    },
    {
     "cell_type": "markdown",
     "metadata": {},
     "source": [
      "Split the following quote by Alan Turing into a list of words:\n"
     ]
    },
    {
     "cell_type": "code",
     "collapsed": false,
     "input": [
      "quotestring = \"A computer would deserve to be called intelligent if it could deceive a human into believing that it was human\"\n",
      "quotelist = #<..insert your code here>\n"
     ],
     "language": "python",
     "metadata": {},
     "outputs": []
    },
    {
     "cell_type": "markdown",
     "metadata": {},
     "source": [
      "Then, count the number of two-letter words in this list. Do you see why making this a list makes it easier?"
     ]
    },
    {
     "cell_type": "code",
     "collapsed": false,
     "input": [
      "numberoftwoletterwords = 0\n",
      "#<insert your code here>\n",
      "print(numberoftwoletterwords == 5) #This will be True if you've done it right"
     ],
     "language": "python",
     "metadata": {},
     "outputs": [
      {
       "output_type": "stream",
       "stream": "stdout",
       "text": [
        "False\n"
       ]
      }
     ],
     "prompt_number": 8
    },
    {
     "cell_type": "markdown",
     "metadata": {},
     "source": [
      "---"
     ]
    },
    {
     "cell_type": "heading",
     "level": 3,
     "metadata": {},
     "source": [
      "join()"
     ]
    },
    {
     "cell_type": "markdown",
     "metadata": {},
     "source": [
      "The reverse of `split()` function can be accomplished with `join()`, it turns a list into a string, with a specific delimiter."
     ]
    },
    {
     "cell_type": "code",
     "collapsed": false,
     "input": [
      "fruitlist = ['banana','pear','apple']\n",
      "delimiter = \",\"\n",
      "fruitstring = delimiter.join(fruitlist)\n",
      "print(fruitstring)\n"
     ],
     "language": "python",
     "metadata": {},
     "outputs": [
      {
       "output_type": "stream",
       "stream": "stdout",
       "text": [
        "banana pear apple\n"
       ]
      }
     ],
     "prompt_number": 9
    },
    {
     "cell_type": "markdown",
     "metadata": {},
     "source": [
      "The above four lines can be accomplished in a single line if code, can you figure out how?"
     ]
    },
    {
     "cell_type": "heading",
     "level": 4,
     "metadata": {},
     "source": [
      "Quiz"
     ]
    },
    {
     "cell_type": "code",
     "collapsed": false,
     "input": [
      "#<insert your code here>"
     ],
     "language": "python",
     "metadata": {},
     "outputs": []
    },
    {
     "cell_type": "markdown",
     "metadata": {},
     "source": [
      "---"
     ]
    },
    {
     "cell_type": "heading",
     "level": 3,
     "metadata": {},
     "source": [
      "find()"
     ]
    },
    {
     "cell_type": "markdown",
     "metadata": {},
     "source": [
      "If you want to find a certain substring in a string, you can use `find()` on the string. It will return the index at which the substring was found, if the substring is not found it will return `-1`"
     ]
    },
    {
     "cell_type": "code",
     "collapsed": false,
     "input": [
      "text = \"We spend our time searching for security and hate it when we get it\"\n",
      "found = text.find('security')\n",
      "\n",
      "if found == -1:\n",
      "    print(\"No security found! :(\")\n",
      "else:\n",
      "    print(\"Security found at position \" + str(found))"
     ],
     "language": "python",
     "metadata": {},
     "outputs": [
      {
       "output_type": "stream",
       "stream": "stdout",
       "text": [
        "Security found at position 32\n"
       ]
      }
     ],
     "prompt_number": 10
    },
    {
     "cell_type": "heading",
     "level": 4,
     "metadata": {},
     "source": [
      "Quiz"
     ]
    },
    {
     "cell_type": "markdown",
     "metadata": {},
     "source": [
      "Read a text file and see if a specific keyword can be found in the data:"
     ]
    },
    {
     "cell_type": "code",
     "collapsed": false,
     "input": [
      "keyword = \"valetudinarian\"\n",
      "keywordfound = False\n",
      "f = open('data/austen-emma-excerpt.txt','rt', encoding='utf-8')\n",
      "for line in f:\n",
      "    #<insert code here>\n",
      "f.close()\n",
      "if keywordfound:\n",
      "    print(\"Yes! The keyword \" + keyword + \" was found!\")\n",
      "else:\n",
      "    print(\"No! They keyword \" + keyword + \" was not found!\")\n"
     ],
     "language": "python",
     "metadata": {},
     "outputs": []
    },
    {
     "cell_type": "markdown",
     "metadata": {},
     "source": [
      "---"
     ]
    },
    {
     "cell_type": "heading",
     "level": 3,
     "metadata": {},
     "source": [
      "replace()"
     ]
    },
    {
     "cell_type": "markdown",
     "metadata": {},
     "source": [
      "The `replace()` function replaces occurrences of a specified substring with another.\n",
      "\n"
     ]
    },
    {
     "cell_type": "code",
     "collapsed": false,
     "input": [
      "text = \"You can not compare apples and pears\"\n",
      "text = text.replace(\"pears\",\"apples\")\n",
      "text = text.replace(\"not\",\"\")\n",
      "print(text)"
     ],
     "language": "python",
     "metadata": {},
     "outputs": [
      {
       "output_type": "stream",
       "stream": "stdout",
       "text": [
        "You can  compare apples and apples\n"
       ]
      }
     ],
     "prompt_number": 11
    },
    {
     "cell_type": "heading",
     "level": 4,
     "metadata": {},
     "source": [
      "Quiz"
     ]
    },
    {
     "cell_type": "code",
     "collapsed": false,
     "input": [
      "text = \"Research has shown that it is often still possible to understand text even if all vowels are removed\"\n",
      "#<insert code here>.. I suppose it's obvious what we want you to do ;)\n",
      "print(text)\n"
     ],
     "language": "python",
     "metadata": {},
     "outputs": []
    },
    {
     "cell_type": "markdown",
     "metadata": {},
     "source": [
      "---"
     ]
    },
    {
     "cell_type": "heading",
     "level": 3,
     "metadata": {},
     "source": [
      "strip() and newlines"
     ]
    },
    {
     "cell_type": "markdown",
     "metadata": {},
     "source": [
      "Did you notice the double space in the previous example? Whilst this one occurs in the middle. It often happens that a string has extra leading or trailing spaces that you want to get rid of. The `strip()` function does this:"
     ]
    },
    {
     "cell_type": "code",
     "collapsed": false,
     "input": [
      "s = \"   strip me!    \"\n",
      "print(s.strip())"
     ],
     "language": "python",
     "metadata": {},
     "outputs": [
      {
       "output_type": "stream",
       "stream": "stdout",
       "text": [
        "strip me!\n"
       ]
      }
     ],
     "prompt_number": 12
    },
    {
     "cell_type": "markdown",
     "metadata": {},
     "source": [
      "You can also strip any other characters, the following will split spaces and exclamation marks:"
     ]
    },
    {
     "cell_type": "code",
     "collapsed": false,
     "input": [
      "print(s.strip(\" !\"))"
     ],
     "language": "python",
     "metadata": {},
     "outputs": [
      {
       "output_type": "stream",
       "stream": "stdout",
       "text": [
        "strip me\n"
       ]
      }
     ],
     "prompt_number": 13
    },
    {
     "cell_type": "markdown",
     "metadata": {},
     "source": [
      "When no parameters are passed, `strip()` applies to spaces, tabs, and newline characters. A newline character is internally represented as `\"\\n\"` (that is one character) and visualised as if enter was pressed."
     ]
    },
    {
     "cell_type": "code",
     "collapsed": false,
     "input": [
      "s = \"This is the first line.\\nThis is the second line.\"\n",
      "print(s)\n"
     ],
     "language": "python",
     "metadata": {},
     "outputs": [
      {
       "output_type": "stream",
       "stream": "stdout",
       "text": [
        "This is the first line.\n",
        "This is the second line.\n"
       ]
      }
     ],
     "prompt_number": 14
    },
    {
     "cell_type": "heading",
     "level": 4,
     "metadata": {},
     "source": [
      "Quiz"
     ]
    },
    {
     "cell_type": "markdown",
     "metadata": {},
     "source": [
      "Manipulate `s` so the two sentences are not on separate lines but on just one line"
     ]
    },
    {
     "cell_type": "code",
     "collapsed": false,
     "input": [
      "#<Insert your code here>\n",
      "print(s)"
     ],
     "language": "python",
     "metadata": {},
     "outputs": []
    },
    {
     "cell_type": "markdown",
     "metadata": {},
     "source": [
      "---"
     ]
    },
    {
     "cell_type": "heading",
     "level": 3,
     "metadata": {},
     "source": [
      "lower() and upper() - Changing Case"
     ]
    },
    {
     "cell_type": "markdown",
     "metadata": {},
     "source": [
      "Python has two functions for changing the case of a string. `lower()` turns a string to lower case and `upper()` returns an upper-case version"
     ]
    },
    {
     "cell_type": "code",
     "collapsed": false,
     "input": [
      "teachers = \"Folgert Karsdorp and Maarten van Gompel\"\n",
      "print(teachers.lower())\n",
      "print(teachers.upper())\n",
      "      "
     ],
     "language": "python",
     "metadata": {},
     "outputs": [
      {
       "output_type": "stream",
       "stream": "stdout",
       "text": [
        "folgert karsdorp and maarten van gompel\n",
        "FOLGERT KARSDORP AND MAARTEN VAN GOMPEL\n"
       ]
      }
     ],
     "prompt_number": 21
    },
    {
     "cell_type": "heading",
     "level": 4,
     "metadata": {},
     "source": [
      "Quiz"
     ]
    },
    {
     "cell_type": "code",
     "collapsed": false,
     "input": [
      "Count the number of times some form of *bla*, regardless of case, occurs. Making use of one of the two functions you just learnt makes this job easier!"
     ],
     "language": "python",
     "metadata": {},
     "outputs": []
    },
    {
     "cell_type": "code",
     "collapsed": false,
     "input": [
      "words = [\"BlA\",\"plop\",\"blA\",\"Bla\",\"PLoP\",\"bLa\",\"pLop\", \"BLA\"]\n",
      "#<insert your code here>\n",
      "\n"
     ],
     "language": "python",
     "metadata": {},
     "outputs": []
    },
    {
     "cell_type": "markdown",
     "metadata": {},
     "source": [
      "---"
     ]
    },
    {
     "cell_type": "heading",
     "level": 2,
     "metadata": {},
     "source": [
      "Iterables, Iteration & Loops"
     ]
    },
    {
     "cell_type": "heading",
     "level": 3,
     "metadata": {},
     "source": [
      "Tuples & Sets"
     ]
    },
    {
     "cell_type": "markdown",
     "metadata": {},
     "source": [
      "Lists and dictionaries are hugely important data structures and you will see a lot of them. They are almost always combined with the power of iteration using either **for** loops or other methods.\n",
      "\n",
      "In addition to these data structures, there are two others which should be mentioned, these are *tuples* and *sets*.\n",
      "\n",
      "Tuples are ordered collections like lists, but they are *immutable*. Once created, nothing can be added, inserted, deleted or substituted. The syntax for creating a tuple is `()`. Example:\n",
      "\n",
      "\n",
      "\n"
     ]
    },
    {
     "cell_type": "code",
     "collapsed": false,
     "input": [
      "fruittuple = ('banana','apple','pear')\n",
      "print(fruittuple[0])\n",
      "\n"
     ],
     "language": "python",
     "metadata": {},
     "outputs": [
      {
       "output_type": "stream",
       "stream": "stdout",
       "text": [
        "banana\n"
       ]
      }
     ],
     "prompt_number": 3
    },
    {
     "cell_type": "markdown",
     "metadata": {},
     "source": [
      "The following would have worked for lists, but does not for tuples (nor strings as we have seen before):"
     ]
    },
    {
     "cell_type": "code",
     "collapsed": false,
     "input": [
      "fruittuple[0] = 'orange' #will raise an error, tuples are immutable!"
     ],
     "language": "python",
     "metadata": {},
     "outputs": []
    },
    {
     "cell_type": "markdown",
     "metadata": {},
     "source": [
      "A set is an **unordered** data collection an each element can only occur once, elements can be appended or deleted. It is unordered so this implies that you never really know in what order you get the elements when you iterate over the set. The syntax for creating a set is `{}`. this is not to be confused with dictionaries, those take `key: value`  pairs where sets just take single elements.\n"
     ]
    },
    {
     "cell_type": "code",
     "collapsed": false,
     "input": [
      "fruitset = {'banana','apple','pear'}\n",
      "fruitset.add('banana') #will have no effect, banana already exists\n",
      "print(fruitset)\n",
      "fruitset.add('orange')\n",
      "print(fruitset)\n",
      "\n"
     ],
     "language": "python",
     "metadata": {},
     "outputs": [
      {
       "output_type": "stream",
       "stream": "stdout",
       "text": [
        "{'pear', 'apple', 'banana'}\n",
        "{'orange', 'pear', 'apple', 'banana'}\n"
       ]
      }
     ],
     "prompt_number": 1
    },
    {
     "cell_type": "markdown",
     "metadata": {},
     "source": [
      "---\n"
     ]
    },
    {
     "cell_type": "heading",
     "level": 3,
     "metadata": {},
     "source": [
      "enumerate()"
     ]
    },
    {
     "cell_type": "markdown",
     "metadata": {},
     "source": [
      "Lists, sets, tuples, dictionaries and even strings are often called *iterables*, as they are all collections over which can be iterated. Various functions exists to aid in iteration. One such function is `enumerate()`, for each item it returns, it will also return its index number. When using enumarate in a for loop, you have to catch both these variables as shown in the example below.\n"
     ]
    },
    {
     "cell_type": "markdown",
     "metadata": {},
     "source": [
      "**Advanced background:** enumerate() acts as if it returns a list of 2-tuples, where for each 2-tuple the first element is the index number, and the second element the item itself."
     ]
    },
    {
     "cell_type": "code",
     "collapsed": false,
     "input": [
      "for i, fruit in enumerate(fruittuple):\n",
      "    print(\"Fruit #\" + str(i+1) + \" is a \" + fruit)"
     ],
     "language": "python",
     "metadata": {},
     "outputs": [
      {
       "output_type": "stream",
       "stream": "stdout",
       "text": [
        "Fruit #1 is a banana\n",
        "Fruit #2 is a apple\n",
        "Fruit #3 is a pear\n"
       ]
      }
     ],
     "prompt_number": 7
    },
    {
     "cell_type": "heading",
     "level": 3,
     "metadata": {},
     "source": [
      "Quiz"
     ]
    },
    {
     "cell_type": "markdown",
     "metadata": {},
     "source": [
      "Did you see that output? \"A apple?\" That's not proper English! Correct the script so it uses \"an\" when the word starts with a vowel.\n"
     ]
    },
    {
     "cell_type": "code",
     "collapsed": false,
     "input": [
      "#<insert your code here>"
     ],
     "language": "python",
     "metadata": {},
     "outputs": []
    },
    {
     "cell_type": "markdown",
     "metadata": {},
     "source": [
      "---"
     ]
    },
    {
     "cell_type": "heading",
     "level": 3,
     "metadata": {},
     "source": [
      "zip()"
     ]
    },
    {
     "cell_type": "markdown",
     "metadata": {},
     "source": [
      "This has nothing to do with file archives (zip files). The zip() function is used to join together two elements from separate lists of the same length. Just visualise a zipper and the way the two sides magically come together whenever you close your jacket, each chain in the zipper former a nice pair with its counterpart.\n"
     ]
    },
    {
     "cell_type": "markdown",
     "metadata": {},
     "source": [
      "**Advanced background:** zip() acts as if it returns a list of 2-tuples, where for each 2-tuple the first element is the element from the first list, and the second element comes from the second list"
     ]
    },
    {
     "cell_type": "code",
     "collapsed": false,
     "input": [
      "fruits = ['banana','apple','pear']\n",
      "prices = [0.89,0.34,0.44]\n",
      "for fruit, price in zip(fruits, prices):\n",
      "    print(fruit + \"s, now only \" + str(price) + \" each!\")"
     ],
     "language": "python",
     "metadata": {},
     "outputs": [
      {
       "output_type": "stream",
       "stream": "stdout",
       "text": [
        "bananas, now only 0.89 each!\n",
        "apples, now only 0.34 each!\n",
        "pears, now only 0.44 each!\n"
       ]
      }
     ],
     "prompt_number": 10
    },
    {
     "cell_type": "markdown",
     "metadata": {},
     "source": [
      "Here we use two lists, but we can also rewrite this whole code to use one single data structure, very suited for such a task. Try!\n"
     ]
    },
    {
     "cell_type": "code",
     "collapsed": false,
     "input": [
      "#<insert your code here>"
     ],
     "language": "python",
     "metadata": {},
     "outputs": []
    },
    {
     "cell_type": "markdown",
     "metadata": {},
     "source": [
      "---"
     ]
    },
    {
     "cell_type": "heading",
     "level": 3,
     "metadata": {},
     "source": [
      "sorted() and reverse()"
     ]
    },
    {
     "cell_type": "markdown",
     "metadata": {},
     "source": [
      "Often you want to iterate over your data in a sorted manner. The `sorted()` function will take any iterable and return the elements in sorted order. For strings this is alphabetical order, for numbers this is numerical order.\n",
      "\n"
     ]
    },
    {
     "cell_type": "code",
     "collapsed": false,
     "input": [
      "fruits = ['banana','apple','pear']\n",
      "for fruit in sorted(fruits):\n",
      "    print(fruit)\n",
      "    "
     ],
     "language": "python",
     "metadata": {},
     "outputs": [
      {
       "output_type": "stream",
       "stream": "stdout",
       "text": [
        "apple\n",
        "banana\n",
        "pear\n"
       ]
      }
     ],
     "prompt_number": 2
    },
    {
     "cell_type": "markdown",
     "metadata": {},
     "source": [
      "Reverse order is also possible by using `reversed()`, which simply returns the elements in any iterable in reverse order:"
     ]
    },
    {
     "cell_type": "code",
     "collapsed": false,
     "input": [
      "for fruit in reversed(fruits):\n",
      "    print(fruit)"
     ],
     "language": "python",
     "metadata": {},
     "outputs": [
      {
       "output_type": "stream",
       "stream": "stdout",
       "text": [
        "pear\n",
        "apple\n",
        "banana\n"
       ]
      }
     ],
     "prompt_number": 8
    },
    {
     "cell_type": "heading",
     "level": 4,
     "metadata": {},
     "source": [
      "Quiz"
     ]
    },
    {
     "cell_type": "markdown",
     "metadata": {},
     "source": [
      "Given a list of words, output only the ones that are palindromes. As you know, a palindrome is a word that does not change when read backwards. For extra challenge, output the palindromes in alphabetic order."
     ]
    },
    {
     "cell_type": "code",
     "collapsed": false,
     "input": [
      "words = ['bicycle','radar','origin','tie', 'level', 'poop', 'solar', 'nun']\n",
      "#<Insert your code here>"
     ],
     "language": "python",
     "metadata": {},
     "outputs": []
    },
    {
     "cell_type": "heading",
     "level": 4,
     "metadata": {},
     "source": [
      "Quiz"
     ]
    },
    {
     "cell_type": "markdown",
     "metadata": {},
     "source": [
      "There are also words which are not palindromes, but when reversed another existing word emerges. Consider the words *stressed* and *desserts*. We give you a text that contains a few of them, output all pairs that occur in the text (regardless of case).\n",
      "\n",
      "\n",
      "\n"
     ]
    },
    {
     "cell_type": "code",
     "collapsed": false,
     "input": [
      "text = \"I just live for desserts , I really love them . My dog does too . I saw he ate mine . I was very stressed because of that . If dogs steal desserts God can't be real , for it is pure evil .\" \n",
      "#<insert your code here>"
     ],
     "language": "python",
     "metadata": {},
     "outputs": []
    },
    {
     "cell_type": "markdown",
     "metadata": {},
     "source": [
      "Notice that the punctuation in the text we provided is detached from the words? This is tokenisation and made the exercise easier. Tokenisation is a very necessary first step in most NLP applications. We will get back to it later."
     ]
    },
    {
     "cell_type": "markdown",
     "metadata": {},
     "source": [
      "---"
     ]
    },
    {
     "cell_type": "heading",
     "level": 3,
     "metadata": {},
     "source": [
      "min(), max() and sum()"
     ]
    },
    {
     "cell_type": "code",
     "collapsed": false,
     "input": [
      "When dealing with lists of numbers, there are three functions which come in handy:"
     ],
     "language": "python",
     "metadata": {},
     "outputs": []
    },
    {
     "cell_type": "code",
     "collapsed": false,
     "input": [
      "numbers = [1,2,3,4,5]\n",
      "print(min(numbers))\n",
      "print(max(numbers))\n",
      "print(sum(numbers))\n"
     ],
     "language": "python",
     "metadata": {},
     "outputs": [
      {
       "output_type": "stream",
       "stream": "stdout",
       "text": [
        "1\n",
        "5\n",
        "15\n"
       ]
      }
     ],
     "prompt_number": 9
    },
    {
     "cell_type": "heading",
     "level": 4,
     "metadata": {},
     "source": [
      "Quiz"
     ]
    },
    {
     "cell_type": "markdown",
     "metadata": {},
     "source": [
      "Compute the average of `numbers`:"
     ]
    },
    {
     "cell_type": "code",
     "collapsed": false,
     "input": [
      "#<insert code here>"
     ],
     "language": "python",
     "metadata": {},
     "outputs": []
    },
    {
     "cell_type": "markdown",
     "metadata": {},
     "source": [
      "---"
     ]
    },
    {
     "cell_type": "heading",
     "level": 3,
     "metadata": {},
     "source": [
      "List comprehensions"
     ]
    },
    {
     "cell_type": "markdown",
     "metadata": {},
     "source": [
      "List comprehensions are a powerful tool in Python to quickly manipulate lists. A list comprehension can replace a more explicit **for** loop on a single line. Consider the following example: "
     ]
    },
    {
     "cell_type": "code",
     "collapsed": false,
     "input": [
      "numbers = [ 1,2,3,4,5 ]\n",
      "doublenumbers = [ x*2 for x in numbers ]\n",
      "print(doublenumbers)"
     ],
     "language": "python",
     "metadata": {},
     "outputs": [
      {
       "output_type": "stream",
       "stream": "stdout",
       "text": [
        "[2, 4, 6, 8, 10]\n"
       ]
      }
     ],
     "prompt_number": 10
    },
    {
     "cell_type": "markdown",
     "metadata": {},
     "source": [
      "This is not the same as the normal **for** loop you are hopefully accustomed to by now, but similar. The entire expression always takes place within square brackets `[]` , indicating it is a list we want. Anything you can do with list comprehensions you can also do without, but they add a certain elegance and are a quick way of working."
     ]
    },
    {
     "cell_type": "heading",
     "level": 4,
     "metadata": {},
     "source": [
      "Quiz"
     ]
    },
    {
     "cell_type": "code",
     "collapsed": false,
     "input": [
      "numbers = [ 1,2,3,4,5 ]\n",
      "#<insert your code here, it must be on one line and must be a list comprehension using numbers>\n",
      "assert numbers == [ 3,4,5,6,7 ]\n"
     ],
     "language": "python",
     "metadata": {},
     "outputs": []
    },
    {
     "cell_type": "markdown",
     "metadata": {},
     "source": [
      "---"
     ]
    },
    {
     "cell_type": "heading",
     "level": 2,
     "metadata": {},
     "source": [
      "Importing external modules"
     ]
    },
    {
     "cell_type": "markdown",
     "metadata": {},
     "source": [
      "Most of the things we have seen thus far are all built-in. Often however you need to use external modules in your code. A lot of external modules are available in the Python Standard Library, for a wide variety of tasks. There are also countless third-party providers of Python modules.\n",
      "\n",
      "To use an external module in your code you need to explicitly import it. Consider for example the module `random` from the standard library, which contains functions for generating random numbers:"
     ]
    },
    {
     "cell_type": "code",
     "collapsed": false,
     "input": [
      "import random\n",
      "print(random.randint(0,100))"
     ],
     "language": "python",
     "metadata": {},
     "outputs": [
      {
       "output_type": "stream",
       "stream": "stdout",
       "text": [
        "83\n"
       ]
      }
     ],
     "prompt_number": 19
    },
    {
     "cell_type": "markdown",
     "metadata": {},
     "source": [
      "You can import an entire module or import only a specific function in the module. We could have also imported as follows:"
     ]
    },
    {
     "cell_type": "code",
     "collapsed": false,
     "input": [
      "from random import randint\n",
      "print(randint(0,100))\n"
     ],
     "language": "python",
     "metadata": {},
     "outputs": [
      {
       "output_type": "stream",
       "stream": "stdout",
       "text": [
        "23\n"
       ]
      }
     ],
     "prompt_number": 17
    },
    {
     "cell_type": "markdown",
     "metadata": {},
     "source": [
      "You can even change the names of the functions you import:"
     ]
    },
    {
     "cell_type": "code",
     "collapsed": false,
     "input": [
      "from random import randint as gimmearandomnumberplease\n",
      "print(gimmearandomnumberplease(0,100))"
     ],
     "language": "python",
     "metadata": {},
     "outputs": [
      {
       "output_type": "stream",
       "stream": "stdout",
       "text": [
        "60\n"
       ]
      }
     ],
     "prompt_number": 18
    },
    {
     "cell_type": "markdown",
     "metadata": {},
     "source": [
      "---"
     ]
    },
    {
     "cell_type": "heading",
     "level": 2,
     "metadata": {},
     "source": [
      "While loop"
     ]
    },
    {
     "cell_type": "markdown",
     "metadata": {},
     "source": [
      "There is also another form of loop in Python, and most other programming languages. This is the `while` loop which will run as long the specified condition is satisfied."
     ]
    },
    {
     "cell_type": "code",
     "collapsed": false,
     "input": [
      "import random\n",
      "\n",
      "number = 0\n",
      "while number != 42:\n",
      "    number = random.randint(0,100)\n",
      "    print(number)"
     ],
     "language": "python",
     "metadata": {},
     "outputs": [
      {
       "output_type": "stream",
       "stream": "stdout",
       "text": [
        "34\n",
        "33\n",
        "50\n",
        "87\n",
        "53\n",
        "15\n",
        "92\n",
        "64\n",
        "68\n",
        "16\n",
        "26\n",
        "39\n",
        "69\n",
        "33\n",
        "11\n",
        "10\n",
        "44\n",
        "41\n",
        "40\n",
        "86\n",
        "6\n",
        "78\n",
        "42\n"
       ]
      }
     ],
     "prompt_number": 15
    },
    {
     "cell_type": "markdown",
     "metadata": {},
     "source": [
      "---"
     ]
    },
    {
     "cell_type": "heading",
     "level": 2,
     "metadata": {},
     "source": [
      "Functions"
     ]
    },
    {
     "cell_type": "markdown",
     "metadata": {},
     "source": [
      "In this chapter you have already seen lots of functions. A function does something, often based on some input you pass to it, and generally returns a result. You are not just limited to using functions available built-in, in the standard library, or by external parties, but you can also write your own functions.\n",
      "\n",
      "In fact, you *must* write your own functions. Separating your problem into sub-problems and writing a function for each of those is an immensely important part of well-structured programming.\n",
      "\n",
      "We start with a trivial function, functions are defined using the `def` keyword, they take a name and optionally a number of parameters. The `return` statement returns a value back to the caller and always ends the execution of the function."
     ]
    },
    {
     "cell_type": "code",
     "collapsed": false,
     "input": [
      "def multiply(x,y):\n",
      "    return x * y\n",
      "\n",
      "z = multiply(2,5)\n",
      "print(z)"
     ],
     "language": "python",
     "metadata": {},
     "outputs": [
      {
       "output_type": "stream",
       "stream": "stdout",
       "text": [
        "10\n"
       ]
      }
     ],
     "prompt_number": 20
    },
    {
     "cell_type": "markdown",
     "metadata": {},
     "source": [
      "Now something more substanstial, this function counts the number of articles (the, a, an) in a list of words:"
     ]
    },
    {
     "cell_type": "code",
     "collapsed": false,
     "input": [
      "def countarticles(tokens):\n",
      "    count = 0\n",
      "    for token in tokens:\n",
      "        if token.lower() in ('the','a','an'):\n",
      "            count += 1\n",
      "    return count\n",
      "         \n",
      "    \n",
      "text = \"A bit less trivial , this function counts the number of articles ( the , a , an ) in a list of words\"\n",
      "print(countarticles(text.split(\" \")))"
     ],
     "language": "python",
     "metadata": {},
     "outputs": []
    },
    {
     "cell_type": "markdown",
     "metadata": {},
     "source": []
    },
    {
     "cell_type": "markdown",
     "metadata": {},
     "source": [
      "---"
     ]
    },
    {
     "cell_type": "code",
     "collapsed": false,
     "input": [
      "from IPython.core.display import HTML\n",
      "def css_styling():\n",
      "    styles = open(\"styles/custom.css\", \"r\").read()\n",
      "    return HTML(styles)\n",
      "css_styling()"
     ],
     "language": "python",
     "metadata": {},
     "outputs": [
      {
       "html": [
        "<style>\n",
        "    @font-face {\n",
        "        font-family: \"Computer Modern\";\n",
        "        src: url('http://mirrors.ctan.org/fonts/cm-unicode/fonts/otf/cmunss.otf');\n",
        "    }\n",
        "    div.cell{\n",
        "        width:800px;\n",
        "        margin-left:auto;\n",
        "        margin-right:auto;\n",
        "    }\n",
        "    h1 {\n",
        "        font-family: \"Charis SIL\", Palatino, serif;\n",
        "    }\n",
        "    h4{\n",
        "        margin-top:12px;\n",
        "        margin-bottom: 3px;\n",
        "       }\n",
        "    div.text_cell_render{\n",
        "        font-family: Computer Modern, \"Helvetica Neue\", Arial, Helvetica, Geneva, sans-serif;\n",
        "        line-height: 145%;\n",
        "        font-size: 120%;\n",
        "        width:800px;\n",
        "        margin-left:auto;\n",
        "        margin-right:auto;\n",
        "    }\n",
        "    .CodeMirror{\n",
        "            font-family: \"Source Code Pro\", source-code-pro,Consolas, monospace;\n",
        "    }\n",
        "    .prompt{\n",
        "        display: None;\n",
        "    }\n",
        "    .text_cell_render h5 {\n",
        "        font-weight: 300;\n",
        "        font-size: 16pt;\n",
        "        color: #4057A1;\n",
        "        font-style: italic;\n",
        "        margin-bottom: .5em;\n",
        "        margin-top: 0.5em;\n",
        "        display: block;\n",
        "    }\n",
        "    \n",
        "    .warning{\n",
        "        color: rgb( 240, 20, 20 )\n",
        "        }\n",
        "</style>\n",
        "<script>\n",
        "    MathJax.Hub.Config({\n",
        "                        TeX: {\n",
        "                           extensions: [\"AMSmath.js\"]\n",
        "                           },\n",
        "                tex2jax: {\n",
        "                    inlineMath: [ ['$','$'], [\"\\\\(\",\"\\\\)\"] ],\n",
        "                    displayMath: [ ['$$','$$'], [\"\\\\[\",\"\\\\]\"] ]\n",
        "                },\n",
        "                displayAlign: 'center', // Change this to 'center' to center equations.\n",
        "                \"HTML-CSS\": {\n",
        "                    styles: {'.MathJax_Display': {\"margin\": 4}}\n",
        "                }\n",
        "        });\n",
        "</script>"
       ],
       "output_type": "pyout",
       "prompt_number": 1,
       "text": [
        "<IPython.core.display.HTML at 0x109852a10>"
       ]
      }
     ],
     "prompt_number": 1
    },
    {
     "cell_type": "code",
     "collapsed": false,
     "input": [],
     "language": "python",
     "metadata": {},
     "outputs": []
    }
   ],
   "metadata": {}
  }
 ]
}