{
 "cells": [
  {
   "cell_type": "markdown",
   "metadata": {},
   "source": [
    "Chapitre 10 - Session utilisations et Insertions SQL\n",
    "===\n",
    "\n",
    "## Bibliographie\n",
    "\n",
    "- [Formulaires avec WTForms](https://blog.miguelgrinberg.com/post/the-flask-mega-tutorial-part-iii-web-forms)\n",
    "- [How NOT to Store Passwords](https://www.youtube.com/watch?v=8ZtInClXe1Q)"
   ]
  },
  {
   "cell_type": "code",
   "execution_count": 1,
   "metadata": {},
   "outputs": [
    {
     "data": {
      "text/html": [
       "<iframe width=\"560\" height=\"315\" src=\"https://www.youtube-nocookie.com/embed/8ZtInClXe1Q\" frameborder=\"0\" allow=\"autoplay; encrypted-media\" allowfullscreen></iframe>"
      ],
      "text/plain": [
       "<IPython.core.display.HTML object>"
      ]
     },
     "execution_count": 1,
     "metadata": {},
     "output_type": "execute_result"
    }
   ],
   "source": [
    "from IPython.display import HTML\n",
    "HTML('<iframe width=\"560\" height=\"315\" src=\"https://www.youtube-nocookie.com/embed/8ZtInClXe1Q\" frameborder=\"0\" allow=\"autoplay; encrypted-media\" allowfullscreen></iframe>')"
   ]
  },
  {
   "cell_type": "markdown",
   "metadata": {},
   "source": [
    "## Créer des comptes\n",
    "\n",
    "La création de compte est une des tâches les plus courantes dans le cadre d'un développement d'application. C'est aussi une des plus dangereuses : vous êtes responsables de la sécurité de vos utilisateurs et de leurs données. On apprendra donc ici à sécuriser un maximum nos données sensibles.\n",
    "\n",
    "### Gérer des mots de passe\n",
    "\n",
    "Pour enregister un mot de passe, on va *a minima* encrypter ce mot de passe. On utilise d'ailleurs à mauvais escient ce terme car ce que l'on va calculer réellement est un hash. Contrairement à l'encryptage, le hash n'est pas reversible. Si quelque chose est hashé en \"qqewretet\", la seule manière de trouver l'original est de \"brute-forcer\" ce dernier, c'est à dire de générer tous les mots de passe possibles (ce qui est, disons le, plutôt difficile).\n",
    "\n",
    "L'autre manière de casser un Hash, c'est d'avoir la malchance d'avoir l'algorithme de hashage de cassé. On en trouve trois actuellement recommandés (*cf.* *[\n",
    "About Secure Password Hashing](http://security.blogoverflow.com/2013/09/about-secure-password-hashing/)*) :\n",
    "- PBKDF2\n",
    "- bcrypt\n",
    "- scrypt\n",
    "\n",
    "Une personne a déjà produit [un plugin](https://bitbucket.org/mhallin/py-scrypt/src) pour utiliser `scrypt`. Installons le :"
   ]
  },
  {
   "cell_type": "code",
   "execution_count": 3,
   "metadata": {},
   "outputs": [
    {
     "name": "stdout",
     "output_type": "stream",
     "text": [
      "Requirement already satisfied: scrypt in ./env/lib/python3.5/site-packages\r\n"
     ]
    }
   ],
   "source": [
    "# Afin d'éviter un aller-retour dans l'environnement virtuel :\n",
    "!pip install scrypt"
   ]
  },
  {
   "cell_type": "markdown",
   "metadata": {},
   "source": [
    "Le plugin `scrypt` possède une fonction simple `encrypt(sel, motdepasse, maxtime=0.1)` où maxtime est un décimal représentant le temps d'encryptage maximum :"
   ]
  },
  {
   "cell_type": "code",
   "execution_count": 19,
   "metadata": {},
   "outputs": [
    {
     "name": "stdout",
     "output_type": "stream",
     "text": [
      "b\"\\xe1\\x08\\xfd\\xdeO\\xae\\xd4s_\\xf1\\x08\\xa0\\x1fq\\xb1C\\xcaK<\\xfbB\\xd2\\x08\\xd2:\\xa8\\xb4\\xf1q\\xa1\\xe9\\x96,.\\xdbg&\\xfd\\xa9\\xaa\\xee\\xe1'.q\\xc97\\xf4\\x02A\\xf0\\x9fr\\xfd+{h\\x86\\xa3[*o\\x85\\xe1\"\n"
     ]
    }
   ],
   "source": [
    "import scrypt\n",
    "print(scrypt.hash(\"motdepasse\", \"un petit sel en passant par là\"))"
   ]
  },
  {
   "cell_type": "markdown",
   "metadata": {},
   "source": [
    "Nous avons ici une chaîne en `bytes` : elle repose sur un encodage différent de l'encodage UTF-8 de `str()`. Pour des raisons propres à l'utf-8, il est fort probable que le côté aléatoire de `scrypt` rende le hash de mot de passe intraduisible en UTF-8."
   ]
  },
  {
   "cell_type": "markdown",
   "metadata": {},
   "source": [
    "#### Constante de \"SEL\" (*salt*)\n",
    "\n",
    "Pour notre application, nous allons intégrer un nouveau module pour stocker nos constantes. Cela permettra de gérer les configurations générales plus proprement : créons donc `gazetteer/constantes.py` où nous stockons ce sel."
   ]
  },
  {
   "cell_type": "code",
   "execution_count": 24,
   "metadata": {},
   "outputs": [],
   "source": [
    "%pycat cours-flask/exemple16/gazetteer/constantes.py"
   ]
  },
  {
   "cell_type": "markdown",
   "metadata": {},
   "source": [
    "Le sel devant être unique et non-devinable, on rajoute un avertissement au cas où la personne mettant ce site en fonctionnement n'avait pas connaissance de ce changement de configuration."
   ]
  },
  {
   "cell_type": "markdown",
   "metadata": {},
   "source": [
    "#### Méthode propre\n",
    "\n",
    "On va maintenant créer une fonction pour vérifier une connexion. Rappel de notre classe `User`:\n",
    "\n",
    "```python\n",
    "class User(db.Model):\n",
    "    user_id = db.Column(db.Integer, unique=True, nullable=False, primary_key=True, autoincrement=True)\n",
    "    user_nom = db.Column(db.Text, nullable=False)\n",
    "    user_login = db.Column(db.String(45), nullable=False, unique=True)\n",
    "    user_email = db.Column(db.Text, nullable=False)\n",
    "    user_password = db.Column(db.String(64), nullable=False)\n",
    "```"
   ]
  },
  {
   "cell_type": "markdown",
   "metadata": {},
   "source": [
    "Pour vérifier la validité de de l'identification de l'utilisateur, on va retrouver l'utilisateur, comparer le hash généré du mot de passe avec celui enregistré :\n",
    "\n",
    "```python\n",
    "def identification(login, motdepasse):\n",
    "    \"\"\" Identifie un utilisateur. Si cela fonctionne, renvoie les données de l'utilisateurs.\n",
    "    \n",
    "    :param login: Login de l'utilisateur\n",
    "    :param motdepasse: Mot de passe envoyé par l'utilisateur\n",
    "    :returns: Si réussite, données de l'utilisateur. Sinon None\n",
    "    :rtype: User or None\n",
    "    \"\"\"\n",
    "    utilisateur = User.query.filter(User.user_login == login)\n",
    "    if motdepasse == scrypt.hash(motdepasse, SEL):\n",
    "        return utilisateur\n",
    "    return None\n",
    "```\n",
    "\n",
    "Pour que cette fonction soit facile à retrouver, on va l'enregistrer sous la responsabilité de la classe `User` :\n",
    "\n",
    "```python\n",
    "class User(db.Model):\n",
    "    user_id = db.Column(db.Integer, unique=True, nullable=False, primary_key=True, autoincrement=True)\n",
    "    user_nom = db.Column(db.Text, nullable=False)\n",
    "    user_login = db.Column(db.String(45), nullable=False, unique=True)\n",
    "    user_email = db.Column(db.Text, nullable=False)\n",
    "    user_password = db.Column(db.String(64), nullable=False)\n",
    "    \n",
    "    @staticmethod\n",
    "    def identification(login, motdepasse):\n",
    "        \"\"\" Identifie un utilisateur. Si cela fonctionne, renvoie les données de l'utilisateurs.\n",
    "\n",
    "        :param login: Login de l'utilisateur\n",
    "        :param motdepasse: Mot de passe envoyé par l'utilisateur\n",
    "        :returns: Si réussite, données de l'utilisateur. Sinon None\n",
    "        :rtype: User or None\n",
    "        \"\"\"\n",
    "        utilisateur = User.query.filter(User.user_login == login)\n",
    "        if motdepasse == scrypt.hash(motdepasse, SEL):\n",
    "            return utilisateur\n",
    "        return None\n",
    "```\n",
    "\n",
    "On précède notre fonction de `@staticmethod` pour mettre d'appeler cette fonction ainsi :\n",
    "\n",
    "```python\n",
    "utilisateur = User.identification(login, motdepasse)\n",
    "```"
   ]
  },
  {
   "cell_type": "markdown",
   "metadata": {},
   "source": [
    "#### Premier insert\n",
    "\n",
    "On va maintenant effectuer notre premier insert ! Et oui, il va falloir créer des comptes. Pour créer un compte, il nous faudra aussi une fonction de création de compte.\n",
    "\n",
    "Pour créer un enregistrement ou une mise à jour, MySQL et SQLAlchemy fonctionne par session de changement, un peu comme git : on crée un ensemble de modification, on les stocke pour l'envoi (`db.session.add(lachoseaenvoyer)`) et on envoie à MySQL (`db.session.commit()`). Prenez le temps de bien lire le contenu qui suit :\n",
    "\n",
    "```python\n",
    "class User(db.model):\n",
    "    # ...\n",
    "    @staticmethod\n",
    "    def creer(login, email, nom, motdepasse):\n",
    "        \"\"\" Crée un compte utilisateur-rice. Retourne un tuple (booléen, User ou liste).\n",
    "        Si il y a une erreur, la fonction renvoie False suivi d'une liste d'erreur\n",
    "        Sinon, elle renvoie True suivi de la donnée enregistrée\n",
    "\n",
    "        :param login: Login de l'utilisateur-rice\n",
    "        :param email: Email de l'utilisateur-rice\n",
    "        :param nom: Nom de l'utilisateur-rice\n",
    "        :param motdepasse: Mot de passe de l'utilisateur-rice (Minimum 6 caractères)\n",
    "\n",
    "        \"\"\"\n",
    "        erreurs = []\n",
    "        if not login:\n",
    "            erreurs.append(\"Le login fourni est vide\")\n",
    "        if not email:\n",
    "            erreurs.append(\"L'email fourni est vide\")\n",
    "        if not nom:\n",
    "            erreurs.append(\"Le nom fourni est vide\")\n",
    "        if not motdepasse or len(motdepasse) < 6:\n",
    "            erreurs.append(\"Le mot de passe fourni est vide ou trop court\")\n",
    "\n",
    "        # On vérifie que personne n'a utilisé cet email ou ce login\n",
    "        uniques = User.query.filter(\n",
    "            db.or_(User.user_email == email, User.user_login == login)\n",
    "        ).count()\n",
    "        if uniques > 0:\n",
    "            erreurs.append(\"L'email ou le login sont déjà inscrits dans notre base de données\")\n",
    "\n",
    "        # Si on a au moins une erreur\n",
    "        if len(erreurs) > 0:\n",
    "            return False, erreurs\n",
    "\n",
    "        # On crée un utilisateur\n",
    "        utilisateur = User(\n",
    "            user_nom=nom,\n",
    "            user_login=login,\n",
    "            user_email=email,\n",
    "            user_password=scrypt.hash(motdepasse, SEL)\n",
    "        )\n",
    "\n",
    "        try:\n",
    "            # On l'ajoute au transport vers la base de données\n",
    "            db.session.add(utilisateur)\n",
    "            # On envoie le paquet\n",
    "            db.session.commit()\n",
    "\n",
    "            # On renvoie l'utilisateur\n",
    "            return True, utilisateur\n",
    "        except Exception as erreur:\n",
    "            return False, [str(erreur)]\n",
    "```\n",
    "\n",
    "On ajoute ensuite la route pour s'inscrire (ainsi qu'un lien dans le menu !) :\n",
    "\n",
    "```python\n",
    "\n",
    "```\n"
   ]
  }
 ],
 "metadata": {
  "kernelspec": {
   "display_name": "Python 3",
   "language": "python",
   "name": "python3"
  },
  "language_info": {
   "codemirror_mode": {
    "name": "ipython",
    "version": 3
   },
   "file_extension": ".py",
   "mimetype": "text/x-python",
   "name": "python",
   "nbconvert_exporter": "python",
   "pygments_lexer": "ipython3",
   "version": "3.5.2"
  }
 },
 "nbformat": 4,
 "nbformat_minor": 2
}
